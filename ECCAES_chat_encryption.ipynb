{
 "cells": [
  {
   "cell_type": "code",
   "execution_count": null,
   "id": "15fecb12",
   "metadata": {},
   "outputs": [],
   "source": []
  },
  {
   "cell_type": "code",
   "execution_count": 209,
   "id": "0d808549",
   "metadata": {},
   "outputs": [
    {
     "name": "stdout",
     "output_type": "stream",
     "text": [
      "To: sdf\n",
      "Message: asdf\n"
     ]
    }
   ],
   "source": [
    "message = '{}: {}'.format(input(\"To: \"), textToBytes(input(\"Message: \")))\n",
    "message = message.encode('ascii')"
   ]
  },
  {
   "cell_type": "code",
   "execution_count": 212,
   "id": "6b7e139d",
   "metadata": {},
   "outputs": [],
   "source": [
    "# encrypting when sending\n",
    "def textToBytes(message):\n",
    "    with open('pk_hex.txt', 'r') as file:\n",
    "        pk_hex = file.read().replace('\\n', '')\n",
    "\n",
    "    data = str.encode(message)\n",
    "    cipher = encrypt(pk_hex, data)\n",
    "\n",
    "    return cipher\n",
    "\n",
    "\n",
    "def cleanData(message):\n",
    "    #print(message)\n",
    "    data = message\n",
    "    m = data.decode(\"utf-8\")\n",
    "    l = m.split(':')\n",
    "\n",
    "    user = l[0]\n",
    "    s = l[1]\n",
    "\n",
    "    text = s.encode('ascii')\n",
    "\n",
    "    #print(user)\n",
    "    #print(text)\n",
    "\n",
    "    return user, text\n",
    "\n",
    "\n",
    "\n",
    "def uploadIPFS(message):\n",
    "    with open(\"txt.txt\", \"wb\") as txt:\n",
    "        txt.write(message)\n",
    "    cmd = [ 'ipfs', 'add', 'txt.txt' ]\n",
    "    out = run(cmd, capture_output=True).stdout\n",
    "    output = out.decode(\"utf-8\")\n",
    "    outputs = output.split(\" \")\n",
    "    uri = outputs[1]\n",
    "    print(uri)\n",
    "    return uri\n",
    "\n",
    "# downloading uri from IPFS\n",
    "def ipfs(uri):\n",
    "    cmd = [ 'ipfs', 'get', uri ]\n",
    "    out = run(cmd, capture_output=True).stdout\n",
    "    output = out.decode(\"utf-8\")\n",
    "    outputs = output.split(\" \")\n",
    "    file = outputs[3]\n",
    "    file = file.rstrip()\n",
    "    # passing file to decryption function\n",
    "    decryption(file)\n",
    "\n",
    "\n",
    "# decrypting message in file\n",
    "def decryption(file):\n",
    "    with open(file, 'rb') as file:\n",
    "        cipher = file.read()\n",
    "\n",
    "    with open('sk_hex.txt', 'r') as file:\n",
    "        secret_key = file.read().replace('\\n', '')\n",
    "\n",
    "    text = decrypt(secret_key, cipher).decode(\"utf-8\")\n",
    "    print(text)\n"
   ]
  },
  {
   "cell_type": "code",
   "execution_count": 213,
   "id": "4a6c65a7",
   "metadata": {},
   "outputs": [
    {
     "name": "stdout",
     "output_type": "stream",
     "text": [
      "QmWw3iYPGtupvexhpkF6GxmqrWpwWNmttuJim784e6CT8z\n"
     ]
    },
    {
     "ename": "ValueError",
     "evalue": "The public key could not be parsed or is invalid.",
     "output_type": "error",
     "traceback": [
      "\u001b[0;31m---------------------------------------------------------------------------\u001b[0m",
      "\u001b[0;31mValueError\u001b[0m                                Traceback (most recent call last)",
      "\u001b[0;32m<ipython-input-213-413892262a68>\u001b[0m in \u001b[0;36m<module>\u001b[0;34m\u001b[0m\n\u001b[1;32m      3\u001b[0m \u001b[0muri\u001b[0m \u001b[0;34m=\u001b[0m \u001b[0muploadIPFS\u001b[0m\u001b[0;34m(\u001b[0m\u001b[0mtext\u001b[0m\u001b[0;34m)\u001b[0m\u001b[0;34m\u001b[0m\u001b[0;34m\u001b[0m\u001b[0m\n\u001b[1;32m      4\u001b[0m \u001b[0;34m\u001b[0m\u001b[0m\n\u001b[0;32m----> 5\u001b[0;31m \u001b[0mipfs\u001b[0m\u001b[0;34m(\u001b[0m\u001b[0muri\u001b[0m\u001b[0;34m)\u001b[0m\u001b[0;34m\u001b[0m\u001b[0;34m\u001b[0m\u001b[0m\n\u001b[0m",
      "\u001b[0;32m<ipython-input-212-5baff5b1f27a>\u001b[0m in \u001b[0;36mipfs\u001b[0;34m(uri)\u001b[0m\n\u001b[1;32m     50\u001b[0m     \u001b[0mfile\u001b[0m \u001b[0;34m=\u001b[0m \u001b[0mfile\u001b[0m\u001b[0;34m.\u001b[0m\u001b[0mrstrip\u001b[0m\u001b[0;34m(\u001b[0m\u001b[0;34m)\u001b[0m\u001b[0;34m\u001b[0m\u001b[0;34m\u001b[0m\u001b[0m\n\u001b[1;32m     51\u001b[0m     \u001b[0;31m# passing file to decryption function\u001b[0m\u001b[0;34m\u001b[0m\u001b[0;34m\u001b[0m\u001b[0;34m\u001b[0m\u001b[0m\n\u001b[0;32m---> 52\u001b[0;31m     \u001b[0mdecryption\u001b[0m\u001b[0;34m(\u001b[0m\u001b[0mfile\u001b[0m\u001b[0;34m)\u001b[0m\u001b[0;34m\u001b[0m\u001b[0;34m\u001b[0m\u001b[0m\n\u001b[0m\u001b[1;32m     53\u001b[0m \u001b[0;34m\u001b[0m\u001b[0m\n\u001b[1;32m     54\u001b[0m \u001b[0;34m\u001b[0m\u001b[0m\n",
      "\u001b[0;32m<ipython-input-212-5baff5b1f27a>\u001b[0m in \u001b[0;36mdecryption\u001b[0;34m(file)\u001b[0m\n\u001b[1;32m     61\u001b[0m         \u001b[0msecret_key\u001b[0m \u001b[0;34m=\u001b[0m \u001b[0mfile\u001b[0m\u001b[0;34m.\u001b[0m\u001b[0mread\u001b[0m\u001b[0;34m(\u001b[0m\u001b[0;34m)\u001b[0m\u001b[0;34m.\u001b[0m\u001b[0mreplace\u001b[0m\u001b[0;34m(\u001b[0m\u001b[0;34m'\\n'\u001b[0m\u001b[0;34m,\u001b[0m \u001b[0;34m''\u001b[0m\u001b[0;34m)\u001b[0m\u001b[0;34m\u001b[0m\u001b[0;34m\u001b[0m\u001b[0m\n\u001b[1;32m     62\u001b[0m \u001b[0;34m\u001b[0m\u001b[0m\n\u001b[0;32m---> 63\u001b[0;31m     \u001b[0mtext\u001b[0m \u001b[0;34m=\u001b[0m \u001b[0mdecrypt\u001b[0m\u001b[0;34m(\u001b[0m\u001b[0msecret_key\u001b[0m\u001b[0;34m,\u001b[0m \u001b[0mcipher\u001b[0m\u001b[0;34m)\u001b[0m\u001b[0;34m.\u001b[0m\u001b[0mdecode\u001b[0m\u001b[0;34m(\u001b[0m\u001b[0;34m\"utf-8\"\u001b[0m\u001b[0;34m)\u001b[0m\u001b[0;34m\u001b[0m\u001b[0;34m\u001b[0m\u001b[0m\n\u001b[0m\u001b[1;32m     64\u001b[0m     \u001b[0mprint\u001b[0m\u001b[0;34m(\u001b[0m\u001b[0mtext\u001b[0m\u001b[0;34m)\u001b[0m\u001b[0;34m\u001b[0m\u001b[0;34m\u001b[0m\u001b[0m\n",
      "\u001b[0;32m~/.local/lib/python3.8/site-packages/ecies/__init__.py\u001b[0m in \u001b[0;36mdecrypt\u001b[0;34m(receiver_sk, msg)\u001b[0m\n\u001b[1;32m     61\u001b[0m     \u001b[0mpubkey\u001b[0m \u001b[0;34m=\u001b[0m \u001b[0mmsg\u001b[0m\u001b[0;34m[\u001b[0m\u001b[0;36m0\u001b[0m\u001b[0;34m:\u001b[0m\u001b[0;36m65\u001b[0m\u001b[0;34m]\u001b[0m  \u001b[0;31m# uncompressed pubkey's length is 65 bytes\u001b[0m\u001b[0;34m\u001b[0m\u001b[0;34m\u001b[0m\u001b[0m\n\u001b[1;32m     62\u001b[0m     \u001b[0mencrypted\u001b[0m \u001b[0;34m=\u001b[0m \u001b[0mmsg\u001b[0m\u001b[0;34m[\u001b[0m\u001b[0;36m65\u001b[0m\u001b[0;34m:\u001b[0m\u001b[0;34m]\u001b[0m\u001b[0;34m\u001b[0m\u001b[0;34m\u001b[0m\u001b[0m\n\u001b[0;32m---> 63\u001b[0;31m     \u001b[0mephemeral_public_key\u001b[0m \u001b[0;34m=\u001b[0m \u001b[0mPublicKey\u001b[0m\u001b[0;34m(\u001b[0m\u001b[0mpubkey\u001b[0m\u001b[0;34m)\u001b[0m\u001b[0;34m\u001b[0m\u001b[0;34m\u001b[0m\u001b[0m\n\u001b[0m\u001b[1;32m     64\u001b[0m \u001b[0;34m\u001b[0m\u001b[0m\n\u001b[1;32m     65\u001b[0m     \u001b[0maes_key\u001b[0m \u001b[0;34m=\u001b[0m \u001b[0mdecapsulate\u001b[0m\u001b[0;34m(\u001b[0m\u001b[0mephemeral_public_key\u001b[0m\u001b[0;34m,\u001b[0m \u001b[0mprivate_key\u001b[0m\u001b[0;34m)\u001b[0m\u001b[0;34m\u001b[0m\u001b[0;34m\u001b[0m\u001b[0m\n",
      "\u001b[0;32m~/.local/lib/python3.8/site-packages/coincurve/keys.py\u001b[0m in \u001b[0;36m__init__\u001b[0;34m(self, data, context)\u001b[0m\n\u001b[1;32m    273\u001b[0m \u001b[0;34m\u001b[0m\u001b[0m\n\u001b[1;32m    274\u001b[0m             \u001b[0;32mif\u001b[0m \u001b[0;32mnot\u001b[0m \u001b[0mparsed\u001b[0m\u001b[0;34m:\u001b[0m\u001b[0;34m\u001b[0m\u001b[0;34m\u001b[0m\u001b[0m\n\u001b[0;32m--> 275\u001b[0;31m                 \u001b[0;32mraise\u001b[0m \u001b[0mValueError\u001b[0m\u001b[0;34m(\u001b[0m\u001b[0;34m'The public key could not be parsed or is invalid.'\u001b[0m\u001b[0;34m)\u001b[0m\u001b[0;34m\u001b[0m\u001b[0;34m\u001b[0m\u001b[0m\n\u001b[0m\u001b[1;32m    276\u001b[0m \u001b[0;34m\u001b[0m\u001b[0m\n\u001b[1;32m    277\u001b[0m             \u001b[0mself\u001b[0m\u001b[0;34m.\u001b[0m\u001b[0mpublic_key\u001b[0m \u001b[0;34m=\u001b[0m \u001b[0mpublic_key\u001b[0m\u001b[0;34m\u001b[0m\u001b[0;34m\u001b[0m\u001b[0m\n",
      "\u001b[0;31mValueError\u001b[0m: The public key could not be parsed or is invalid."
     ]
    }
   ],
   "source": [
    "#print(message)\n",
    "user, text = cleanData(message)\n",
    "uri = uploadIPFS(text)\n",
    "\n",
    "ipfs(uri)"
   ]
  },
  {
   "cell_type": "code",
   "execution_count": null,
   "id": "46789b83",
   "metadata": {},
   "outputs": [],
   "source": []
  },
  {
   "cell_type": "code",
   "execution_count": 203,
   "id": "1ee30166",
   "metadata": {},
   "outputs": [
    {
     "name": "stdout",
     "output_type": "stream",
     "text": [
      "anon.session\t      pk_hex.txt\r\n",
      "anon.session-journal  pk.txt\r\n",
      "ballistic_calculator  PrimeNumber.cpp\r\n",
      "chat.ipynb\t      QmQ1Zbb8C9icXbrJmG1coSy2thNXft9SCxfZ1iiCi9XmQb\r\n",
      "client.py\t      QmSa6YAGTS4gjojzdW35LADPEjQNzjjBaZzTEWtoLh2h6u\r\n",
      "cryptography.ipynb    sample.txt\r\n",
      "Desktop\t\t      server.py\r\n",
      "Documents\t      sk_hex.txt\r\n",
      "Downloads\t      snap\r\n",
      "enabledesktop.sh      teddyMosaic-Copy1.ipynb\r\n",
      "go\t\t      teddyMosaic.ipynb\r\n",
      "isPrime.cpp\t      test.html\r\n",
      "katya.sol\t      test.py\r\n",
      "message.session       txt.txt\r\n",
      "message.txt\t      Untitled1.ipynb\r\n",
      "movieMosaic.ipynb     Untitled2.ipynb\r\n",
      "Music\t\t      Untitled-Copy1.ipynb\r\n",
      "myprivatekey.pem      Untitled.ipynb\r\n",
      "node_modules\t      Videos\r\n",
      "Pictures\t      work\r\n"
     ]
    }
   ],
   "source": [
    "!ls"
   ]
  },
  {
   "cell_type": "code",
   "execution_count": 195,
   "id": "6eff298e",
   "metadata": {},
   "outputs": [
    {
     "ename": "FileNotFoundError",
     "evalue": "[Errno 2] No such file or directory: 'QmVmdLDVV3Ro9FfWNf4cqqzu4iVHVeapZQBcPFmhq33rJm'",
     "output_type": "error",
     "traceback": [
      "\u001b[0;31m---------------------------------------------------------------------------\u001b[0m",
      "\u001b[0;31mFileNotFoundError\u001b[0m                         Traceback (most recent call last)",
      "\u001b[0;32m<ipython-input-195-e49175f50c94>\u001b[0m in \u001b[0;36m<module>\u001b[0;34m\u001b[0m\n\u001b[0;32m----> 1\u001b[0;31m \u001b[0;32mwith\u001b[0m \u001b[0mopen\u001b[0m\u001b[0;34m(\u001b[0m\u001b[0muri\u001b[0m\u001b[0;34m,\u001b[0m \u001b[0;34m'rb'\u001b[0m\u001b[0;34m)\u001b[0m \u001b[0;32mas\u001b[0m \u001b[0mfile\u001b[0m\u001b[0;34m:\u001b[0m\u001b[0;34m\u001b[0m\u001b[0;34m\u001b[0m\u001b[0m\n\u001b[0m\u001b[1;32m      2\u001b[0m     \u001b[0mcipher\u001b[0m \u001b[0;34m=\u001b[0m \u001b[0mfile\u001b[0m\u001b[0;34m.\u001b[0m\u001b[0mread\u001b[0m\u001b[0;34m(\u001b[0m\u001b[0;34m)\u001b[0m\u001b[0;34m\u001b[0m\u001b[0;34m\u001b[0m\u001b[0m\n",
      "\u001b[0;31mFileNotFoundError\u001b[0m: [Errno 2] No such file or directory: 'QmVmdLDVV3Ro9FfWNf4cqqzu4iVHVeapZQBcPFmhq33rJm'"
     ]
    }
   ],
   "source": [
    "\n",
    "\n",
    "with open(uri, 'rb') as file:\n",
    "    cipher = file.read()"
   ]
  },
  {
   "cell_type": "code",
   "execution_count": null,
   "id": "4a8b728a",
   "metadata": {},
   "outputs": [],
   "source": []
  },
  {
   "cell_type": "code",
   "execution_count": null,
   "id": "b3f6da48",
   "metadata": {},
   "outputs": [],
   "source": []
  },
  {
   "cell_type": "code",
   "execution_count": null,
   "id": "50b751c8",
   "metadata": {},
   "outputs": [],
   "source": []
  },
  {
   "cell_type": "code",
   "execution_count": null,
   "id": "c1336d0f",
   "metadata": {},
   "outputs": [],
   "source": []
  },
  {
   "cell_type": "code",
   "execution_count": 245,
   "id": "b2242b04",
   "metadata": {},
   "outputs": [],
   "source": [
    "users = {'alex': [\"<socket.socket fd=4, family=AddressFamily.AF_INET, type=SocketKind.SOCK_STREAM, proto=0, laddr=('127.0.0.1', 5035), raddr=('127.0.0.1', 38826)>\", \"('127.0.0.1', 38826)\"], 'john': [\"<socket.socket fd=5, family=AddressFamily.AF_INET, type=SocketKind.SOCK_STREAM, proto=0, laddr=('127.0.0.1', 5035), raddr=('127.0.0.1', 38828)>\", \"('127.0.0.1', 38828)\"]}"
   ]
  },
  {
   "cell_type": "code",
   "execution_count": 247,
   "id": "867897ef",
   "metadata": {},
   "outputs": [
    {
     "data": {
      "text/plain": [
       "\"<socket.socket fd=4, family=AddressFamily.AF_INET, type=SocketKind.SOCK_STREAM, proto=0, laddr=('127.0.0.1', 5035), raddr=('127.0.0.1', 38826)>\""
      ]
     },
     "execution_count": 247,
     "metadata": {},
     "output_type": "execute_result"
    }
   ],
   "source": [
    "users[\"alex\"][0]"
   ]
  },
  {
   "cell_type": "code",
   "execution_count": null,
   "id": "236a7c68",
   "metadata": {},
   "outputs": [],
   "source": []
  },
  {
   "cell_type": "code",
   "execution_count": null,
   "id": "d49a780a",
   "metadata": {},
   "outputs": [],
   "source": []
  },
  {
   "cell_type": "code",
   "execution_count": null,
   "id": "a836eb79",
   "metadata": {},
   "outputs": [],
   "source": []
  },
  {
   "cell_type": "code",
   "execution_count": 254,
   "id": "287a1128",
   "metadata": {},
   "outputs": [],
   "source": [
    "def ipfs(uri):\n",
    "    cmd = [ 'ipfs', 'get', uri ]\n",
    "    out = run(cmd, capture_output=True).stdout\n",
    "    output = out.decode(\"utf-8\")\n",
    "    outputs = output.split(\" \")\n",
    "    file = outputs[3]\n",
    "    file = file.rstrip()\n",
    "    # passing file to decryption function\n",
    "    decryption(file)\n",
    "\n",
    "\n",
    "# decrypting message in file\n",
    "def decryption(file):\n",
    "    with open(file, 'rb') as file:\n",
    "        cipher = file.read()\n",
    "\n",
    "    with open('sk_hex.txt', 'r') as file:\n",
    "        secret_key = file.read().replace('\\n', '')\n",
    "\n",
    "    text = decrypt(secret_key, cipher).decode(\"utf-8\")\n",
    "    print(text)"
   ]
  },
  {
   "cell_type": "code",
   "execution_count": 255,
   "id": "5cc01458",
   "metadata": {},
   "outputs": [
    {
     "ename": "ValueError",
     "evalue": "The public key could not be parsed or is invalid.",
     "output_type": "error",
     "traceback": [
      "\u001b[0;31m---------------------------------------------------------------------------\u001b[0m",
      "\u001b[0;31mValueError\u001b[0m                                Traceback (most recent call last)",
      "\u001b[0;32m<ipython-input-255-58c2586f5548>\u001b[0m in \u001b[0;36m<module>\u001b[0;34m\u001b[0m\n\u001b[1;32m      1\u001b[0m \u001b[0muri\u001b[0m \u001b[0;34m=\u001b[0m \u001b[0;34m\"QmNiVYXomwYwg3Gpmnf9ifBCUywz1N5Kad5iivY1ssTybx\"\u001b[0m\u001b[0;34m\u001b[0m\u001b[0;34m\u001b[0m\u001b[0m\n\u001b[0;32m----> 2\u001b[0;31m \u001b[0mipfs\u001b[0m\u001b[0;34m(\u001b[0m\u001b[0muri\u001b[0m\u001b[0;34m)\u001b[0m\u001b[0;34m\u001b[0m\u001b[0;34m\u001b[0m\u001b[0m\n\u001b[0m",
      "\u001b[0;32m<ipython-input-254-4156d7b867c5>\u001b[0m in \u001b[0;36mipfs\u001b[0;34m(uri)\u001b[0m\n\u001b[1;32m      7\u001b[0m     \u001b[0mfile\u001b[0m \u001b[0;34m=\u001b[0m \u001b[0mfile\u001b[0m\u001b[0;34m.\u001b[0m\u001b[0mrstrip\u001b[0m\u001b[0;34m(\u001b[0m\u001b[0;34m)\u001b[0m\u001b[0;34m\u001b[0m\u001b[0;34m\u001b[0m\u001b[0m\n\u001b[1;32m      8\u001b[0m     \u001b[0;31m# passing file to decryption function\u001b[0m\u001b[0;34m\u001b[0m\u001b[0;34m\u001b[0m\u001b[0;34m\u001b[0m\u001b[0m\n\u001b[0;32m----> 9\u001b[0;31m     \u001b[0mdecryption\u001b[0m\u001b[0;34m(\u001b[0m\u001b[0mfile\u001b[0m\u001b[0;34m)\u001b[0m\u001b[0;34m\u001b[0m\u001b[0;34m\u001b[0m\u001b[0m\n\u001b[0m\u001b[1;32m     10\u001b[0m \u001b[0;34m\u001b[0m\u001b[0m\n\u001b[1;32m     11\u001b[0m \u001b[0;34m\u001b[0m\u001b[0m\n",
      "\u001b[0;32m<ipython-input-254-4156d7b867c5>\u001b[0m in \u001b[0;36mdecryption\u001b[0;34m(file)\u001b[0m\n\u001b[1;32m     18\u001b[0m         \u001b[0msecret_key\u001b[0m \u001b[0;34m=\u001b[0m \u001b[0mfile\u001b[0m\u001b[0;34m.\u001b[0m\u001b[0mread\u001b[0m\u001b[0;34m(\u001b[0m\u001b[0;34m)\u001b[0m\u001b[0;34m.\u001b[0m\u001b[0mreplace\u001b[0m\u001b[0;34m(\u001b[0m\u001b[0;34m'\\n'\u001b[0m\u001b[0;34m,\u001b[0m \u001b[0;34m''\u001b[0m\u001b[0;34m)\u001b[0m\u001b[0;34m\u001b[0m\u001b[0;34m\u001b[0m\u001b[0m\n\u001b[1;32m     19\u001b[0m \u001b[0;34m\u001b[0m\u001b[0m\n\u001b[0;32m---> 20\u001b[0;31m     \u001b[0mtext\u001b[0m \u001b[0;34m=\u001b[0m \u001b[0mdecrypt\u001b[0m\u001b[0;34m(\u001b[0m\u001b[0msecret_key\u001b[0m\u001b[0;34m,\u001b[0m \u001b[0mcipher\u001b[0m\u001b[0;34m)\u001b[0m\u001b[0;34m.\u001b[0m\u001b[0mdecode\u001b[0m\u001b[0;34m(\u001b[0m\u001b[0;34m\"utf-8\"\u001b[0m\u001b[0;34m)\u001b[0m\u001b[0;34m\u001b[0m\u001b[0;34m\u001b[0m\u001b[0m\n\u001b[0m\u001b[1;32m     21\u001b[0m     \u001b[0mprint\u001b[0m\u001b[0;34m(\u001b[0m\u001b[0mtext\u001b[0m\u001b[0;34m)\u001b[0m\u001b[0;34m\u001b[0m\u001b[0;34m\u001b[0m\u001b[0m\n",
      "\u001b[0;32m~/.local/lib/python3.8/site-packages/ecies/__init__.py\u001b[0m in \u001b[0;36mdecrypt\u001b[0;34m(receiver_sk, msg)\u001b[0m\n\u001b[1;32m     61\u001b[0m     \u001b[0mpubkey\u001b[0m \u001b[0;34m=\u001b[0m \u001b[0mmsg\u001b[0m\u001b[0;34m[\u001b[0m\u001b[0;36m0\u001b[0m\u001b[0;34m:\u001b[0m\u001b[0;36m65\u001b[0m\u001b[0;34m]\u001b[0m  \u001b[0;31m# uncompressed pubkey's length is 65 bytes\u001b[0m\u001b[0;34m\u001b[0m\u001b[0;34m\u001b[0m\u001b[0m\n\u001b[1;32m     62\u001b[0m     \u001b[0mencrypted\u001b[0m \u001b[0;34m=\u001b[0m \u001b[0mmsg\u001b[0m\u001b[0;34m[\u001b[0m\u001b[0;36m65\u001b[0m\u001b[0;34m:\u001b[0m\u001b[0;34m]\u001b[0m\u001b[0;34m\u001b[0m\u001b[0;34m\u001b[0m\u001b[0m\n\u001b[0;32m---> 63\u001b[0;31m     \u001b[0mephemeral_public_key\u001b[0m \u001b[0;34m=\u001b[0m \u001b[0mPublicKey\u001b[0m\u001b[0;34m(\u001b[0m\u001b[0mpubkey\u001b[0m\u001b[0;34m)\u001b[0m\u001b[0;34m\u001b[0m\u001b[0;34m\u001b[0m\u001b[0m\n\u001b[0m\u001b[1;32m     64\u001b[0m \u001b[0;34m\u001b[0m\u001b[0m\n\u001b[1;32m     65\u001b[0m     \u001b[0maes_key\u001b[0m \u001b[0;34m=\u001b[0m \u001b[0mdecapsulate\u001b[0m\u001b[0;34m(\u001b[0m\u001b[0mephemeral_public_key\u001b[0m\u001b[0;34m,\u001b[0m \u001b[0mprivate_key\u001b[0m\u001b[0;34m)\u001b[0m\u001b[0;34m\u001b[0m\u001b[0;34m\u001b[0m\u001b[0m\n",
      "\u001b[0;32m~/.local/lib/python3.8/site-packages/coincurve/keys.py\u001b[0m in \u001b[0;36m__init__\u001b[0;34m(self, data, context)\u001b[0m\n\u001b[1;32m    273\u001b[0m \u001b[0;34m\u001b[0m\u001b[0m\n\u001b[1;32m    274\u001b[0m             \u001b[0;32mif\u001b[0m \u001b[0;32mnot\u001b[0m \u001b[0mparsed\u001b[0m\u001b[0;34m:\u001b[0m\u001b[0;34m\u001b[0m\u001b[0;34m\u001b[0m\u001b[0m\n\u001b[0;32m--> 275\u001b[0;31m                 \u001b[0;32mraise\u001b[0m \u001b[0mValueError\u001b[0m\u001b[0;34m(\u001b[0m\u001b[0;34m'The public key could not be parsed or is invalid.'\u001b[0m\u001b[0;34m)\u001b[0m\u001b[0;34m\u001b[0m\u001b[0;34m\u001b[0m\u001b[0m\n\u001b[0m\u001b[1;32m    276\u001b[0m \u001b[0;34m\u001b[0m\u001b[0m\n\u001b[1;32m    277\u001b[0m             \u001b[0mself\u001b[0m\u001b[0;34m.\u001b[0m\u001b[0mpublic_key\u001b[0m \u001b[0;34m=\u001b[0m \u001b[0mpublic_key\u001b[0m\u001b[0;34m\u001b[0m\u001b[0;34m\u001b[0m\u001b[0m\n",
      "\u001b[0;31mValueError\u001b[0m: The public key could not be parsed or is invalid."
     ]
    }
   ],
   "source": [
    "uri = \"QmWqoUk7E6qbP2nTRUewnTKiY1u1fnf5GCj6mBJ8TEJwb9\"\n",
    "ipfs(uri)"
   ]
  },
  {
   "cell_type": "code",
   "execution_count": null,
   "id": "20c3abe6",
   "metadata": {},
   "outputs": [],
   "source": []
  },
  {
   "cell_type": "code",
   "execution_count": null,
   "id": "132792e7",
   "metadata": {},
   "outputs": [],
   "source": []
  },
  {
   "cell_type": "code",
   "execution_count": null,
   "id": "5f9230b3",
   "metadata": {},
   "outputs": [],
   "source": [
    "###############################"
   ]
  },
  {
   "cell_type": "code",
   "execution_count": null,
   "id": "d55f9f43",
   "metadata": {},
   "outputs": [],
   "source": [
    "######################"
   ]
  },
  {
   "cell_type": "code",
   "execution_count": 415,
   "id": "7fd2bc19",
   "metadata": {},
   "outputs": [
    {
     "name": "stdout",
     "output_type": "stream",
     "text": [
      "private key: 0x109094c56bec38485b36e3c803a4c15a319443fef45779f5decc4c30d49e3f11\n",
      "public key: 0x59197da31a4fb0fbc2a685e415fb908e52063f37fc3e2d038c99665038dc91741\n",
      "ciphertext pubKey: 0x9af986b5154a3730126cfd991660e998be33f2910327bee2f02c31d1a6fa6e501\n",
      "encryption key: 0x4dfd9dc33d4b8f496ebffbcdfed0e67b733e2889f874bdf4f944a9f934d865400\n",
      "decryption key: 0x4dfd9dc33d4b8f496ebffbcdfed0e67b733e2889f874bdf4f944a9f934d865400\n"
     ]
    }
   ],
   "source": [
    "from tinyec import registry\n",
    "import secrets\n",
    "\n",
    "curve = registry.get_curve('brainpoolP256r1')\n",
    "\n",
    "def compress_point(point):\n",
    "    return hex(point.x) + hex(point.y % 2)[2:]\n",
    "\n",
    "def ecc_calc_encryption_keys(pubKey):\n",
    "    ciphertextPrivKey = secrets.randbelow(curve.field.n)\n",
    "    ciphertextPubKey = ciphertextPrivKey * curve.g\n",
    "    sharedECCKey = pubKey * ciphertextPrivKey\n",
    "    return (sharedECCKey, ciphertextPubKey)\n",
    "\n",
    "def ecc_calc_decryption_key(privKey, ciphertextPubKey):\n",
    "    sharedECCKey = ciphertextPubKey * privKey\n",
    "    return sharedECCKey\n",
    "\n",
    "privKey = secrets.randbelow(curve.field.n)\n",
    "pubKey = privKey * curve.g\n",
    "print(\"private key:\", hex(privKey))\n",
    "print(\"public key:\", compress_point(pubKey))\n",
    "\n",
    "(encryptKey, ciphertextPubKey) = ecc_calc_encryption_keys(pubKey)\n",
    "print(\"ciphertext pubKey:\", compress_point(ciphertextPubKey))\n",
    "print(\"encryption key:\", compress_point(encryptKey))\n",
    "\n",
    "decryptKey = ecc_calc_decryption_key(privKey, ciphertextPubKey)\n",
    "print(\"decryption key:\", compress_point(decryptKey))"
   ]
  },
  {
   "cell_type": "code",
   "execution_count": 416,
   "id": "6450b046",
   "metadata": {},
   "outputs": [
    {
     "name": "stdout",
     "output_type": "stream",
     "text": [
      "encrypted msg: {'ciphertext': b'1c3a175818de75c2aa70d8', 'nonce': b'cc565f5f17aaf6ae858761d0b2cd0892', 'authTag': b'859ce40fac9c0ecf30a9d9226ac283db', 'ciphertextPubKey': '0x63dfc70e0dc468248a7d350b5b5c04be5106cdbf1fbe37aadbe6f71a054c55f21'}\n",
      "decrypted msg: b'Hello bitch'\n"
     ]
    }
   ],
   "source": [
    "\n",
    "from tinyec import registry\n",
    "from Crypto.Cipher import AES\n",
    "import hashlib, secrets, binascii\n",
    "import tinyec.ec as ec\n",
    "\n",
    "def encrypt_AES_GCM(msg, secretKey):\n",
    "    aesCipher = AES.new(secretKey, AES.MODE_GCM)\n",
    "    ciphertext, authTag = aesCipher.encrypt_and_digest(msg)\n",
    "    return (ciphertext, aesCipher.nonce, authTag)\n",
    "\n",
    "def decrypt_AES_GCM(ciphertext, nonce, authTag, secretKey):\n",
    "    aesCipher = AES.new(secretKey, AES.MODE_GCM, nonce)\n",
    "    plaintext = aesCipher.decrypt_and_verify(ciphertext, authTag)\n",
    "    return plaintext\n",
    "\n",
    "def ecc_point_to_256_bit_key(point):\n",
    "    sha = hashlib.sha256(int.to_bytes(point.x, 32, 'big'))\n",
    "    sha.update(int.to_bytes(point.y, 32, 'big'))\n",
    "    return sha.digest()\n",
    "\n",
    "curve = registry.get_curve('brainpoolP256r1')\n",
    "\n",
    "def encrypt_ECC(msg, pubKey):\n",
    "    ciphertextPrivKey = secrets.randbelow(curve.field.n)\n",
    "    sharedECCKey = ciphertextPrivKey * pubKey\n",
    "    secretKey = ecc_point_to_256_bit_key(sharedECCKey)\n",
    "    ciphertext, nonce, authTag = encrypt_AES_GCM(msg, secretKey)\n",
    "    ciphertextPubKey = ciphertextPrivKey * curve.g\n",
    "    return (ciphertext, nonce, authTag, ciphertextPubKey)\n",
    "\n",
    "def decrypt_ECC(encryptedMsg, privKey):\n",
    "    (ciphertext, nonce, authTag, ciphertextPubKey) = encryptedMsg\n",
    "    sharedECCKey = privKey * ciphertextPubKey\n",
    "    secretKey = ecc_point_to_256_bit_key(sharedECCKey)\n",
    "    plaintext = decrypt_AES_GCM(ciphertext, nonce, authTag, secretKey)\n",
    "    return plaintext\n",
    "\n",
    "msg = b'Hello bitch' \n",
    "#print(\"original msg:\", msg)\n",
    "#privKey = secrets.randbelow(curve.field.n)\n",
    "#pubKey = privKey * curve.g\n",
    "\n",
    "encryptedMsg = encrypt_ECC(msg, pubKey)\n",
    "encryptedMsgObj = {\n",
    "    'ciphertext': binascii.hexlify(encryptedMsg[0]),\n",
    "    'nonce': binascii.hexlify(encryptedMsg[1]),\n",
    "    'authTag': binascii.hexlify(encryptedMsg[2]),\n",
    "    'ciphertextPubKey': hex(encryptedMsg[3].x) + hex(encryptedMsg[3].y % 2)[2:]\n",
    "}\n",
    "\n",
    "#print(binascii.hexlify(encryptedMsg[0]))\n",
    "print(\"encrypted msg:\", encryptedMsgObj)\n",
    "#print(encryptedMsg)\n",
    "\n",
    "decryptedMsg = decrypt_ECC(encryptedMsg, privKey)\n",
    "print(\"decrypted msg:\", decryptedMsg)"
   ]
  },
  {
   "cell_type": "code",
   "execution_count": 417,
   "id": "228dbc41",
   "metadata": {},
   "outputs": [
    {
     "name": "stdout",
     "output_type": "stream",
     "text": [
      "7492458335594758409685705783935814869885576097618401133523334490170494697233\n"
     ]
    }
   ],
   "source": [
    "print(privKey)"
   ]
  },
  {
   "cell_type": "code",
   "execution_count": 418,
   "id": "378d7fdf",
   "metadata": {},
   "outputs": [
    {
     "data": {
      "text/plain": [
       "b'Hello bitch'"
      ]
     },
     "execution_count": 418,
     "metadata": {},
     "output_type": "execute_result"
    }
   ],
   "source": [
    "decrypt_ECC(encryptedMsg, privKey)"
   ]
  },
  {
   "cell_type": "code",
   "execution_count": null,
   "id": "816401e7",
   "metadata": {},
   "outputs": [],
   "source": []
  },
  {
   "cell_type": "code",
   "execution_count": null,
   "id": "06b0e434",
   "metadata": {},
   "outputs": [],
   "source": [
    "#########################################"
   ]
  },
  {
   "cell_type": "code",
   "execution_count": 29,
   "id": "7331eb32",
   "metadata": {},
   "outputs": [],
   "source": [
    "from tinyec import registry\n",
    "from Crypto.Cipher import AES\n",
    "import hashlib, secrets, binascii\n",
    "import tinyec.ec as ec\n",
    "\n",
    "def encrypt_AES_GCM(msg, secretKey):\n",
    "    aesCipher = AES.new(secretKey, AES.MODE_GCM)\n",
    "    ciphertext, authTag = aesCipher.encrypt_and_digest(msg)\n",
    "    return (ciphertext, aesCipher.nonce, authTag)\n",
    "\n",
    "def decrypt_AES_GCM(ciphertext, nonce, authTag, secretKey):\n",
    "    aesCipher = AES.new(secretKey, AES.MODE_GCM, nonce)\n",
    "    plaintext = aesCipher.decrypt_and_verify(ciphertext, authTag)\n",
    "    return plaintext\n",
    "\n",
    "def ecc_point_to_256_bit_key(point):\n",
    "    sha = hashlib.sha256(int.to_bytes(point.x, 32, 'big'))\n",
    "    sha.update(int.to_bytes(point.y, 32, 'big'))\n",
    "    return sha.digest()\n",
    "\n",
    "curve = registry.get_curve('brainpoolP256r1')\n",
    "\n",
    "def encrypt_ECC(msg, pubKey):\n",
    "    ciphertextPrivKey = secrets.randbelow(curve.field.n)\n",
    "    sharedECCKey = ciphertextPrivKey * pubKey\n",
    "    secretKey = ecc_point_to_256_bit_key(sharedECCKey)\n",
    "    ciphertext, nonce, authTag = encrypt_AES_GCM(msg, secretKey)\n",
    "    ciphertextPubKey = ciphertextPrivKey * curve.g\n",
    "    return (ciphertext, nonce, authTag, ciphertextPubKey)\n",
    "\n",
    "def decrypt_ECC(encryptedMsg, privKey):\n",
    "    (ciphertext, nonce, authTag, ciphertextPubKey) = encryptedMsg\n",
    "    sharedECCKey = privKey * ciphertextPubKey\n",
    "    secretKey = ecc_point_to_256_bit_key(sharedECCKey)\n",
    "    plaintext = decrypt_AES_GCM(ciphertext, nonce, authTag, secretKey)\n",
    "    return plaintext"
   ]
  },
  {
   "cell_type": "code",
   "execution_count": 30,
   "id": "9f1eb44c",
   "metadata": {},
   "outputs": [
    {
     "name": "stdout",
     "output_type": "stream",
     "text": [
      "private key: 0x8a6f6e8a6ff8e517fb7201a3c77e5b446c962d44ccd030565d221ec8aaf7e5f0\n",
      "public key: 0x2afc9c285e43ad1eea965ec2cb9282a777c96860a2fe381c193b6d09a8c37deb0x20c5381aae58abd085719181536ba44b2880b6567ad1c78a7d931029c1ca8cd1\n"
     ]
    }
   ],
   "source": [
    "###### KEY GEN SCRIPT ##########\n",
    "from tinyec import registry\n",
    "from Crypto.Cipher import AES\n",
    "import hashlib, secrets, binascii\n",
    "import tinyec.ec as ec\n",
    "\n",
    "# convert pubKey thing to hex\n",
    "def compress_point(point):\n",
    "    return hex(point.x) + hex(point.y)\n",
    "\n",
    "# generate keys\n",
    "def keyGen():\n",
    "    \n",
    "    # obviously you can change the curve values\n",
    "    curve = registry.get_curve('brainpoolP256r1')\n",
    "    \n",
    "    privKey = secrets.randbelow(curve.field.n)\n",
    "    pubKey = privKey * curve.g\n",
    "    \n",
    "    return privKey, pubKey\n",
    "    \n",
    "    \n",
    "privKey, pubKey = keyGen()\n",
    "\n",
    "privKeyHex = hex(privKey)\n",
    "pubKeyHex = compress_point(pubKey)\n",
    "\n",
    "\n",
    "with open(\"privKey.txt\", \"w\") as privk:\n",
    "    privk.write(str(privKeyHex))\n",
    "\n",
    "with open(\"pubKey.txt\", \"w\") as pubk:\n",
    "    pubk.write(str(pubKeyHex))\n",
    "    \n",
    "print(\"private key: \" + str(privKeyHex))\n",
    "print(\"public key: \" + str(pubKeyHex))"
   ]
  },
  {
   "cell_type": "code",
   "execution_count": 31,
   "id": "b0289525",
   "metadata": {},
   "outputs": [],
   "source": [
    "############### CONVERT PUBLIC KEY TO HEX AND BACK ####################"
   ]
  },
  {
   "cell_type": "code",
   "execution_count": 32,
   "id": "19ea62bf",
   "metadata": {},
   "outputs": [],
   "source": [
    "# compress x and y values to hex\n",
    "def compress_point(point):\n",
    "    pubKeyHex = hex(point.x) + hex(point.y)\n",
    "    return pubKeyHex\n",
    "\n",
    "# convert pubKeyHex to ec.Point\n",
    "def decompress_point(curve, pubKeyHex):\n",
    "    n = 0\n",
    "    x = \"\"\n",
    "    y = \"\"\n",
    "\n",
    "    l = len(str(pubKeyHex))\n",
    "    length = l/2\n",
    "    \n",
    "    for i in pubKeyHex:\n",
    "        if n < length:\n",
    "            x+=i\n",
    "        else:\n",
    "            y+=i     \n",
    "        n+=1\n",
    "        \n",
    "    x = int(x,16)\n",
    "    y = int(y,16)\n",
    "    \n",
    "    p = ec.Point(curve,x,y)\n",
    "    \n",
    "    return p"
   ]
  },
  {
   "cell_type": "code",
   "execution_count": 33,
   "id": "5e277c4c",
   "metadata": {},
   "outputs": [],
   "source": [
    "# User 1 wants to send message \n",
    "# they need:\n",
    "# 1 a message\n",
    "# 2 a public key of the user they want to send to "
   ]
  },
  {
   "cell_type": "code",
   "execution_count": 34,
   "id": "037fdfda",
   "metadata": {},
   "outputs": [],
   "source": [
    "# initial user input \n",
    "def messageInput():\n",
    "    message = str(input(\"Message: \"))\n",
    "    return message\n",
    "    \n",
    "\n",
    "def encryptUserInput(message, pubKey):\n",
    "    msg = message.encode(\"ascii\")\n",
    "    \n",
    "    # in the future users can choose which curve\n",
    "    curve = registry.get_curve('brainpoolP256r1')\n",
    "    \n",
    "    encryptedMsg = encrypt_ECC(msg, pubKey)\n",
    "\n",
    "    # put encryptedMsg in dictionary\n",
    "    encryptedMsgDic = {\n",
    "    'ciphertext': binascii.hexlify(encryptedMsg[0]),\n",
    "    'nonce': binascii.hexlify(encryptedMsg[1]),\n",
    "    'authTag': binascii.hexlify(encryptedMsg[2]),\n",
    "    'x': hex(encryptedMsg[3].x),\n",
    "    'y': hex(encryptedMsg[3].y)\n",
    "    }\n",
    "    # convert all vals in encryptedMsgDic to str\n",
    "    a = str(encryptedMsgDic[\"ciphertext\"])\n",
    "    b = str(encryptedMsgDic[\"nonce\"])\n",
    "    c = str(encryptedMsgDic[\"authTag\"])\n",
    "    d = str(encryptedMsgDic[\"x\"])\n",
    "    e = str(encryptedMsgDic[\"y\"])\n",
    "\n",
    "    encryptedMsgDicStr = {\n",
    "        'a': a,\n",
    "        'b': b,\n",
    "        'c': c,\n",
    "        'd': d,\n",
    "        'e': e\n",
    "    }\n",
    "    \n",
    "    # convert encryptedMsgDicStr to string with : as separation of vals\n",
    "    cipherstr = ''\n",
    "    for i in encryptedMsgDicStr:\n",
    "        cipherstr += encryptedMsgDicStr[i] + ' : '\n",
    "\n",
    "    #encode cipherstr and send it  \n",
    "    m = cipherstr.encode(\"ascii\")\n",
    "    \n",
    "    return m\n",
    "\n"
   ]
  },
  {
   "cell_type": "code",
   "execution_count": 35,
   "id": "9bf8b6c7",
   "metadata": {},
   "outputs": [
    {
     "name": "stdout",
     "output_type": "stream",
     "text": [
      "To: a\n",
      "Message: asdfasdf\n",
      "b'a~ b\"b\\'0fcee5ceb20c4e07\\' : b\\'50823ad110037d6b4a359402acf5435b\\' : b\\'7b6a8ca61275d1a0b431c6e4da23cb9b\\' : 0x6b55ab91cde54b103d6fac1775b23012a27dee280b59e4a8103068d67d7fa9fd : 0x8f1ce68bf62201ba03d26c94fd0911d927e291c4cd1f3ad567369d5da8f9abb4 : \"'\n"
     ]
    }
   ],
   "source": [
    "# client send\n",
    "\n",
    "\n",
    "def connector():\n",
    "\n",
    "        # the pubKey is essentially the address of the other user\n",
    "    with open(\"pubKey.txt\", \"r\") as pubk:\n",
    "        pubKeyHex = pubk.read()\n",
    "        \n",
    "    # get PUBLIC KEY POINT\n",
    "    curve = registry.get_curve('brainpoolP256r1')\n",
    "    \n",
    "    pubKey = decompress_point(curve,pubKeyHex)\n",
    "\n",
    "    message = messageInput()\n",
    "    encryptedMsgS = encryptUserInput(message, pubKey)\n",
    "\n",
    "    return encryptedMsgS\n",
    "\n",
    "\n",
    "\n",
    "message = '{}~ {}'.format(input(\"To: \"), connector())\n",
    "\n",
    "\n",
    "message = message.encode('ascii')\n",
    "\n",
    "print(message)\n",
    "\n",
    "################################ SEND THROUGH SERVER #####################"
   ]
  },
  {
   "cell_type": "code",
   "execution_count": 36,
   "id": "998b8981",
   "metadata": {},
   "outputs": [],
   "source": [
    "################ ON THE SERVER ##################"
   ]
  },
  {
   "cell_type": "code",
   "execution_count": null,
   "id": "c7982b1e",
   "metadata": {},
   "outputs": [],
   "source": []
  },
  {
   "cell_type": "code",
   "execution_count": null,
   "id": "02720ccc",
   "metadata": {},
   "outputs": [],
   "source": []
  },
  {
   "cell_type": "code",
   "execution_count": 37,
   "id": "d788bc13",
   "metadata": {},
   "outputs": [],
   "source": [
    "from subprocess import run\n",
    "from ecies import encrypt, decrypt\n",
    "\n",
    "\n",
    "def cleanData(message):\n",
    "    data = message\n",
    "    m = data.decode(\"utf-8\")\n",
    "    l = m.split('~')\n",
    "\n",
    "    user = l[0]\n",
    "    text = l[1]\n",
    "    \n",
    "    text = eval(text)\n",
    "\n",
    "    return user, text\n"
   ]
  },
  {
   "cell_type": "code",
   "execution_count": 38,
   "id": "fe4654c6",
   "metadata": {},
   "outputs": [],
   "source": [
    "user, text = cleanData(message)"
   ]
  },
  {
   "cell_type": "code",
   "execution_count": 39,
   "id": "30260d70",
   "metadata": {},
   "outputs": [
    {
     "name": "stdout",
     "output_type": "stream",
     "text": [
      "a\n"
     ]
    }
   ],
   "source": [
    "print(user)\n",
    "#print(text)\n",
    "#text = eval(text)\n"
   ]
  },
  {
   "cell_type": "code",
   "execution_count": 40,
   "id": "1aa120cd",
   "metadata": {},
   "outputs": [
    {
     "name": "stdout",
     "output_type": "stream",
     "text": [
      "QmbDF2sGkcdekNmQ5rPxK1rB9MU5zYk3NuYxy35RvaEVGP\n"
     ]
    }
   ],
   "source": [
    "\n",
    "# server side upload function\n",
    "def uploadIPFS(message):\n",
    "    with open(\"txt.txt\", \"wb\") as txt:\n",
    "        txt.write(message)\n",
    "    cmd = [ 'ipfs', 'add', 'txt.txt' ]\n",
    "    out = run(cmd, capture_output=True).stdout\n",
    "    output = out.decode(\"utf-8\")\n",
    "    outputs = output.split(\" \")\n",
    "    uri = outputs[1]\n",
    "    return uri\n",
    "\n",
    "uri = uploadIPFS(text)\n",
    "print(uri)"
   ]
  },
  {
   "cell_type": "code",
   "execution_count": null,
   "id": "77c0e207",
   "metadata": {},
   "outputs": [],
   "source": []
  },
  {
   "cell_type": "code",
   "execution_count": 41,
   "id": "0d1a128f",
   "metadata": {},
   "outputs": [],
   "source": [
    "##################### SERVER SENDS URI #####################"
   ]
  },
  {
   "cell_type": "code",
   "execution_count": 42,
   "id": "4a4a9530",
   "metadata": {},
   "outputs": [],
   "source": [
    "############## USER RECIEVES #########################"
   ]
  },
  {
   "cell_type": "code",
   "execution_count": 48,
   "id": "d9dd595a",
   "metadata": {},
   "outputs": [],
   "source": [
    "### download from IPFS\n",
    "def ipfs(uri):\n",
    "    cmd = [ 'ipfs', 'get', uri ]\n",
    "    out = run(cmd, capture_output=True).stdout\n",
    "    output = out.decode(\"utf-8\")\n",
    "    outputs = output.split(\" \")\n",
    "    file = outputs[3]\n",
    "    file = file.rstrip()\n",
    "    return file\n",
    "    \n",
    "# opening file\n",
    "def dec(file):\n",
    "    with open(file, 'rb') as file:\n",
    "        cipher = file.read()\n",
    "        return cipher"
   ]
  },
  {
   "cell_type": "code",
   "execution_count": 44,
   "id": "a4196863",
   "metadata": {},
   "outputs": [],
   "source": [
    "# rebuild data structure\n",
    "def decryptMessage(m):\n",
    "    d = m.decode(\"ascii\")\n",
    "    \n",
    "    array = d.split(': ')\n",
    "    \n",
    "    print(array)\n",
    "    \n",
    "    #a = array[0].replace(\"\\\\\", \"\")\n",
    "    \n",
    "    a = array[0].strip()\n",
    "    a = eval(a)\n",
    "    ciphertext = binascii.unhexlify(a)\n",
    "\n",
    "    b = array[1].strip()\n",
    "    b = eval(b)\n",
    "    nonce = binascii.unhexlify(b)\n",
    "\n",
    "    c = array[2].strip()\n",
    "    c = eval(c)\n",
    "    authTag = binascii.unhexlify(c)\n",
    "\n",
    "    x = array[3].strip()\n",
    "    y = array[4].strip()\n",
    "    \n",
    "    # convert x,y to int \n",
    "    x = int(x,16)\n",
    "    y = int(y,16)\n",
    "    \n",
    "    p = ec.Point(curve,x,y)\n",
    "    \n",
    "    array = [ciphertext, nonce, authTag, p]\n",
    "    \n",
    "    encryptedMsgS = tuple(array)\n",
    "    \n",
    "    return encryptedMsgS"
   ]
  },
  {
   "cell_type": "code",
   "execution_count": 45,
   "id": "ff52bfcf",
   "metadata": {},
   "outputs": [
    {
     "name": "stdout",
     "output_type": "stream",
     "text": [
      "[\"b'0fcee5ceb20c4e07' \", \"b'50823ad110037d6b4a359402acf5435b' \", \"b'7b6a8ca61275d1a0b431c6e4da23cb9b' \", '0x6b55ab91cde54b103d6fac1775b23012a27dee280b59e4a8103068d67d7fa9fd ', '0x8f1ce68bf62201ba03d26c94fd0911d927e291c4cd1f3ad567369d5da8f9abb4 ', '']\n"
     ]
    }
   ],
   "source": [
    "file = ipfs(uri)\n",
    "cipher = dec(file)\n",
    "\n",
    "\n",
    "encryptedMsgS = decryptMessage(cipher)"
   ]
  },
  {
   "cell_type": "code",
   "execution_count": null,
   "id": "9f1cd467",
   "metadata": {},
   "outputs": [],
   "source": []
  },
  {
   "cell_type": "code",
   "execution_count": 46,
   "id": "2e076467",
   "metadata": {},
   "outputs": [],
   "source": [
    "#### GET PRIVATE KEY ####"
   ]
  },
  {
   "cell_type": "code",
   "execution_count": null,
   "id": "b199b27d",
   "metadata": {},
   "outputs": [],
   "source": []
  },
  {
   "cell_type": "code",
   "execution_count": 47,
   "id": "97ac154c",
   "metadata": {},
   "outputs": [
    {
     "name": "stdout",
     "output_type": "stream",
     "text": [
      "[\"b'0fcee5ceb20c4e07' \", \"b'50823ad110037d6b4a359402acf5435b' \", \"b'7b6a8ca61275d1a0b431c6e4da23cb9b' \", '0x6b55ab91cde54b103d6fac1775b23012a27dee280b59e4a8103068d67d7fa9fd ', '0x8f1ce68bf62201ba03d26c94fd0911d927e291c4cd1f3ad567369d5da8f9abb4 ', '']\n",
      "b'asdfasdf'\n"
     ]
    },
    {
     "data": {
      "text/plain": [
       "b'asdfasdf'"
      ]
     },
     "execution_count": 47,
     "metadata": {},
     "output_type": "execute_result"
    }
   ],
   "source": [
    "def connector2():\n",
    "    file = ipfs(uri)\n",
    "    cipher = dec(file)\n",
    "    encryptedMsgS = decryptMessage(cipher)\n",
    "    \n",
    "    with open(\"privKey.txt\", \"r\") as privK:\n",
    "        privKeyHex = privK.read()\n",
    "\n",
    "    privKey = int(privKeyHex,16)\n",
    "    \n",
    "    message = decrypt_ECC(encryptedMsgS, privKey)\n",
    "    \n",
    "    print(message)\n",
    "    \n",
    "    return message\n",
    "\n",
    "connector2()"
   ]
  },
  {
   "cell_type": "code",
   "execution_count": null,
   "id": "8e4a74a7",
   "metadata": {},
   "outputs": [],
   "source": []
  },
  {
   "cell_type": "code",
   "execution_count": null,
   "id": "bccdfdb8",
   "metadata": {},
   "outputs": [],
   "source": []
  },
  {
   "cell_type": "code",
   "execution_count": 240,
   "id": "97e0de97",
   "metadata": {},
   "outputs": [],
   "source": [
    "# client recieve "
   ]
  },
  {
   "cell_type": "code",
   "execution_count": 487,
   "id": "2d821b4f",
   "metadata": {},
   "outputs": [],
   "source": []
  },
  {
   "cell_type": "code",
   "execution_count": null,
   "id": "da203e26",
   "metadata": {},
   "outputs": [],
   "source": []
  },
  {
   "cell_type": "code",
   "execution_count": null,
   "id": "3ceba83c",
   "metadata": {},
   "outputs": [],
   "source": []
  },
  {
   "cell_type": "code",
   "execution_count": null,
   "id": "fc01e719",
   "metadata": {},
   "outputs": [],
   "source": []
  },
  {
   "cell_type": "code",
   "execution_count": 646,
   "id": "63ebc546",
   "metadata": {},
   "outputs": [],
   "source": [
    "#$#$#$#$#$#$$#\n",
    "\n",
    "\n",
    "### download from IPFS\n",
    "def ipfs(uri):\n",
    "    cmd = [ 'ipfs', 'get', uri ]\n",
    "    out = run(cmd, capture_output=True).stdout\n",
    "    output = out.decode(\"utf-8\")\n",
    "    outputs = output.split(\" \")\n",
    "    file = outputs[3]\n",
    "    file = file.rstrip()\n",
    "    return file\n",
    "    \n",
    "# opening file\n",
    "def dec(file):\n",
    "    with open(file, 'rb') as file:\n",
    "        cipher = file.read()\n",
    "        return cipher\n",
    "\n",
    "\n",
    "# rebuild data structure\n",
    "def decryptMessage(m):\n",
    "    d = m.decode(\"ascii\")\n",
    "    \n",
    "    array = d.split(': ')\n",
    "    \n",
    "    a = array[0].strip()\n",
    "    a = eval(a)\n",
    "    ciphertext = binascii.unhexlify(a)\n",
    "\n",
    "    b = array[1].strip()\n",
    "    b = eval(b)\n",
    "    nonce = binascii.unhexlify(b)\n",
    "\n",
    "    c = array[2].strip()\n",
    "    c = eval(c)\n",
    "    authTag = binascii.unhexlify(c)\n",
    "\n",
    "    x = array[3].strip()\n",
    "    y = array[4].strip()\n",
    "    \n",
    "    # convert x,y to int \n",
    "    x = int(x,16)\n",
    "    y = int(y,16)\n",
    "    \n",
    "    p = ec.Point(curve,x,y)\n",
    "    \n",
    "    array = [ciphertext, nonce, authTag, p]\n",
    "    \n",
    "    encryptedMsgS = tuple(array)\n",
    "    \n",
    "    return encryptedMsgS\n",
    "\n",
    "\n",
    "def connector2(uri):\n",
    "    file = ipfs(uri)\n",
    "    \n",
    "    print(file)\n",
    "    \n",
    "    cipher = dec(file)\n",
    "    \n",
    "    print(type(cipher))\n",
    "    \n",
    "    \n",
    "    encryptedMsgS = decryptMessage(cipher)\n",
    "    \n",
    "    print(encryptedMsgS)\n",
    "    \n",
    "    with open(\"privKey.txt\", \"r\") as privK:\n",
    "        privKeyHex = privK.read()\n",
    "\n",
    "    privKey = int(privKeyHex,16)\n",
    "    \n",
    "    message = decrypt_ECC(encryptedMsgS, privKey)\n",
    "\n",
    "    print(message)"
   ]
  },
  {
   "cell_type": "code",
   "execution_count": 658,
   "id": "ef3f11f8",
   "metadata": {},
   "outputs": [
    {
     "ename": "SyntaxError",
     "evalue": "EOL while scanning string literal (<string>, line 1)",
     "output_type": "error",
     "traceback": [
      "Traceback \u001b[0;36m(most recent call last)\u001b[0m:\n",
      "  File \u001b[1;32m\"/home/ubuntu/.local/lib/python3.8/site-packages/IPython/core/interactiveshell.py\"\u001b[0m, line \u001b[1;32m3441\u001b[0m, in \u001b[1;35mrun_code\u001b[0m\n    exec(code_obj, self.user_global_ns, self.user_ns)\n",
      "  File \u001b[1;32m\"<ipython-input-658-d572bd45cf54>\"\u001b[0m, line \u001b[1;32m5\u001b[0m, in \u001b[1;35m<module>\u001b[0m\n    encryptedMsgS = decryptMessage(cipher)\n",
      "\u001b[0;36m  File \u001b[0;32m\"<ipython-input-646-3eec1ce5a77f>\"\u001b[0;36m, line \u001b[0;32m28\u001b[0;36m, in \u001b[0;35mdecryptMessage\u001b[0;36m\u001b[0m\n\u001b[0;31m    a = eval(a)\u001b[0m\n",
      "\u001b[0;36m  File \u001b[0;32m\"<string>\"\u001b[0;36m, line \u001b[0;32m1\u001b[0m\n\u001b[0;31m    b\"b'54bb'\u001b[0m\n\u001b[0m            ^\u001b[0m\n\u001b[0;31mSyntaxError\u001b[0m\u001b[0;31m:\u001b[0m EOL while scanning string literal\n"
     ]
    }
   ],
   "source": [
    "uri = b'QmUr8rXuBUt7GdHuYcwa8Q8M7bD2fsKRC2MAGsNAgogWAY'\n",
    "\n",
    "file = ipfs(uri)\n",
    "cipher = dec(file)\n",
    "encryptedMsgS = decryptMessage(cipher)\n",
    "\n",
    "#print(cipher)\n",
    "\n",
    "a = b'54bb'\n",
    "\n",
    "a = eval(a)\n",
    "\n",
    "print(a)\n",
    "\n",
    "#connector2(uri)"
   ]
  },
  {
   "cell_type": "code",
   "execution_count": null,
   "id": "b03aa60b",
   "metadata": {},
   "outputs": [],
   "source": []
  },
  {
   "cell_type": "code",
   "execution_count": null,
   "id": "78a06418",
   "metadata": {},
   "outputs": [],
   "source": []
  },
  {
   "cell_type": "code",
   "execution_count": null,
   "id": "bb120574",
   "metadata": {},
   "outputs": [],
   "source": []
  },
  {
   "cell_type": "code",
   "execution_count": null,
   "id": "fdf22974",
   "metadata": {},
   "outputs": [],
   "source": []
  },
  {
   "cell_type": "code",
   "execution_count": null,
   "id": "9c735645",
   "metadata": {},
   "outputs": [],
   "source": []
  },
  {
   "cell_type": "code",
   "execution_count": null,
   "id": "4c20f907",
   "metadata": {},
   "outputs": [],
   "source": []
  },
  {
   "cell_type": "code",
   "execution_count": null,
   "id": "a8a1617a",
   "metadata": {},
   "outputs": [],
   "source": []
  },
  {
   "cell_type": "code",
   "execution_count": null,
   "id": "dec4cbad",
   "metadata": {},
   "outputs": [],
   "source": []
  },
  {
   "cell_type": "code",
   "execution_count": 488,
   "id": "f60a52f8",
   "metadata": {},
   "outputs": [
    {
     "name": "stderr",
     "output_type": "stream",
     "text": [
      "/home/ubuntu/.local/lib/python3.8/site-packages/tinyec/ec.py:124: UserWarning: Point (5102874451796751898472114928679609176, 257877718387558421637371041945476949038) is not on curve \"\"brainpoolP256r1\" => y^2 = x^3 + 56698187605326110043627228396178346077120614539475214109386828188763884139993x + 17577232497321838841075697789794520262950426058923084567046852300633325438902 (mod 76884956397045344220809746629001649093037950200943055203735601445031516197751)\"\n",
      "  warnings.warn(\"Point (%d, %d) is not on curve \\\"%s\\\"\" % (self.x, self.y, self.curve))\n"
     ]
    },
    {
     "ename": "TypeError",
     "evalue": "'Point' object is not iterable",
     "output_type": "error",
     "traceback": [
      "\u001b[0;31m---------------------------------------------------------------------------\u001b[0m",
      "\u001b[0;31mTypeError\u001b[0m                                 Traceback (most recent call last)",
      "\u001b[0;32m<ipython-input-488-57713a7a4337>\u001b[0m in \u001b[0;36m<module>\u001b[0;34m\u001b[0m\n\u001b[1;32m      5\u001b[0m \u001b[0mprivKey\u001b[0m \u001b[0;34m=\u001b[0m \u001b[0mdecompress_point\u001b[0m\u001b[0;34m(\u001b[0m\u001b[0mcurve\u001b[0m\u001b[0;34m,\u001b[0m \u001b[0mprivKeyHex\u001b[0m\u001b[0;34m)\u001b[0m\u001b[0;34m\u001b[0m\u001b[0;34m\u001b[0m\u001b[0m\n\u001b[1;32m      6\u001b[0m \u001b[0;34m\u001b[0m\u001b[0m\n\u001b[0;32m----> 7\u001b[0;31m \u001b[0mencryptedMsgS\u001b[0m \u001b[0;34m=\u001b[0m \u001b[0mdecryptMessage\u001b[0m\u001b[0;34m(\u001b[0m\u001b[0mm\u001b[0m\u001b[0;34m,\u001b[0m \u001b[0mprivKey\u001b[0m\u001b[0;34m)\u001b[0m\u001b[0;34m\u001b[0m\u001b[0;34m\u001b[0m\u001b[0m\n\u001b[0m",
      "\u001b[0;32m<ipython-input-487-541575476e8c>\u001b[0m in \u001b[0;36mdecryptMessage\u001b[0;34m(m, privKeyHex)\u001b[0m\n\u001b[1;32m      5\u001b[0m     \u001b[0mcurve\u001b[0m \u001b[0;34m=\u001b[0m \u001b[0mregistry\u001b[0m\u001b[0;34m.\u001b[0m\u001b[0mget_curve\u001b[0m\u001b[0;34m(\u001b[0m\u001b[0;34m'brainpoolP256r1'\u001b[0m\u001b[0;34m)\u001b[0m\u001b[0;34m\u001b[0m\u001b[0;34m\u001b[0m\u001b[0m\n\u001b[1;32m      6\u001b[0m \u001b[0;34m\u001b[0m\u001b[0m\n\u001b[0;32m----> 7\u001b[0;31m     \u001b[0mprivKey\u001b[0m \u001b[0;34m=\u001b[0m \u001b[0mdecompress_point\u001b[0m\u001b[0;34m(\u001b[0m\u001b[0mcurve\u001b[0m\u001b[0;34m,\u001b[0m \u001b[0mprivKeyHex\u001b[0m\u001b[0;34m)\u001b[0m\u001b[0;34m\u001b[0m\u001b[0;34m\u001b[0m\u001b[0m\n\u001b[0m\u001b[1;32m      8\u001b[0m \u001b[0;34m\u001b[0m\u001b[0m\n\u001b[1;32m      9\u001b[0m     \u001b[0marray\u001b[0m \u001b[0;34m=\u001b[0m \u001b[0md\u001b[0m\u001b[0;34m.\u001b[0m\u001b[0msplit\u001b[0m\u001b[0;34m(\u001b[0m\u001b[0;34m': '\u001b[0m\u001b[0;34m)\u001b[0m\u001b[0;34m\u001b[0m\u001b[0;34m\u001b[0m\u001b[0m\n",
      "\u001b[0;32m<ipython-input-482-4744f6485c5e>\u001b[0m in \u001b[0;36mdecompress_point\u001b[0;34m(curve, pubKeyHex)\u001b[0m\n\u001b[1;32m     15\u001b[0m     \u001b[0mlength\u001b[0m \u001b[0;34m=\u001b[0m \u001b[0ml\u001b[0m\u001b[0;34m/\u001b[0m\u001b[0;36m2\u001b[0m\u001b[0;34m\u001b[0m\u001b[0;34m\u001b[0m\u001b[0m\n\u001b[1;32m     16\u001b[0m \u001b[0;34m\u001b[0m\u001b[0m\n\u001b[0;32m---> 17\u001b[0;31m     \u001b[0;32mfor\u001b[0m \u001b[0mi\u001b[0m \u001b[0;32min\u001b[0m \u001b[0mpubKeyHex\u001b[0m\u001b[0;34m:\u001b[0m\u001b[0;34m\u001b[0m\u001b[0;34m\u001b[0m\u001b[0m\n\u001b[0m\u001b[1;32m     18\u001b[0m         \u001b[0;32mif\u001b[0m \u001b[0mn\u001b[0m \u001b[0;34m<\u001b[0m \u001b[0mlength\u001b[0m\u001b[0;34m:\u001b[0m\u001b[0;34m\u001b[0m\u001b[0;34m\u001b[0m\u001b[0m\n\u001b[1;32m     19\u001b[0m             \u001b[0mx\u001b[0m\u001b[0;34m+=\u001b[0m\u001b[0mi\u001b[0m\u001b[0;34m\u001b[0m\u001b[0;34m\u001b[0m\u001b[0m\n",
      "\u001b[0;31mTypeError\u001b[0m: 'Point' object is not iterable"
     ]
    }
   ],
   "source": [
    "with open(\"privKey.txt\", \"r\") as pubk:\n",
    "    privKeyHex = pubk.read()\n",
    "    \n",
    "curve = registry.get_curve('brainpoolP256r1') \n",
    "privKey = decompress_point(curve, privKeyHex)\n",
    "\n",
    "encryptedMsgS = decryptMessage(m, privKey)"
   ]
  },
  {
   "cell_type": "code",
   "execution_count": 489,
   "id": "e3431ba7",
   "metadata": {},
   "outputs": [
    {
     "data": {
      "text/plain": [
       "(b'\\x9fSh\\xfc\\xe2HG\\x91\\xdbB\\x10',\n",
       " b'\\xa7\\xaa\\x93\\x1b\\x12\\xde\\r\\x14<R\\xe9B\\x8a\\xb6\\x05\\xc8',\n",
       " b'#\\xff\\xa2\\xa8-i\\xa9SWS2\\x022\\xfen\\xf8',\n",
       " (64798789459867393833927823105803929575714807395639777839401230251483251761486, 76382239448204875275923051490841097721401257747077332252405391412087022946684) on \"brainpoolP256r1\" => y^2 = x^3 + 56698187605326110043627228396178346077120614539475214109386828188763884139993x + 17577232497321838841075697789794520262950426058923084567046852300633325438902 (mod 76884956397045344220809746629001649093037950200943055203735601445031516197751))"
      ]
     },
     "execution_count": 489,
     "metadata": {},
     "output_type": "execute_result"
    }
   ],
   "source": [
    "encryptedMsgS"
   ]
  },
  {
   "cell_type": "code",
   "execution_count": 244,
   "id": "bf76185d",
   "metadata": {},
   "outputs": [
    {
     "ename": "TypeError",
     "evalue": "Unsupported operand type(s) for *: 'Point' and 'Point'",
     "output_type": "error",
     "traceback": [
      "\u001b[0;31m---------------------------------------------------------------------------\u001b[0m",
      "\u001b[0;31mTypeError\u001b[0m                                 Traceback (most recent call last)",
      "\u001b[0;32m<ipython-input-244-6c980baa4b41>\u001b[0m in \u001b[0;36m<module>\u001b[0;34m\u001b[0m\n\u001b[0;32m----> 1\u001b[0;31m \u001b[0mdecrypt_ECC\u001b[0m\u001b[0;34m(\u001b[0m\u001b[0mencryptedMsgS\u001b[0m\u001b[0;34m,\u001b[0m \u001b[0mprivKey\u001b[0m\u001b[0;34m)\u001b[0m\u001b[0;34m\u001b[0m\u001b[0;34m\u001b[0m\u001b[0m\n\u001b[0m",
      "\u001b[0;32m<ipython-input-230-fd050377d4b3>\u001b[0m in \u001b[0;36mdecrypt_ECC\u001b[0;34m(encryptedMsg, privKey)\u001b[0m\n\u001b[1;32m     31\u001b[0m \u001b[0;32mdef\u001b[0m \u001b[0mdecrypt_ECC\u001b[0m\u001b[0;34m(\u001b[0m\u001b[0mencryptedMsg\u001b[0m\u001b[0;34m,\u001b[0m \u001b[0mprivKey\u001b[0m\u001b[0;34m)\u001b[0m\u001b[0;34m:\u001b[0m\u001b[0;34m\u001b[0m\u001b[0;34m\u001b[0m\u001b[0m\n\u001b[1;32m     32\u001b[0m     \u001b[0;34m(\u001b[0m\u001b[0mciphertext\u001b[0m\u001b[0;34m,\u001b[0m \u001b[0mnonce\u001b[0m\u001b[0;34m,\u001b[0m \u001b[0mauthTag\u001b[0m\u001b[0;34m,\u001b[0m \u001b[0mciphertextPubKey\u001b[0m\u001b[0;34m)\u001b[0m \u001b[0;34m=\u001b[0m \u001b[0mencryptedMsg\u001b[0m\u001b[0;34m\u001b[0m\u001b[0;34m\u001b[0m\u001b[0m\n\u001b[0;32m---> 33\u001b[0;31m     \u001b[0msharedECCKey\u001b[0m \u001b[0;34m=\u001b[0m \u001b[0mprivKey\u001b[0m \u001b[0;34m*\u001b[0m \u001b[0mciphertextPubKey\u001b[0m\u001b[0;34m\u001b[0m\u001b[0;34m\u001b[0m\u001b[0m\n\u001b[0m\u001b[1;32m     34\u001b[0m     \u001b[0msecretKey\u001b[0m \u001b[0;34m=\u001b[0m \u001b[0mecc_point_to_256_bit_key\u001b[0m\u001b[0;34m(\u001b[0m\u001b[0msharedECCKey\u001b[0m\u001b[0;34m)\u001b[0m\u001b[0;34m\u001b[0m\u001b[0;34m\u001b[0m\u001b[0m\n\u001b[1;32m     35\u001b[0m     \u001b[0mplaintext\u001b[0m \u001b[0;34m=\u001b[0m \u001b[0mdecrypt_AES_GCM\u001b[0m\u001b[0;34m(\u001b[0m\u001b[0mciphertext\u001b[0m\u001b[0;34m,\u001b[0m \u001b[0mnonce\u001b[0m\u001b[0;34m,\u001b[0m \u001b[0mauthTag\u001b[0m\u001b[0;34m,\u001b[0m \u001b[0msecretKey\u001b[0m\u001b[0;34m)\u001b[0m\u001b[0;34m\u001b[0m\u001b[0;34m\u001b[0m\u001b[0m\n",
      "\u001b[0;32m~/.local/lib/python3.8/site-packages/tinyec/ec.py\u001b[0m in \u001b[0;36m__mul__\u001b[0;34m(self, other)\u001b[0m\n\u001b[1;32m    183\u001b[0m             \u001b[0;32mreturn\u001b[0m \u001b[0mresult\u001b[0m\u001b[0;34m\u001b[0m\u001b[0;34m\u001b[0m\u001b[0m\n\u001b[1;32m    184\u001b[0m         \u001b[0;32melse\u001b[0m\u001b[0;34m:\u001b[0m\u001b[0;34m\u001b[0m\u001b[0;34m\u001b[0m\u001b[0m\n\u001b[0;32m--> 185\u001b[0;31m             raise TypeError(\"Unsupported operand type(s) for *: '%s' and '%s'\" % (other.__class__.__name__,\n\u001b[0m\u001b[1;32m    186\u001b[0m                                                                                   self.__class__.__name__))\n\u001b[1;32m    187\u001b[0m \u001b[0;34m\u001b[0m\u001b[0m\n",
      "\u001b[0;31mTypeError\u001b[0m: Unsupported operand type(s) for *: 'Point' and 'Point'"
     ]
    }
   ],
   "source": [
    "decrypt_ECC(encryptedMsgS, privKey)"
   ]
  },
  {
   "cell_type": "code",
   "execution_count": null,
   "id": "10abc881",
   "metadata": {},
   "outputs": [],
   "source": []
  },
  {
   "cell_type": "code",
   "execution_count": null,
   "id": "d0f4a3ba",
   "metadata": {},
   "outputs": [],
   "source": []
  },
  {
   "cell_type": "code",
   "execution_count": null,
   "id": "b8fc9afb",
   "metadata": {},
   "outputs": [],
   "source": []
  },
  {
   "cell_type": "code",
   "execution_count": null,
   "id": "294d8f7c",
   "metadata": {},
   "outputs": [],
   "source": []
  },
  {
   "cell_type": "code",
   "execution_count": null,
   "id": "c1332dad",
   "metadata": {},
   "outputs": [],
   "source": []
  },
  {
   "cell_type": "code",
   "execution_count": 91,
   "id": "809fef67",
   "metadata": {},
   "outputs": [],
   "source": [
    "# order of events \n",
    "# 1 encode message\n",
    "# 2 send\n",
    "# 3 receive\n",
    "# 4 decrypt\n",
    "\n",
    "# 1\n",
    "message = \"hello world\"\n",
    "\n",
    "\n",
    "\n",
    "m = encryptUserInput(message, pubKey)\n",
    "\n",
    "\n",
    "\n",
    "\n",
    "uri = uploadIPFS(m)"
   ]
  },
  {
   "cell_type": "code",
   "execution_count": 95,
   "id": "9d65c90a",
   "metadata": {},
   "outputs": [],
   "source": [
    "from subprocess import run\n",
    "from ecies import encrypt, decrypt\n",
    "\n",
    "# server side upload function\n",
    "def uploadIPFS(message):\n",
    "    with open(\"txt.txt\", \"wb\") as txt:\n",
    "        txt.write(message)\n",
    "    cmd = [ 'ipfs', 'add', 'txt.txt' ]\n",
    "    out = run(cmd, capture_output=True).stdout\n",
    "    output = out.decode(\"utf-8\")\n",
    "    outputs = output.split(\" \")\n",
    "    uri = outputs[1]\n",
    "    return uri\n",
    "\n",
    "def ipfs(uri):\n",
    "    cmd = [ 'ipfs', 'get', uri ]\n",
    "    out = run(cmd, capture_output=True).stdout\n",
    "    output = out.decode(\"utf-8\")\n",
    "    outputs = output.split(\" \")\n",
    "    file = outputs[3]\n",
    "    file = file.rstrip()\n",
    "    dec(file)\n",
    "    \n",
    "# decrypting message in file\n",
    "def dec(file):\n",
    "    with open(file, 'rb') as file:\n",
    "        cipher = file.read()\n",
    "    \n",
    "    with open('privKey.txt', 'r') as file:\n",
    "        secret_key = file.read().replace('\\n', '')\n",
    "\n",
    "    text = decrypt_ECC(cipher, privKey)\n",
    "    print(text)"
   ]
  },
  {
   "cell_type": "code",
   "execution_count": 96,
   "id": "919754f6",
   "metadata": {},
   "outputs": [
    {
     "ename": "ValueError",
     "evalue": "too many values to unpack (expected 4)",
     "output_type": "error",
     "traceback": [
      "\u001b[0;31m---------------------------------------------------------------------------\u001b[0m",
      "\u001b[0;31mValueError\u001b[0m                                Traceback (most recent call last)",
      "\u001b[0;32m<ipython-input-96-07a9e675bfd9>\u001b[0m in \u001b[0;36m<module>\u001b[0;34m\u001b[0m\n\u001b[0;32m----> 1\u001b[0;31m \u001b[0mipfs\u001b[0m\u001b[0;34m(\u001b[0m\u001b[0muri\u001b[0m\u001b[0;34m)\u001b[0m\u001b[0;34m\u001b[0m\u001b[0;34m\u001b[0m\u001b[0m\n\u001b[0m",
      "\u001b[0;32m<ipython-input-95-266f16cebcf3>\u001b[0m in \u001b[0;36mipfs\u001b[0;34m(uri)\u001b[0m\n\u001b[1;32m     20\u001b[0m     \u001b[0mfile\u001b[0m \u001b[0;34m=\u001b[0m \u001b[0moutputs\u001b[0m\u001b[0;34m[\u001b[0m\u001b[0;36m3\u001b[0m\u001b[0;34m]\u001b[0m\u001b[0;34m\u001b[0m\u001b[0;34m\u001b[0m\u001b[0m\n\u001b[1;32m     21\u001b[0m     \u001b[0mfile\u001b[0m \u001b[0;34m=\u001b[0m \u001b[0mfile\u001b[0m\u001b[0;34m.\u001b[0m\u001b[0mrstrip\u001b[0m\u001b[0;34m(\u001b[0m\u001b[0;34m)\u001b[0m\u001b[0;34m\u001b[0m\u001b[0;34m\u001b[0m\u001b[0m\n\u001b[0;32m---> 22\u001b[0;31m     \u001b[0mdec\u001b[0m\u001b[0;34m(\u001b[0m\u001b[0mfile\u001b[0m\u001b[0;34m)\u001b[0m\u001b[0;34m\u001b[0m\u001b[0;34m\u001b[0m\u001b[0m\n\u001b[0m\u001b[1;32m     23\u001b[0m \u001b[0;34m\u001b[0m\u001b[0m\n\u001b[1;32m     24\u001b[0m \u001b[0;31m# decrypting message in file\u001b[0m\u001b[0;34m\u001b[0m\u001b[0;34m\u001b[0m\u001b[0;34m\u001b[0m\u001b[0m\n",
      "\u001b[0;32m<ipython-input-95-266f16cebcf3>\u001b[0m in \u001b[0;36mdec\u001b[0;34m(file)\u001b[0m\n\u001b[1;32m     30\u001b[0m         \u001b[0msecret_key\u001b[0m \u001b[0;34m=\u001b[0m \u001b[0mfile\u001b[0m\u001b[0;34m.\u001b[0m\u001b[0mread\u001b[0m\u001b[0;34m(\u001b[0m\u001b[0;34m)\u001b[0m\u001b[0;34m.\u001b[0m\u001b[0mreplace\u001b[0m\u001b[0;34m(\u001b[0m\u001b[0;34m'\\n'\u001b[0m\u001b[0;34m,\u001b[0m \u001b[0;34m''\u001b[0m\u001b[0;34m)\u001b[0m\u001b[0;34m\u001b[0m\u001b[0;34m\u001b[0m\u001b[0m\n\u001b[1;32m     31\u001b[0m \u001b[0;34m\u001b[0m\u001b[0m\n\u001b[0;32m---> 32\u001b[0;31m     \u001b[0mtext\u001b[0m \u001b[0;34m=\u001b[0m \u001b[0mdecrypt_ECC\u001b[0m\u001b[0;34m(\u001b[0m\u001b[0mcipher\u001b[0m\u001b[0;34m,\u001b[0m \u001b[0mprivKey\u001b[0m\u001b[0;34m)\u001b[0m\u001b[0;34m\u001b[0m\u001b[0;34m\u001b[0m\u001b[0m\n\u001b[0m\u001b[1;32m     33\u001b[0m     \u001b[0mprint\u001b[0m\u001b[0;34m(\u001b[0m\u001b[0mtext\u001b[0m\u001b[0;34m)\u001b[0m\u001b[0;34m\u001b[0m\u001b[0;34m\u001b[0m\u001b[0m\n",
      "\u001b[0;32m<ipython-input-80-fd050377d4b3>\u001b[0m in \u001b[0;36mdecrypt_ECC\u001b[0;34m(encryptedMsg, privKey)\u001b[0m\n\u001b[1;32m     30\u001b[0m \u001b[0;34m\u001b[0m\u001b[0m\n\u001b[1;32m     31\u001b[0m \u001b[0;32mdef\u001b[0m \u001b[0mdecrypt_ECC\u001b[0m\u001b[0;34m(\u001b[0m\u001b[0mencryptedMsg\u001b[0m\u001b[0;34m,\u001b[0m \u001b[0mprivKey\u001b[0m\u001b[0;34m)\u001b[0m\u001b[0;34m:\u001b[0m\u001b[0;34m\u001b[0m\u001b[0;34m\u001b[0m\u001b[0m\n\u001b[0;32m---> 32\u001b[0;31m     \u001b[0;34m(\u001b[0m\u001b[0mciphertext\u001b[0m\u001b[0;34m,\u001b[0m \u001b[0mnonce\u001b[0m\u001b[0;34m,\u001b[0m \u001b[0mauthTag\u001b[0m\u001b[0;34m,\u001b[0m \u001b[0mciphertextPubKey\u001b[0m\u001b[0;34m)\u001b[0m \u001b[0;34m=\u001b[0m \u001b[0mencryptedMsg\u001b[0m\u001b[0;34m\u001b[0m\u001b[0;34m\u001b[0m\u001b[0m\n\u001b[0m\u001b[1;32m     33\u001b[0m     \u001b[0msharedECCKey\u001b[0m \u001b[0;34m=\u001b[0m \u001b[0mprivKey\u001b[0m \u001b[0;34m*\u001b[0m \u001b[0mciphertextPubKey\u001b[0m\u001b[0;34m\u001b[0m\u001b[0;34m\u001b[0m\u001b[0m\n\u001b[1;32m     34\u001b[0m     \u001b[0msecretKey\u001b[0m \u001b[0;34m=\u001b[0m \u001b[0mecc_point_to_256_bit_key\u001b[0m\u001b[0;34m(\u001b[0m\u001b[0msharedECCKey\u001b[0m\u001b[0;34m)\u001b[0m\u001b[0;34m\u001b[0m\u001b[0;34m\u001b[0m\u001b[0m\n",
      "\u001b[0;31mValueError\u001b[0m: too many values to unpack (expected 4)"
     ]
    }
   ],
   "source": [
    "ipfs(uri)"
   ]
  },
  {
   "cell_type": "code",
   "execution_count": null,
   "id": "ef499808",
   "metadata": {},
   "outputs": [],
   "source": []
  },
  {
   "cell_type": "code",
   "execution_count": null,
   "id": "eef5235e",
   "metadata": {},
   "outputs": [],
   "source": []
  },
  {
   "cell_type": "code",
   "execution_count": 28,
   "id": "44b805b7",
   "metadata": {},
   "outputs": [
    {
     "ename": "AttributeError",
     "evalue": "'bytes' object has no attribute 'encode'",
     "output_type": "error",
     "traceback": [
      "\u001b[0;31m---------------------------------------------------------------------------\u001b[0m",
      "\u001b[0;31mAttributeError\u001b[0m                            Traceback (most recent call last)",
      "\u001b[0;32m<ipython-input-28-579e69d05702>\u001b[0m in \u001b[0;36m<module>\u001b[0;34m\u001b[0m\n\u001b[1;32m      1\u001b[0m \u001b[0mmessage\u001b[0m \u001b[0;34m=\u001b[0m \u001b[0;34mb'QmasNMF2EMJvH6cmLqj7Ht1j2LrfD2wLoUxnu9ZjqF5DAE'\u001b[0m\u001b[0;34m\u001b[0m\u001b[0;34m\u001b[0m\u001b[0m\n\u001b[1;32m      2\u001b[0m \u001b[0;34m\u001b[0m\u001b[0m\n\u001b[0;32m----> 3\u001b[0;31m \u001b[0muri\u001b[0m \u001b[0;34m=\u001b[0m \u001b[0mmessage\u001b[0m\u001b[0;34m.\u001b[0m\u001b[0mencode\u001b[0m\u001b[0;34m(\u001b[0m\u001b[0;34m'ascii'\u001b[0m\u001b[0;34m)\u001b[0m\u001b[0;34m\u001b[0m\u001b[0;34m\u001b[0m\u001b[0m\n\u001b[0m",
      "\u001b[0;31mAttributeError\u001b[0m: 'bytes' object has no attribute 'encode'"
     ]
    }
   ],
   "source": [
    "message = b'QmasNMF2EMJvH6cmLqj7Ht1j2LrfD2wLoUxnu9ZjqF5DAE'\n",
    "\n",
    "uri = message.encode('ascii')"
   ]
  },
  {
   "cell_type": "code",
   "execution_count": null,
   "id": "e0413846",
   "metadata": {},
   "outputs": [],
   "source": []
  },
  {
   "cell_type": "code",
   "execution_count": null,
   "id": "ac469b09",
   "metadata": {},
   "outputs": [],
   "source": []
  }
 ],
 "metadata": {
  "kernelspec": {
   "display_name": "Python 3",
   "language": "python",
   "name": "python3"
  },
  "language_info": {
   "codemirror_mode": {
    "name": "ipython",
    "version": 3
   },
   "file_extension": ".py",
   "mimetype": "text/x-python",
   "name": "python",
   "nbconvert_exporter": "python",
   "pygments_lexer": "ipython3",
   "version": "3.8.10"
  }
 },
 "nbformat": 4,
 "nbformat_minor": 5
}
