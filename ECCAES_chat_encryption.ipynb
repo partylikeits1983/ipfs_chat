{
 "cells": [
  {
   "cell_type": "code",
   "execution_count": null,
   "id": "15fecb12",
   "metadata": {},
   "outputs": [],
   "source": []
  },
  {
   "cell_type": "code",
   "execution_count": 209,
   "id": "0d808549",
   "metadata": {},
   "outputs": [
    {
     "name": "stdout",
     "output_type": "stream",
     "text": [
      "To: sdf\n",
      "Message: asdf\n"
     ]
    }
   ],
   "source": [
    "message = '{}: {}'.format(input(\"To: \"), textToBytes(input(\"Message: \")))\n",
    "message = message.encode('ascii')"
   ]
  },
  {
   "cell_type": "code",
   "execution_count": 212,
   "id": "6b7e139d",
   "metadata": {},
   "outputs": [],
   "source": [
    "# encrypting when sending\n",
    "def textToBytes(message):\n",
    "    with open('pk_hex.txt', 'r') as file:\n",
    "        pk_hex = file.read().replace('\\n', '')\n",
    "\n",
    "    data = str.encode(message)\n",
    "    cipher = encrypt(pk_hex, data)\n",
    "\n",
    "    return cipher\n",
    "\n",
    "\n",
    "def cleanData(message):\n",
    "    #print(message)\n",
    "    data = message\n",
    "    m = data.decode(\"utf-8\")\n",
    "    l = m.split(':')\n",
    "\n",
    "    user = l[0]\n",
    "    s = l[1]\n",
    "\n",
    "    text = s.encode('ascii')\n",
    "\n",
    "    #print(user)\n",
    "    #print(text)\n",
    "\n",
    "    return user, text\n",
    "\n",
    "\n",
    "\n",
    "def uploadIPFS(message):\n",
    "    with open(\"txt.txt\", \"wb\") as txt:\n",
    "        txt.write(message)\n",
    "    cmd = [ 'ipfs', 'add', 'txt.txt' ]\n",
    "    out = run(cmd, capture_output=True).stdout\n",
    "    output = out.decode(\"utf-8\")\n",
    "    outputs = output.split(\" \")\n",
    "    uri = outputs[1]\n",
    "    print(uri)\n",
    "    return uri\n",
    "\n",
    "# downloading uri from IPFS\n",
    "def ipfs(uri):\n",
    "    cmd = [ 'ipfs', 'get', uri ]\n",
    "    out = run(cmd, capture_output=True).stdout\n",
    "    output = out.decode(\"utf-8\")\n",
    "    outputs = output.split(\" \")\n",
    "    file = outputs[3]\n",
    "    file = file.rstrip()\n",
    "    # passing file to decryption function\n",
    "    decryption(file)\n",
    "\n",
    "\n",
    "# decrypting message in file\n",
    "def decryption(file):\n",
    "    with open(file, 'rb') as file:\n",
    "        cipher = file.read()\n",
    "\n",
    "    with open('sk_hex.txt', 'r') as file:\n",
    "        secret_key = file.read().replace('\\n', '')\n",
    "\n",
    "    text = decrypt(secret_key, cipher).decode(\"utf-8\")\n",
    "    print(text)\n"
   ]
  },
  {
   "cell_type": "code",
   "execution_count": 213,
   "id": "4a6c65a7",
   "metadata": {},
   "outputs": [
    {
     "name": "stdout",
     "output_type": "stream",
     "text": [
      "QmWw3iYPGtupvexhpkF6GxmqrWpwWNmttuJim784e6CT8z\n"
     ]
    },
    {
     "ename": "ValueError",
     "evalue": "The public key could not be parsed or is invalid.",
     "output_type": "error",
     "traceback": [
      "\u001b[0;31m---------------------------------------------------------------------------\u001b[0m",
      "\u001b[0;31mValueError\u001b[0m                                Traceback (most recent call last)",
      "\u001b[0;32m<ipython-input-213-413892262a68>\u001b[0m in \u001b[0;36m<module>\u001b[0;34m\u001b[0m\n\u001b[1;32m      3\u001b[0m \u001b[0muri\u001b[0m \u001b[0;34m=\u001b[0m \u001b[0muploadIPFS\u001b[0m\u001b[0;34m(\u001b[0m\u001b[0mtext\u001b[0m\u001b[0;34m)\u001b[0m\u001b[0;34m\u001b[0m\u001b[0;34m\u001b[0m\u001b[0m\n\u001b[1;32m      4\u001b[0m \u001b[0;34m\u001b[0m\u001b[0m\n\u001b[0;32m----> 5\u001b[0;31m \u001b[0mipfs\u001b[0m\u001b[0;34m(\u001b[0m\u001b[0muri\u001b[0m\u001b[0;34m)\u001b[0m\u001b[0;34m\u001b[0m\u001b[0;34m\u001b[0m\u001b[0m\n\u001b[0m",
      "\u001b[0;32m<ipython-input-212-5baff5b1f27a>\u001b[0m in \u001b[0;36mipfs\u001b[0;34m(uri)\u001b[0m\n\u001b[1;32m     50\u001b[0m     \u001b[0mfile\u001b[0m \u001b[0;34m=\u001b[0m \u001b[0mfile\u001b[0m\u001b[0;34m.\u001b[0m\u001b[0mrstrip\u001b[0m\u001b[0;34m(\u001b[0m\u001b[0;34m)\u001b[0m\u001b[0;34m\u001b[0m\u001b[0;34m\u001b[0m\u001b[0m\n\u001b[1;32m     51\u001b[0m     \u001b[0;31m# passing file to decryption function\u001b[0m\u001b[0;34m\u001b[0m\u001b[0;34m\u001b[0m\u001b[0;34m\u001b[0m\u001b[0m\n\u001b[0;32m---> 52\u001b[0;31m     \u001b[0mdecryption\u001b[0m\u001b[0;34m(\u001b[0m\u001b[0mfile\u001b[0m\u001b[0;34m)\u001b[0m\u001b[0;34m\u001b[0m\u001b[0;34m\u001b[0m\u001b[0m\n\u001b[0m\u001b[1;32m     53\u001b[0m \u001b[0;34m\u001b[0m\u001b[0m\n\u001b[1;32m     54\u001b[0m \u001b[0;34m\u001b[0m\u001b[0m\n",
      "\u001b[0;32m<ipython-input-212-5baff5b1f27a>\u001b[0m in \u001b[0;36mdecryption\u001b[0;34m(file)\u001b[0m\n\u001b[1;32m     61\u001b[0m         \u001b[0msecret_key\u001b[0m \u001b[0;34m=\u001b[0m \u001b[0mfile\u001b[0m\u001b[0;34m.\u001b[0m\u001b[0mread\u001b[0m\u001b[0;34m(\u001b[0m\u001b[0;34m)\u001b[0m\u001b[0;34m.\u001b[0m\u001b[0mreplace\u001b[0m\u001b[0;34m(\u001b[0m\u001b[0;34m'\\n'\u001b[0m\u001b[0;34m,\u001b[0m \u001b[0;34m''\u001b[0m\u001b[0;34m)\u001b[0m\u001b[0;34m\u001b[0m\u001b[0;34m\u001b[0m\u001b[0m\n\u001b[1;32m     62\u001b[0m \u001b[0;34m\u001b[0m\u001b[0m\n\u001b[0;32m---> 63\u001b[0;31m     \u001b[0mtext\u001b[0m \u001b[0;34m=\u001b[0m \u001b[0mdecrypt\u001b[0m\u001b[0;34m(\u001b[0m\u001b[0msecret_key\u001b[0m\u001b[0;34m,\u001b[0m \u001b[0mcipher\u001b[0m\u001b[0;34m)\u001b[0m\u001b[0;34m.\u001b[0m\u001b[0mdecode\u001b[0m\u001b[0;34m(\u001b[0m\u001b[0;34m\"utf-8\"\u001b[0m\u001b[0;34m)\u001b[0m\u001b[0;34m\u001b[0m\u001b[0;34m\u001b[0m\u001b[0m\n\u001b[0m\u001b[1;32m     64\u001b[0m     \u001b[0mprint\u001b[0m\u001b[0;34m(\u001b[0m\u001b[0mtext\u001b[0m\u001b[0;34m)\u001b[0m\u001b[0;34m\u001b[0m\u001b[0;34m\u001b[0m\u001b[0m\n",
      "\u001b[0;32m~/.local/lib/python3.8/site-packages/ecies/__init__.py\u001b[0m in \u001b[0;36mdecrypt\u001b[0;34m(receiver_sk, msg)\u001b[0m\n\u001b[1;32m     61\u001b[0m     \u001b[0mpubkey\u001b[0m \u001b[0;34m=\u001b[0m \u001b[0mmsg\u001b[0m\u001b[0;34m[\u001b[0m\u001b[0;36m0\u001b[0m\u001b[0;34m:\u001b[0m\u001b[0;36m65\u001b[0m\u001b[0;34m]\u001b[0m  \u001b[0;31m# uncompressed pubkey's length is 65 bytes\u001b[0m\u001b[0;34m\u001b[0m\u001b[0;34m\u001b[0m\u001b[0m\n\u001b[1;32m     62\u001b[0m     \u001b[0mencrypted\u001b[0m \u001b[0;34m=\u001b[0m \u001b[0mmsg\u001b[0m\u001b[0;34m[\u001b[0m\u001b[0;36m65\u001b[0m\u001b[0;34m:\u001b[0m\u001b[0;34m]\u001b[0m\u001b[0;34m\u001b[0m\u001b[0;34m\u001b[0m\u001b[0m\n\u001b[0;32m---> 63\u001b[0;31m     \u001b[0mephemeral_public_key\u001b[0m \u001b[0;34m=\u001b[0m \u001b[0mPublicKey\u001b[0m\u001b[0;34m(\u001b[0m\u001b[0mpubkey\u001b[0m\u001b[0;34m)\u001b[0m\u001b[0;34m\u001b[0m\u001b[0;34m\u001b[0m\u001b[0m\n\u001b[0m\u001b[1;32m     64\u001b[0m \u001b[0;34m\u001b[0m\u001b[0m\n\u001b[1;32m     65\u001b[0m     \u001b[0maes_key\u001b[0m \u001b[0;34m=\u001b[0m \u001b[0mdecapsulate\u001b[0m\u001b[0;34m(\u001b[0m\u001b[0mephemeral_public_key\u001b[0m\u001b[0;34m,\u001b[0m \u001b[0mprivate_key\u001b[0m\u001b[0;34m)\u001b[0m\u001b[0;34m\u001b[0m\u001b[0;34m\u001b[0m\u001b[0m\n",
      "\u001b[0;32m~/.local/lib/python3.8/site-packages/coincurve/keys.py\u001b[0m in \u001b[0;36m__init__\u001b[0;34m(self, data, context)\u001b[0m\n\u001b[1;32m    273\u001b[0m \u001b[0;34m\u001b[0m\u001b[0m\n\u001b[1;32m    274\u001b[0m             \u001b[0;32mif\u001b[0m \u001b[0;32mnot\u001b[0m \u001b[0mparsed\u001b[0m\u001b[0;34m:\u001b[0m\u001b[0;34m\u001b[0m\u001b[0;34m\u001b[0m\u001b[0m\n\u001b[0;32m--> 275\u001b[0;31m                 \u001b[0;32mraise\u001b[0m \u001b[0mValueError\u001b[0m\u001b[0;34m(\u001b[0m\u001b[0;34m'The public key could not be parsed or is invalid.'\u001b[0m\u001b[0;34m)\u001b[0m\u001b[0;34m\u001b[0m\u001b[0;34m\u001b[0m\u001b[0m\n\u001b[0m\u001b[1;32m    276\u001b[0m \u001b[0;34m\u001b[0m\u001b[0m\n\u001b[1;32m    277\u001b[0m             \u001b[0mself\u001b[0m\u001b[0;34m.\u001b[0m\u001b[0mpublic_key\u001b[0m \u001b[0;34m=\u001b[0m \u001b[0mpublic_key\u001b[0m\u001b[0;34m\u001b[0m\u001b[0;34m\u001b[0m\u001b[0m\n",
      "\u001b[0;31mValueError\u001b[0m: The public key could not be parsed or is invalid."
     ]
    }
   ],
   "source": [
    "#print(message)\n",
    "user, text = cleanData(message)\n",
    "uri = uploadIPFS(text)\n",
    "\n",
    "ipfs(uri)"
   ]
  },
  {
   "cell_type": "code",
   "execution_count": null,
   "id": "46789b83",
   "metadata": {},
   "outputs": [],
   "source": []
  },
  {
   "cell_type": "code",
   "execution_count": 203,
   "id": "1ee30166",
   "metadata": {},
   "outputs": [
    {
     "name": "stdout",
     "output_type": "stream",
     "text": [
      "anon.session\t      pk_hex.txt\r\n",
      "anon.session-journal  pk.txt\r\n",
      "ballistic_calculator  PrimeNumber.cpp\r\n",
      "chat.ipynb\t      QmQ1Zbb8C9icXbrJmG1coSy2thNXft9SCxfZ1iiCi9XmQb\r\n",
      "client.py\t      QmSa6YAGTS4gjojzdW35LADPEjQNzjjBaZzTEWtoLh2h6u\r\n",
      "cryptography.ipynb    sample.txt\r\n",
      "Desktop\t\t      server.py\r\n",
      "Documents\t      sk_hex.txt\r\n",
      "Downloads\t      snap\r\n",
      "enabledesktop.sh      teddyMosaic-Copy1.ipynb\r\n",
      "go\t\t      teddyMosaic.ipynb\r\n",
      "isPrime.cpp\t      test.html\r\n",
      "katya.sol\t      test.py\r\n",
      "message.session       txt.txt\r\n",
      "message.txt\t      Untitled1.ipynb\r\n",
      "movieMosaic.ipynb     Untitled2.ipynb\r\n",
      "Music\t\t      Untitled-Copy1.ipynb\r\n",
      "myprivatekey.pem      Untitled.ipynb\r\n",
      "node_modules\t      Videos\r\n",
      "Pictures\t      work\r\n"
     ]
    }
   ],
   "source": [
    "!ls"
   ]
  },
  {
   "cell_type": "code",
   "execution_count": 195,
   "id": "6eff298e",
   "metadata": {},
   "outputs": [
    {
     "ename": "FileNotFoundError",
     "evalue": "[Errno 2] No such file or directory: 'QmVmdLDVV3Ro9FfWNf4cqqzu4iVHVeapZQBcPFmhq33rJm'",
     "output_type": "error",
     "traceback": [
      "\u001b[0;31m---------------------------------------------------------------------------\u001b[0m",
      "\u001b[0;31mFileNotFoundError\u001b[0m                         Traceback (most recent call last)",
      "\u001b[0;32m<ipython-input-195-e49175f50c94>\u001b[0m in \u001b[0;36m<module>\u001b[0;34m\u001b[0m\n\u001b[0;32m----> 1\u001b[0;31m \u001b[0;32mwith\u001b[0m \u001b[0mopen\u001b[0m\u001b[0;34m(\u001b[0m\u001b[0muri\u001b[0m\u001b[0;34m,\u001b[0m \u001b[0;34m'rb'\u001b[0m\u001b[0;34m)\u001b[0m \u001b[0;32mas\u001b[0m \u001b[0mfile\u001b[0m\u001b[0;34m:\u001b[0m\u001b[0;34m\u001b[0m\u001b[0;34m\u001b[0m\u001b[0m\n\u001b[0m\u001b[1;32m      2\u001b[0m     \u001b[0mcipher\u001b[0m \u001b[0;34m=\u001b[0m \u001b[0mfile\u001b[0m\u001b[0;34m.\u001b[0m\u001b[0mread\u001b[0m\u001b[0;34m(\u001b[0m\u001b[0;34m)\u001b[0m\u001b[0;34m\u001b[0m\u001b[0;34m\u001b[0m\u001b[0m\n",
      "\u001b[0;31mFileNotFoundError\u001b[0m: [Errno 2] No such file or directory: 'QmVmdLDVV3Ro9FfWNf4cqqzu4iVHVeapZQBcPFmhq33rJm'"
     ]
    }
   ],
   "source": [
    "\n",
    "\n",
    "with open(uri, 'rb') as file:\n",
    "    cipher = file.read()"
   ]
  },
  {
   "cell_type": "code",
   "execution_count": null,
   "id": "4a8b728a",
   "metadata": {},
   "outputs": [],
   "source": []
  },
  {
   "cell_type": "code",
   "execution_count": null,
   "id": "b3f6da48",
   "metadata": {},
   "outputs": [],
   "source": []
  },
  {
   "cell_type": "code",
   "execution_count": null,
   "id": "50b751c8",
   "metadata": {},
   "outputs": [],
   "source": []
  },
  {
   "cell_type": "code",
   "execution_count": null,
   "id": "c1336d0f",
   "metadata": {},
   "outputs": [],
   "source": []
  },
  {
   "cell_type": "code",
   "execution_count": 245,
   "id": "b2242b04",
   "metadata": {},
   "outputs": [],
   "source": [
    "users = {'alex': [\"<socket.socket fd=4, family=AddressFamily.AF_INET, type=SocketKind.SOCK_STREAM, proto=0, laddr=('127.0.0.1', 5035), raddr=('127.0.0.1', 38826)>\", \"('127.0.0.1', 38826)\"], 'john': [\"<socket.socket fd=5, family=AddressFamily.AF_INET, type=SocketKind.SOCK_STREAM, proto=0, laddr=('127.0.0.1', 5035), raddr=('127.0.0.1', 38828)>\", \"('127.0.0.1', 38828)\"]}"
   ]
  },
  {
   "cell_type": "code",
   "execution_count": 247,
   "id": "867897ef",
   "metadata": {},
   "outputs": [
    {
     "data": {
      "text/plain": [
       "\"<socket.socket fd=4, family=AddressFamily.AF_INET, type=SocketKind.SOCK_STREAM, proto=0, laddr=('127.0.0.1', 5035), raddr=('127.0.0.1', 38826)>\""
      ]
     },
     "execution_count": 247,
     "metadata": {},
     "output_type": "execute_result"
    }
   ],
   "source": [
    "users[\"alex\"][0]"
   ]
  },
  {
   "cell_type": "code",
   "execution_count": null,
   "id": "236a7c68",
   "metadata": {},
   "outputs": [],
   "source": []
  },
  {
   "cell_type": "code",
   "execution_count": null,
   "id": "d49a780a",
   "metadata": {},
   "outputs": [],
   "source": []
  },
  {
   "cell_type": "code",
   "execution_count": null,
   "id": "a836eb79",
   "metadata": {},
   "outputs": [],
   "source": []
  },
  {
   "cell_type": "code",
   "execution_count": 254,
   "id": "287a1128",
   "metadata": {},
   "outputs": [],
   "source": [
    "def ipfs(uri):\n",
    "    cmd = [ 'ipfs', 'get', uri ]\n",
    "    out = run(cmd, capture_output=True).stdout\n",
    "    output = out.decode(\"utf-8\")\n",
    "    outputs = output.split(\" \")\n",
    "    file = outputs[3]\n",
    "    file = file.rstrip()\n",
    "    # passing file to decryption function\n",
    "    decryption(file)\n",
    "\n",
    "\n",
    "# decrypting message in file\n",
    "def decryption(file):\n",
    "    with open(file, 'rb') as file:\n",
    "        cipher = file.read()\n",
    "\n",
    "    with open('sk_hex.txt', 'r') as file:\n",
    "        secret_key = file.read().replace('\\n', '')\n",
    "\n",
    "    text = decrypt(secret_key, cipher).decode(\"utf-8\")\n",
    "    print(text)"
   ]
  },
  {
   "cell_type": "code",
   "execution_count": 255,
   "id": "5cc01458",
   "metadata": {},
   "outputs": [
    {
     "ename": "ValueError",
     "evalue": "The public key could not be parsed or is invalid.",
     "output_type": "error",
     "traceback": [
      "\u001b[0;31m---------------------------------------------------------------------------\u001b[0m",
      "\u001b[0;31mValueError\u001b[0m                                Traceback (most recent call last)",
      "\u001b[0;32m<ipython-input-255-58c2586f5548>\u001b[0m in \u001b[0;36m<module>\u001b[0;34m\u001b[0m\n\u001b[1;32m      1\u001b[0m \u001b[0muri\u001b[0m \u001b[0;34m=\u001b[0m \u001b[0;34m\"QmNiVYXomwYwg3Gpmnf9ifBCUywz1N5Kad5iivY1ssTybx\"\u001b[0m\u001b[0;34m\u001b[0m\u001b[0;34m\u001b[0m\u001b[0m\n\u001b[0;32m----> 2\u001b[0;31m \u001b[0mipfs\u001b[0m\u001b[0;34m(\u001b[0m\u001b[0muri\u001b[0m\u001b[0;34m)\u001b[0m\u001b[0;34m\u001b[0m\u001b[0;34m\u001b[0m\u001b[0m\n\u001b[0m",
      "\u001b[0;32m<ipython-input-254-4156d7b867c5>\u001b[0m in \u001b[0;36mipfs\u001b[0;34m(uri)\u001b[0m\n\u001b[1;32m      7\u001b[0m     \u001b[0mfile\u001b[0m \u001b[0;34m=\u001b[0m \u001b[0mfile\u001b[0m\u001b[0;34m.\u001b[0m\u001b[0mrstrip\u001b[0m\u001b[0;34m(\u001b[0m\u001b[0;34m)\u001b[0m\u001b[0;34m\u001b[0m\u001b[0;34m\u001b[0m\u001b[0m\n\u001b[1;32m      8\u001b[0m     \u001b[0;31m# passing file to decryption function\u001b[0m\u001b[0;34m\u001b[0m\u001b[0;34m\u001b[0m\u001b[0;34m\u001b[0m\u001b[0m\n\u001b[0;32m----> 9\u001b[0;31m     \u001b[0mdecryption\u001b[0m\u001b[0;34m(\u001b[0m\u001b[0mfile\u001b[0m\u001b[0;34m)\u001b[0m\u001b[0;34m\u001b[0m\u001b[0;34m\u001b[0m\u001b[0m\n\u001b[0m\u001b[1;32m     10\u001b[0m \u001b[0;34m\u001b[0m\u001b[0m\n\u001b[1;32m     11\u001b[0m \u001b[0;34m\u001b[0m\u001b[0m\n",
      "\u001b[0;32m<ipython-input-254-4156d7b867c5>\u001b[0m in \u001b[0;36mdecryption\u001b[0;34m(file)\u001b[0m\n\u001b[1;32m     18\u001b[0m         \u001b[0msecret_key\u001b[0m \u001b[0;34m=\u001b[0m \u001b[0mfile\u001b[0m\u001b[0;34m.\u001b[0m\u001b[0mread\u001b[0m\u001b[0;34m(\u001b[0m\u001b[0;34m)\u001b[0m\u001b[0;34m.\u001b[0m\u001b[0mreplace\u001b[0m\u001b[0;34m(\u001b[0m\u001b[0;34m'\\n'\u001b[0m\u001b[0;34m,\u001b[0m \u001b[0;34m''\u001b[0m\u001b[0;34m)\u001b[0m\u001b[0;34m\u001b[0m\u001b[0;34m\u001b[0m\u001b[0m\n\u001b[1;32m     19\u001b[0m \u001b[0;34m\u001b[0m\u001b[0m\n\u001b[0;32m---> 20\u001b[0;31m     \u001b[0mtext\u001b[0m \u001b[0;34m=\u001b[0m \u001b[0mdecrypt\u001b[0m\u001b[0;34m(\u001b[0m\u001b[0msecret_key\u001b[0m\u001b[0;34m,\u001b[0m \u001b[0mcipher\u001b[0m\u001b[0;34m)\u001b[0m\u001b[0;34m.\u001b[0m\u001b[0mdecode\u001b[0m\u001b[0;34m(\u001b[0m\u001b[0;34m\"utf-8\"\u001b[0m\u001b[0;34m)\u001b[0m\u001b[0;34m\u001b[0m\u001b[0;34m\u001b[0m\u001b[0m\n\u001b[0m\u001b[1;32m     21\u001b[0m     \u001b[0mprint\u001b[0m\u001b[0;34m(\u001b[0m\u001b[0mtext\u001b[0m\u001b[0;34m)\u001b[0m\u001b[0;34m\u001b[0m\u001b[0;34m\u001b[0m\u001b[0m\n",
      "\u001b[0;32m~/.local/lib/python3.8/site-packages/ecies/__init__.py\u001b[0m in \u001b[0;36mdecrypt\u001b[0;34m(receiver_sk, msg)\u001b[0m\n\u001b[1;32m     61\u001b[0m     \u001b[0mpubkey\u001b[0m \u001b[0;34m=\u001b[0m \u001b[0mmsg\u001b[0m\u001b[0;34m[\u001b[0m\u001b[0;36m0\u001b[0m\u001b[0;34m:\u001b[0m\u001b[0;36m65\u001b[0m\u001b[0;34m]\u001b[0m  \u001b[0;31m# uncompressed pubkey's length is 65 bytes\u001b[0m\u001b[0;34m\u001b[0m\u001b[0;34m\u001b[0m\u001b[0m\n\u001b[1;32m     62\u001b[0m     \u001b[0mencrypted\u001b[0m \u001b[0;34m=\u001b[0m \u001b[0mmsg\u001b[0m\u001b[0;34m[\u001b[0m\u001b[0;36m65\u001b[0m\u001b[0;34m:\u001b[0m\u001b[0;34m]\u001b[0m\u001b[0;34m\u001b[0m\u001b[0;34m\u001b[0m\u001b[0m\n\u001b[0;32m---> 63\u001b[0;31m     \u001b[0mephemeral_public_key\u001b[0m \u001b[0;34m=\u001b[0m \u001b[0mPublicKey\u001b[0m\u001b[0;34m(\u001b[0m\u001b[0mpubkey\u001b[0m\u001b[0;34m)\u001b[0m\u001b[0;34m\u001b[0m\u001b[0;34m\u001b[0m\u001b[0m\n\u001b[0m\u001b[1;32m     64\u001b[0m \u001b[0;34m\u001b[0m\u001b[0m\n\u001b[1;32m     65\u001b[0m     \u001b[0maes_key\u001b[0m \u001b[0;34m=\u001b[0m \u001b[0mdecapsulate\u001b[0m\u001b[0;34m(\u001b[0m\u001b[0mephemeral_public_key\u001b[0m\u001b[0;34m,\u001b[0m \u001b[0mprivate_key\u001b[0m\u001b[0;34m)\u001b[0m\u001b[0;34m\u001b[0m\u001b[0;34m\u001b[0m\u001b[0m\n",
      "\u001b[0;32m~/.local/lib/python3.8/site-packages/coincurve/keys.py\u001b[0m in \u001b[0;36m__init__\u001b[0;34m(self, data, context)\u001b[0m\n\u001b[1;32m    273\u001b[0m \u001b[0;34m\u001b[0m\u001b[0m\n\u001b[1;32m    274\u001b[0m             \u001b[0;32mif\u001b[0m \u001b[0;32mnot\u001b[0m \u001b[0mparsed\u001b[0m\u001b[0;34m:\u001b[0m\u001b[0;34m\u001b[0m\u001b[0;34m\u001b[0m\u001b[0m\n\u001b[0;32m--> 275\u001b[0;31m                 \u001b[0;32mraise\u001b[0m \u001b[0mValueError\u001b[0m\u001b[0;34m(\u001b[0m\u001b[0;34m'The public key could not be parsed or is invalid.'\u001b[0m\u001b[0;34m)\u001b[0m\u001b[0;34m\u001b[0m\u001b[0;34m\u001b[0m\u001b[0m\n\u001b[0m\u001b[1;32m    276\u001b[0m \u001b[0;34m\u001b[0m\u001b[0m\n\u001b[1;32m    277\u001b[0m             \u001b[0mself\u001b[0m\u001b[0;34m.\u001b[0m\u001b[0mpublic_key\u001b[0m \u001b[0;34m=\u001b[0m \u001b[0mpublic_key\u001b[0m\u001b[0;34m\u001b[0m\u001b[0;34m\u001b[0m\u001b[0m\n",
      "\u001b[0;31mValueError\u001b[0m: The public key could not be parsed or is invalid."
     ]
    }
   ],
   "source": [
    "uri = \"QmWqoUk7E6qbP2nTRUewnTKiY1u1fnf5GCj6mBJ8TEJwb9\"\n",
    "ipfs(uri)"
   ]
  },
  {
   "cell_type": "code",
   "execution_count": null,
   "id": "20c3abe6",
   "metadata": {},
   "outputs": [],
   "source": []
  },
  {
   "cell_type": "code",
   "execution_count": null,
   "id": "132792e7",
   "metadata": {},
   "outputs": [],
   "source": []
  },
  {
   "cell_type": "code",
   "execution_count": null,
   "id": "5f9230b3",
   "metadata": {},
   "outputs": [],
   "source": [
    "###############################"
   ]
  },
  {
   "cell_type": "code",
   "execution_count": null,
   "id": "d55f9f43",
   "metadata": {},
   "outputs": [],
   "source": [
    "######################"
   ]
  },
  {
   "cell_type": "code",
   "execution_count": 3,
   "id": "7fd2bc19",
   "metadata": {},
   "outputs": [
    {
     "name": "stdout",
     "output_type": "stream",
     "text": [
      "private key: 0x51b11218ac7883254c9aaeeb59ee44061dc7848d3c2d0a6435fb2a263e743e04\n",
      "public key: 0x4ae7a9aa2478ac4a56533d8e22db28b5a4ca7d83d269ffd49b22fbe22f518b8c1\n",
      "ciphertext pubKey: 0x49fd7d87ec0dd5c4e27b315a52680b671f5ad9565658d8b3deaf5b6898f3d60c0\n",
      "encryption key: 0x134d8158e89e9c90c8eac8a1cd9886c0ba52e6ea01a8629a1eed38d1ee6672e60\n",
      "decryption key: 0x134d8158e89e9c90c8eac8a1cd9886c0ba52e6ea01a8629a1eed38d1ee6672e60\n"
     ]
    }
   ],
   "source": [
    "from tinyec import registry\n",
    "import secrets\n",
    "\n",
    "curve = registry.get_curve('brainpoolP256r1')\n",
    "\n",
    "def compress_point(point):\n",
    "    return hex(point.x) + hex(point.y % 2)[2:]\n",
    "\n",
    "def ecc_calc_encryption_keys(pubKey):\n",
    "    ciphertextPrivKey = secrets.randbelow(curve.field.n)\n",
    "    ciphertextPubKey = ciphertextPrivKey * curve.g\n",
    "    sharedECCKey = pubKey * ciphertextPrivKey\n",
    "    return (sharedECCKey, ciphertextPubKey)\n",
    "\n",
    "def ecc_calc_decryption_key(privKey, ciphertextPubKey):\n",
    "    sharedECCKey = ciphertextPubKey * privKey\n",
    "    return sharedECCKey\n",
    "\n",
    "privKey = secrets.randbelow(curve.field.n)\n",
    "pubKey = privKey * curve.g\n",
    "print(\"private key:\", hex(privKey))\n",
    "print(\"public key:\", compress_point(pubKey))\n",
    "\n",
    "(encryptKey, ciphertextPubKey) = ecc_calc_encryption_keys(pubKey)\n",
    "print(\"ciphertext pubKey:\", compress_point(ciphertextPubKey))\n",
    "print(\"encryption key:\", compress_point(encryptKey))\n",
    "\n",
    "decryptKey = ecc_calc_decryption_key(privKey, ciphertextPubKey)\n",
    "print(\"decryption key:\", compress_point(decryptKey))"
   ]
  },
  {
   "cell_type": "code",
   "execution_count": 8,
   "id": "6450b046",
   "metadata": {},
   "outputs": [
    {
     "name": "stdout",
     "output_type": "stream",
     "text": [
      "b'df0b7a7c42'\n",
      "encrypted msg: {'ciphertext': b'df0b7a7c42', 'nonce': b'b25cdd300a37e2fc684ea480ee01b4a2', 'authTag': b'b9ccd80a72539e6b3fccb035a4a76c18', 'ciphertextPubKey': '0x6ee489655fec4f8ee01bf9b9285744d0190539bc4bfb95f8718fd56567ab9ff41'}\n",
      "decrypted msg: b'hello'\n"
     ]
    }
   ],
   "source": [
    "from tinyec import registry\n",
    "from Crypto.Cipher import AES\n",
    "import hashlib, secrets, binascii\n",
    "import tinyec.ec as ec\n",
    "\n",
    "def encrypt_AES_GCM(msg, secretKey):\n",
    "    aesCipher = AES.new(secretKey, AES.MODE_GCM)\n",
    "    ciphertext, authTag = aesCipher.encrypt_and_digest(msg)\n",
    "    return (ciphertext, aesCipher.nonce, authTag)\n",
    "\n",
    "def decrypt_AES_GCM(ciphertext, nonce, authTag, secretKey):\n",
    "    aesCipher = AES.new(secretKey, AES.MODE_GCM, nonce)\n",
    "    plaintext = aesCipher.decrypt_and_verify(ciphertext, authTag)\n",
    "    return plaintext\n",
    "\n",
    "def ecc_point_to_256_bit_key(point):\n",
    "    sha = hashlib.sha256(int.to_bytes(point.x, 32, 'big'))\n",
    "    sha.update(int.to_bytes(point.y, 32, 'big'))\n",
    "    return sha.digest()\n",
    "\n",
    "curve = registry.get_curve('brainpoolP256r1')\n",
    "\n",
    "def encrypt_ECC(msg, pubKey):\n",
    "    ciphertextPrivKey = secrets.randbelow(curve.field.n)\n",
    "    sharedECCKey = ciphertextPrivKey * pubKey\n",
    "    secretKey = ecc_point_to_256_bit_key(sharedECCKey)\n",
    "    ciphertext, nonce, authTag = encrypt_AES_GCM(msg, secretKey)\n",
    "    ciphertextPubKey = ciphertextPrivKey * curve.g\n",
    "    return (ciphertext, nonce, authTag, ciphertextPubKey)\n",
    "\n",
    "def decrypt_ECC(encryptedMsg, privKey):\n",
    "    (ciphertext, nonce, authTag, ciphertextPubKey) = encryptedMsg\n",
    "    sharedECCKey = privKey * ciphertextPubKey\n",
    "    secretKey = ecc_point_to_256_bit_key(sharedECCKey)\n",
    "    plaintext = decrypt_AES_GCM(ciphertext, nonce, authTag, secretKey)\n",
    "    return plaintext\n",
    "\n",
    "msg = b'hello' \n",
    "#print(\"original msg:\", msg)\n",
    "privKey = secrets.randbelow(curve.field.n)\n",
    "pubKey = privKey * curve.g\n",
    "\n",
    "encryptedMsg = encrypt_ECC(msg, pubKey)\n",
    "encryptedMsgObj = {\n",
    "    'ciphertext': binascii.hexlify(encryptedMsg[0]),\n",
    "    'nonce': binascii.hexlify(encryptedMsg[1]),\n",
    "    'authTag': binascii.hexlify(encryptedMsg[2]),\n",
    "    'ciphertextPubKey': hex(encryptedMsg[3].x) + hex(encryptedMsg[3].y % 2)[2:]\n",
    "}\n",
    "\n",
    "print(binascii.hexlify(encryptedMsg[0]))\n",
    "print(\"encrypted msg:\", encryptedMsgObj)\n",
    "\n",
    "decryptedMsg = decrypt_ECC(encryptedMsg, privKey)\n",
    "print(\"decrypted msg:\", decryptedMsg)"
   ]
  },
  {
   "cell_type": "code",
   "execution_count": 46,
   "id": "2ebabed7",
   "metadata": {},
   "outputs": [
    {
     "name": "stdout",
     "output_type": "stream",
     "text": [
      "11319171765320960919024541254219153765070602813622811097832759110475467657426\n"
     ]
    }
   ],
   "source": [
    "print(privKey)\n",
    "\n",
    "#SavedPrivKEY = privKey\n"
   ]
  },
  {
   "cell_type": "code",
   "execution_count": null,
   "id": "4e7b8c28",
   "metadata": {},
   "outputs": [],
   "source": []
  },
  {
   "cell_type": "code",
   "execution_count": 10,
   "id": "da985818",
   "metadata": {
    "scrolled": true
   },
   "outputs": [
    {
     "name": "stdout",
     "output_type": "stream",
     "text": [
      "{'ciphertext': b'df0b7a7c42', 'nonce': b'b25cdd300a37e2fc684ea480ee01b4a2', 'authTag': b'b9ccd80a72539e6b3fccb035a4a76c18', 'ciphertextPubKey': '0x6ee489655fec4f8ee01bf9b9285744d0190539bc4bfb95f8718fd56567ab9ff41'}\n"
     ]
    }
   ],
   "source": [
    "msg = b\"hello\"\n",
    "encryptedMsg = encrypt_ECC(msg, pubKey)\n",
    "print(encryptedMsgObj)"
   ]
  },
  {
   "cell_type": "code",
   "execution_count": 11,
   "id": "dfa82476",
   "metadata": {},
   "outputs": [
    {
     "name": "stdout",
     "output_type": "stream",
     "text": [
      "(b'\\xe9\\xf7\\xab\\xca\\xb8', b'\\x17\\x11]4\\x87\\x95=\\x08\\xa2\\x0eX\\xfb\\xd5Z\\xe8\\xa8', b'\\xd5*\\xf6\\x15\\xd2\\x8a\"a\\x11\\xb6\\x8f\\x97\\xf0\\x87K\\x9c', (11529522162646366699455198578750052268591848897533514544435344890484998852981, 11490177000300566630920371674853046498603453815382630495258708147670604587237) on \"brainpoolP256r1\" => y^2 = x^3 + 56698187605326110043627228396178346077120614539475214109386828188763884139993x + 17577232497321838841075697789794520262950426058923084567046852300633325438902 (mod 76884956397045344220809746629001649093037950200943055203735601445031516197751))\n"
     ]
    }
   ],
   "source": [
    "#### THIS IS WHAT YOU ARE TRYING TO RECONSTRUCT\n",
    "print(encryptedMsg)"
   ]
  },
  {
   "cell_type": "code",
   "execution_count": null,
   "id": "264a8ebf",
   "metadata": {},
   "outputs": [],
   "source": []
  },
  {
   "cell_type": "code",
   "execution_count": 12,
   "id": "3b3b3e8d",
   "metadata": {
    "scrolled": true
   },
   "outputs": [
    {
     "name": "stdout",
     "output_type": "stream",
     "text": [
      "b'e9f7abcab8'\n",
      "b'\\xe9\\xf7\\xab\\xca\\xb8'\n"
     ]
    }
   ],
   "source": [
    "a = binascii.hexlify(encryptedMsg[0])\n",
    "print(a)\n",
    "\n",
    "b = binascii.unhexlify(a)\n",
    "print(b)"
   ]
  },
  {
   "cell_type": "code",
   "execution_count": 13,
   "id": "4742cdac",
   "metadata": {},
   "outputs": [],
   "source": [
    "#step 1 put it in a legible dictionary that makes sense\n",
    "encryptedMsgDic = {\n",
    "    'ciphertext': binascii.hexlify(encryptedMsg[0]),\n",
    "    'nonce': binascii.hexlify(encryptedMsg[1]),\n",
    "    'authTag': binascii.hexlify(encryptedMsg[2]),\n",
    "    'x': hex(encryptedMsg[3].x),\n",
    "    'y': hex(encryptedMsg[3].y)\n",
    "}"
   ]
  },
  {
   "cell_type": "code",
   "execution_count": 14,
   "id": "ee083c3e",
   "metadata": {},
   "outputs": [
    {
     "data": {
      "text/plain": [
       "{'ciphertext': b'e9f7abcab8',\n",
       " 'nonce': b'17115d3487953d08a20e58fbd55ae8a8',\n",
       " 'authTag': b'd52af615d28a226111b68f97f0874b9c',\n",
       " 'x': '0x197d7a7133a5c91c980bc825bd270dc5aca283a64547d31a2a067e96a9b0d175',\n",
       " 'y': '0x196735b0052009098f1d8e0cc660ed4cb82be0d8d87db508f7d83406431020e5'}"
      ]
     },
     "execution_count": 14,
     "metadata": {},
     "output_type": "execute_result"
    }
   ],
   "source": [
    "encryptedMsgDic"
   ]
  },
  {
   "cell_type": "code",
   "execution_count": 15,
   "id": "7b8fd806",
   "metadata": {},
   "outputs": [],
   "source": [
    "# step two - convert everything to str in the dictionary\n",
    "# lets make a new dictionary but everything is in a string\n",
    "a = str(encryptedMsgDic[\"ciphertext\"])\n",
    "b = str(encryptedMsgDic[\"nonce\"])\n",
    "c = str(encryptedMsgDic[\"authTag\"])\n",
    "d = str(encryptedMsgDic[\"x\"])\n",
    "e = str(encryptedMsgDic[\"y\"])\n",
    "\n",
    "encryptedMsgDicStr = {\n",
    "    'a': a,\n",
    "    'b': b,\n",
    "    'c': c,\n",
    "    'd': d,\n",
    "    'e': e\n",
    "}"
   ]
  },
  {
   "cell_type": "code",
   "execution_count": 16,
   "id": "78d76e7e",
   "metadata": {},
   "outputs": [
    {
     "data": {
      "text/plain": [
       "{'a': \"b'e9f7abcab8'\",\n",
       " 'b': \"b'17115d3487953d08a20e58fbd55ae8a8'\",\n",
       " 'c': \"b'd52af615d28a226111b68f97f0874b9c'\",\n",
       " 'd': '0x197d7a7133a5c91c980bc825bd270dc5aca283a64547d31a2a067e96a9b0d175',\n",
       " 'e': '0x196735b0052009098f1d8e0cc660ed4cb82be0d8d87db508f7d83406431020e5'}"
      ]
     },
     "execution_count": 16,
     "metadata": {},
     "output_type": "execute_result"
    }
   ],
   "source": [
    "# here the bytes are literally read into the string... this is ok\n",
    "encryptedMsgDicStr"
   ]
  },
  {
   "cell_type": "code",
   "execution_count": 17,
   "id": "88cfd9c0",
   "metadata": {},
   "outputs": [],
   "source": [
    "# step 3\n",
    "# convert the entire dictionary into one string separated by symbols\n",
    "cipherstr = ''"
   ]
  },
  {
   "cell_type": "code",
   "execution_count": 18,
   "id": "21808a86",
   "metadata": {},
   "outputs": [
    {
     "name": "stdout",
     "output_type": "stream",
     "text": [
      "b'e9f7abcab8' : b'17115d3487953d08a20e58fbd55ae8a8' : b'd52af615d28a226111b68f97f0874b9c' : 0x197d7a7133a5c91c980bc825bd270dc5aca283a64547d31a2a067e96a9b0d175 : 0x196735b0052009098f1d8e0cc660ed4cb82be0d8d87db508f7d83406431020e5 : \n"
     ]
    }
   ],
   "source": [
    "for i in encryptedMsgDicStr:\n",
    "    #print(encryptedMsgDicStr[i])\n",
    "    cipherstr += encryptedMsgDicStr[i] + ' : '\n",
    "print(cipherstr)"
   ]
  },
  {
   "cell_type": "code",
   "execution_count": 19,
   "id": "22f5beec",
   "metadata": {},
   "outputs": [
    {
     "name": "stdout",
     "output_type": "stream",
     "text": [
      "b\"b'e9f7abcab8' : b'17115d3487953d08a20e58fbd55ae8a8' : b'd52af615d28a226111b68f97f0874b9c' : 0x197d7a7133a5c91c980bc825bd270dc5aca283a64547d31a2a067e96a9b0d175 : 0x196735b0052009098f1d8e0cc660ed4cb82be0d8d87db508f7d83406431020e5 : \"\n"
     ]
    }
   ],
   "source": [
    "# step 4 \n",
    "# in the client script, the msg is encoded to bytes \n",
    "# let's do that now\n",
    "m = cipherstr.encode(\"ascii\")\n",
    "print(m)"
   ]
  },
  {
   "cell_type": "code",
   "execution_count": 20,
   "id": "3cfe7246",
   "metadata": {},
   "outputs": [],
   "source": [
    "######### YOU SEND VAR M ################"
   ]
  },
  {
   "cell_type": "code",
   "execution_count": null,
   "id": "4b9ead5c",
   "metadata": {},
   "outputs": [],
   "source": []
  },
  {
   "cell_type": "code",
   "execution_count": 21,
   "id": "f9f7cb7c",
   "metadata": {},
   "outputs": [
    {
     "name": "stdout",
     "output_type": "stream",
     "text": [
      "b'e9f7abcab8' : b'17115d3487953d08a20e58fbd55ae8a8' : b'd52af615d28a226111b68f97f0874b9c' : 0x197d7a7133a5c91c980bc825bd270dc5aca283a64547d31a2a067e96a9b0d175 : 0x196735b0052009098f1d8e0cc660ed4cb82be0d8d87db508f7d83406431020e5 : \n"
     ]
    }
   ],
   "source": [
    "d = m.decode(\"ascii\")\n",
    "print(d)"
   ]
  },
  {
   "cell_type": "code",
   "execution_count": null,
   "id": "cc6e96d9",
   "metadata": {},
   "outputs": [],
   "source": []
  },
  {
   "cell_type": "code",
   "execution_count": 22,
   "id": "33e5a52f",
   "metadata": {},
   "outputs": [],
   "source": [
    "# step 5 \n",
    "# the var d is what the client will recieve \n",
    "# let's reconstruct this var into the encryptedMsg var"
   ]
  },
  {
   "cell_type": "code",
   "execution_count": 69,
   "id": "2f32f6a4",
   "metadata": {},
   "outputs": [
    {
     "data": {
      "text/plain": [
       "\"b'e9f7abcab8' : b'17115d3487953d08a20e58fbd55ae8a8' : b'd52af615d28a226111b68f97f0874b9c' : 0x197d7a7133a5c91c980bc825bd270dc5aca283a64547d31a2a067e96a9b0d175 : 0x196735b0052009098f1d8e0cc660ed4cb82be0d8d87db508f7d83406431020e5 : \""
      ]
     },
     "execution_count": 69,
     "metadata": {},
     "output_type": "execute_result"
    }
   ],
   "source": [
    "d"
   ]
  },
  {
   "cell_type": "code",
   "execution_count": 24,
   "id": "a36cf522",
   "metadata": {},
   "outputs": [],
   "source": [
    "array = d.split(': ')"
   ]
  },
  {
   "cell_type": "code",
   "execution_count": 25,
   "id": "e7b4ddf6",
   "metadata": {
    "scrolled": true
   },
   "outputs": [
    {
     "data": {
      "text/plain": [
       "[\"b'e9f7abcab8' \",\n",
       " \"b'17115d3487953d08a20e58fbd55ae8a8' \",\n",
       " \"b'd52af615d28a226111b68f97f0874b9c' \",\n",
       " '0x197d7a7133a5c91c980bc825bd270dc5aca283a64547d31a2a067e96a9b0d175 ',\n",
       " '0x196735b0052009098f1d8e0cc660ed4cb82be0d8d87db508f7d83406431020e5 ',\n",
       " '']"
      ]
     },
     "execution_count": 25,
     "metadata": {},
     "output_type": "execute_result"
    }
   ],
   "source": [
    "array"
   ]
  },
  {
   "cell_type": "code",
   "execution_count": 26,
   "id": "3ef4b806",
   "metadata": {},
   "outputs": [],
   "source": [
    "# step 6 \n",
    "# reconstruct encryptedMsg tuple using array"
   ]
  },
  {
   "cell_type": "code",
   "execution_count": 28,
   "id": "e332b009",
   "metadata": {},
   "outputs": [],
   "source": [
    "a = array[0].strip()\n",
    "a = eval(a)\n",
    "ciphertext = binascii.unhexlify(a)\n",
    "\n",
    "b = array[1].strip()\n",
    "b = eval(b)\n",
    "nonce = binascii.unhexlify(b)\n",
    "\n",
    "c = array[2].strip()\n",
    "c = eval(c)\n",
    "authTag = binascii.unhexlify(c)\n",
    "\n",
    "x = array[3].strip()\n",
    "y = array[4].strip()\n",
    "# convert x,y to int \n",
    "x = int(x,16)\n",
    "y = int(y,16)"
   ]
  },
  {
   "cell_type": "code",
   "execution_count": 29,
   "id": "11fcd599",
   "metadata": {},
   "outputs": [
    {
     "data": {
      "text/plain": [
       "11529522162646366699455198578750052268591848897533514544435344890484998852981"
      ]
     },
     "execution_count": 29,
     "metadata": {},
     "output_type": "execute_result"
    }
   ],
   "source": [
    "x"
   ]
  },
  {
   "cell_type": "code",
   "execution_count": 30,
   "id": "ad9dc061",
   "metadata": {},
   "outputs": [
    {
     "name": "stdout",
     "output_type": "stream",
     "text": [
      "(11529522162646366699455198578750052268591848897533514544435344890484998852981, 11490177000300566630920371674853046498603453815382630495258708147670604587237) on \"brainpoolP256r1\" => y^2 = x^3 + 56698187605326110043627228396178346077120614539475214109386828188763884139993x + 17577232497321838841075697789794520262950426058923084567046852300633325438902 (mod 76884956397045344220809746629001649093037950200943055203735601445031516197751)\n"
     ]
    }
   ],
   "source": [
    "p = ec.Point(curve,x,y)\n",
    "print(p)"
   ]
  },
  {
   "cell_type": "code",
   "execution_count": 31,
   "id": "a8656729",
   "metadata": {},
   "outputs": [],
   "source": [
    "array = [ciphertext, nonce, authTag, p]"
   ]
  },
  {
   "cell_type": "code",
   "execution_count": 32,
   "id": "90b54a3b",
   "metadata": {},
   "outputs": [],
   "source": [
    "encryptedMsgS = tuple(array)"
   ]
  },
  {
   "cell_type": "code",
   "execution_count": 33,
   "id": "38eca018",
   "metadata": {},
   "outputs": [
    {
     "name": "stdout",
     "output_type": "stream",
     "text": [
      "(b'\\xe9\\xf7\\xab\\xca\\xb8', b'\\x17\\x11]4\\x87\\x95=\\x08\\xa2\\x0eX\\xfb\\xd5Z\\xe8\\xa8', b'\\xd5*\\xf6\\x15\\xd2\\x8a\"a\\x11\\xb6\\x8f\\x97\\xf0\\x87K\\x9c', (11529522162646366699455198578750052268591848897533514544435344890484998852981, 11490177000300566630920371674853046498603453815382630495258708147670604587237) on \"brainpoolP256r1\" => y^2 = x^3 + 56698187605326110043627228396178346077120614539475214109386828188763884139993x + 17577232497321838841075697789794520262950426058923084567046852300633325438902 (mod 76884956397045344220809746629001649093037950200943055203735601445031516197751))\n"
     ]
    }
   ],
   "source": [
    "print(encryptedMsgS)"
   ]
  },
  {
   "cell_type": "code",
   "execution_count": 34,
   "id": "55e2de51",
   "metadata": {},
   "outputs": [
    {
     "name": "stdout",
     "output_type": "stream",
     "text": [
      "True\n"
     ]
    }
   ],
   "source": [
    "if encryptedMsgS == encryptedMsg:\n",
    "    print(\"True\")\n",
    "else:\n",
    "    print(\"you done messed up\")"
   ]
  },
  {
   "cell_type": "code",
   "execution_count": 35,
   "id": "5ae14dcc",
   "metadata": {
    "scrolled": true
   },
   "outputs": [
    {
     "name": "stdout",
     "output_type": "stream",
     "text": [
      "(b'\\xe9\\xf7\\xab\\xca\\xb8', b'\\x17\\x11]4\\x87\\x95=\\x08\\xa2\\x0eX\\xfb\\xd5Z\\xe8\\xa8', b'\\xd5*\\xf6\\x15\\xd2\\x8a\"a\\x11\\xb6\\x8f\\x97\\xf0\\x87K\\x9c', (11529522162646366699455198578750052268591848897533514544435344890484998852981, 11490177000300566630920371674853046498603453815382630495258708147670604587237) on \"brainpoolP256r1\" => y^2 = x^3 + 56698187605326110043627228396178346077120614539475214109386828188763884139993x + 17577232497321838841075697789794520262950426058923084567046852300633325438902 (mod 76884956397045344220809746629001649093037950200943055203735601445031516197751))\n"
     ]
    }
   ],
   "source": [
    "#### THIS IS WHAT YOU ARE TRYING TO RECONSTRUCT\n",
    "print(encryptedMsg)"
   ]
  },
  {
   "cell_type": "code",
   "execution_count": 36,
   "id": "d88e194e",
   "metadata": {},
   "outputs": [],
   "source": [
    "# all is good :) "
   ]
  },
  {
   "cell_type": "code",
   "execution_count": 40,
   "id": "583f98ed",
   "metadata": {},
   "outputs": [
    {
     "name": "stdout",
     "output_type": "stream",
     "text": [
      "b'hello'\n"
     ]
    }
   ],
   "source": [
    "decryptedMsg = decrypt_ECC(encryptedMsg, privKey)\n",
    "print(decryptedMsg)"
   ]
  },
  {
   "cell_type": "code",
   "execution_count": null,
   "id": "c7627f01",
   "metadata": {},
   "outputs": [],
   "source": []
  },
  {
   "cell_type": "code",
   "execution_count": 38,
   "id": "1037976b",
   "metadata": {},
   "outputs": [],
   "source": [
    "# Write a function(s) now that do this all at once"
   ]
  },
  {
   "cell_type": "code",
   "execution_count": null,
   "id": "b15650b2",
   "metadata": {},
   "outputs": [],
   "source": []
  },
  {
   "cell_type": "code",
   "execution_count": null,
   "id": "06b0e434",
   "metadata": {},
   "outputs": [],
   "source": [
    "#########################################"
   ]
  },
  {
   "cell_type": "code",
   "execution_count": 57,
   "id": "7331eb32",
   "metadata": {},
   "outputs": [],
   "source": [
    "from tinyec import registry\n",
    "from Crypto.Cipher import AES\n",
    "import hashlib, secrets, binascii\n",
    "import tinyec.ec as ec\n",
    "\n",
    "def encrypt_AES_GCM(msg, secretKey):\n",
    "    aesCipher = AES.new(secretKey, AES.MODE_GCM)\n",
    "    ciphertext, authTag = aesCipher.encrypt_and_digest(msg)\n",
    "    return (ciphertext, aesCipher.nonce, authTag)\n",
    "\n",
    "def decrypt_AES_GCM(ciphertext, nonce, authTag, secretKey):\n",
    "    aesCipher = AES.new(secretKey, AES.MODE_GCM, nonce)\n",
    "    plaintext = aesCipher.decrypt_and_verify(ciphertext, authTag)\n",
    "    return plaintext\n",
    "\n",
    "def ecc_point_to_256_bit_key(point):\n",
    "    sha = hashlib.sha256(int.to_bytes(point.x, 32, 'big'))\n",
    "    sha.update(int.to_bytes(point.y, 32, 'big'))\n",
    "    return sha.digest()\n",
    "\n",
    "curve = registry.get_curve('brainpoolP256r1')\n",
    "\n",
    "def encrypt_ECC(msg, pubKey):\n",
    "    ciphertextPrivKey = secrets.randbelow(curve.field.n)\n",
    "    sharedECCKey = ciphertextPrivKey * pubKey\n",
    "    secretKey = ecc_point_to_256_bit_key(sharedECCKey)\n",
    "    ciphertext, nonce, authTag = encrypt_AES_GCM(msg, secretKey)\n",
    "    ciphertextPubKey = ciphertextPrivKey * curve.g\n",
    "    return (ciphertext, nonce, authTag, ciphertextPubKey)\n",
    "\n",
    "def decrypt_ECC(encryptedMsg, privKey):\n",
    "    (ciphertext, nonce, authTag, ciphertextPubKey) = encryptedMsg\n",
    "    sharedECCKey = privKey * ciphertextPubKey\n",
    "    secretKey = ecc_point_to_256_bit_key(sharedECCKey)\n",
    "    plaintext = decrypt_AES_GCM(ciphertext, nonce, authTag, secretKey)\n",
    "    return plaintext"
   ]
  },
  {
   "cell_type": "code",
   "execution_count": 97,
   "id": "9f1eb44c",
   "metadata": {},
   "outputs": [],
   "source": [
    "###### KEY GEN SCRIPT ##########\n",
    "from tinyec import registry\n",
    "from Crypto.Cipher import AES\n",
    "import hashlib, secrets, binascii\n",
    "import tinyec.ec as ec\n",
    "\n",
    "\n",
    "# convert pubKey thing to hex\n",
    "def compress_point(point):\n",
    "    return hex(point.x) + hex(point.y % 2)[2:]\n",
    "\n",
    "\n",
    "def keyGen():\n",
    "    \n",
    "    # obviously you can change the curve values\n",
    "    curve = registry.get_curve('brainpoolP256r1')\n",
    "    \n",
    "    privKey = secrets.randbelow(curve.field.n)\n",
    "    pubKey = privKey * curve.g\n",
    "    \n",
    "    return privKey, pubKey\n",
    "    \n",
    "    \n",
    "privKey, pubKey = keyGen()\n",
    "\n",
    "\n",
    "pubKeyHex = compress_point(pubKey)\n",
    "\n",
    "\n",
    "with open(\"privKey.txt\", \"w\") as privk:\n",
    "    privk.write(str(privKey))\n",
    "\n",
    "with open(\"pubKey.txt\", \"w\") as pubk:\n",
    "    pubk.write(str(pubKeyHex))"
   ]
  },
  {
   "cell_type": "code",
   "execution_count": null,
   "id": "04b80a6e",
   "metadata": {},
   "outputs": [],
   "source": []
  },
  {
   "cell_type": "code",
   "execution_count": null,
   "id": "b0289525",
   "metadata": {},
   "outputs": [],
   "source": [
    "############### CONVERT PUBLIC KEY TO HEX AND BACK ####################"
   ]
  },
  {
   "cell_type": "code",
   "execution_count": 98,
   "id": "5694ca86",
   "metadata": {},
   "outputs": [
    {
     "name": "stdout",
     "output_type": "stream",
     "text": [
      "(24868389969402472219320374412687538053933790428928945693324794206842384092756, 37605365560127652187167283986876270158206002179756840605109687364465619606415) on \"brainpoolP256r1\" => y^2 = x^3 + 56698187605326110043627228396178346077120614539475214109386828188763884139993x + 17577232497321838841075697789794520262950426058923084567046852300633325438902 (mod 76884956397045344220809746629001649093037950200943055203735601445031516197751)\n"
     ]
    }
   ],
   "source": [
    "print(pubKey)"
   ]
  },
  {
   "cell_type": "code",
   "execution_count": null,
   "id": "441dbf2a",
   "metadata": {},
   "outputs": [],
   "source": []
  },
  {
   "cell_type": "code",
   "execution_count": 163,
   "id": "c211cee2",
   "metadata": {},
   "outputs": [],
   "source": [
    "a = 24868389969402472219320374412687538053933790428928945693324794206842384092756\n",
    "b = 37605365560127652187167283986876270158206002179756840605109687364465619606415"
   ]
  },
  {
   "cell_type": "code",
   "execution_count": 164,
   "id": "6b8d33ef",
   "metadata": {},
   "outputs": [
    {
     "name": "stdout",
     "output_type": "stream",
     "text": [
      "0x36fb028a526f437f595ed5be98e88694ca8a93abb2e187dcf8b66b35212d0e54\n",
      "0x5323e1f4584127085fbe7d76dbbec8aa99e3cf07d52f170516a903c8822f9b8f\n"
     ]
    }
   ],
   "source": [
    "a = hex(a)\n",
    "b = hex(b)\n",
    "\n",
    "print(a)\n",
    "print(b)"
   ]
  },
  {
   "cell_type": "code",
   "execution_count": 146,
   "id": "fd9b00f8",
   "metadata": {},
   "outputs": [
    {
     "name": "stdout",
     "output_type": "stream",
     "text": [
      "0x8a1ee47eaab06a87b91d533574a74f3f646e62b388109ee20f5f6efda35ca9e3\n"
     ]
    }
   ],
   "source": [
    "z =a+b\n",
    "z = hex(z)\n",
    "print(z)"
   ]
  },
  {
   "cell_type": "code",
   "execution_count": 141,
   "id": "c5d141ea",
   "metadata": {},
   "outputs": [
    {
     "data": {
      "text/plain": [
       "1.7142857142857142"
      ]
     },
     "execution_count": 141,
     "metadata": {},
     "output_type": "execute_result"
    }
   ],
   "source": [
    "132/77"
   ]
  },
  {
   "cell_type": "code",
   "execution_count": null,
   "id": "68021764",
   "metadata": {},
   "outputs": [],
   "source": []
  },
  {
   "cell_type": "code",
   "execution_count": null,
   "id": "59632dd6",
   "metadata": {},
   "outputs": [],
   "source": [
    "### FOR LOOP TO SPLIT IN TWO"
   ]
  },
  {
   "cell_type": "code",
   "execution_count": 140,
   "id": "0b2bdc4f",
   "metadata": {},
   "outputs": [
    {
     "name": "stdout",
     "output_type": "stream",
     "text": [
      "77\n",
      "55\n"
     ]
    }
   ],
   "source": [
    "n = 0\n",
    "x = \"\"\n",
    "y = \"\"\n",
    "\n",
    "for i in z:\n",
    "    if n < 77:\n",
    "        x+=i\n",
    "    else:\n",
    "        y+=i\n",
    "        \n",
    "    n+=1\n",
    "print(len(x))\n",
    "print(len(y))"
   ]
  },
  {
   "cell_type": "code",
   "execution_count": 137,
   "id": "bb86da2d",
   "metadata": {},
   "outputs": [
    {
     "name": "stdout",
     "output_type": "stream",
     "text": [
      "z\n"
     ]
    }
   ],
   "source": [
    "x = ''\n",
    "i = \"z\"\n",
    "x += i\n",
    "print(x)"
   ]
  },
  {
   "cell_type": "code",
   "execution_count": 165,
   "id": "34e19fbf",
   "metadata": {},
   "outputs": [
    {
     "name": "stdout",
     "output_type": "stream",
     "text": [
      "/home/ubuntu\r\n"
     ]
    }
   ],
   "source": [
    "!pwd"
   ]
  },
  {
   "cell_type": "code",
   "execution_count": 133,
   "id": "19ea62bf",
   "metadata": {},
   "outputs": [
    {
     "data": {
      "text/plain": [
       "'0x36fb028a526f437f595ed5be98e88694ca8a93abb2e187dcf8b66b35212d0e541'"
      ]
     },
     "execution_count": 133,
     "metadata": {},
     "output_type": "execute_result"
    }
   ],
   "source": [
    "p = ec.Point(curve,a,b)\n",
    "\n",
    "def compress_point(point):\n",
    "    return hex(point.x) + hex(point.y % 2)[2:]\n",
    "\n",
    "compress_point(p)"
   ]
  },
  {
   "cell_type": "code",
   "execution_count": null,
   "id": "ece666f0",
   "metadata": {},
   "outputs": [],
   "source": []
  },
  {
   "cell_type": "code",
   "execution_count": null,
   "id": "d2146fc7",
   "metadata": {},
   "outputs": [],
   "source": []
  },
  {
   "cell_type": "code",
   "execution_count": 115,
   "id": "708d3fbe",
   "metadata": {},
   "outputs": [
    {
     "ename": "TypeError",
     "evalue": "'str' object cannot be interpreted as an integer",
     "output_type": "error",
     "traceback": [
      "\u001b[0;31m---------------------------------------------------------------------------\u001b[0m",
      "\u001b[0;31mTypeError\u001b[0m                                 Traceback (most recent call last)",
      "\u001b[0;32m<ipython-input-115-e0039e392259>\u001b[0m in \u001b[0;36m<module>\u001b[0;34m\u001b[0m\n\u001b[0;32m----> 1\u001b[0;31m \u001b[0ma\u001b[0m \u001b[0;34m=\u001b[0m \u001b[0mhex\u001b[0m\u001b[0;34m(\u001b[0m\u001b[0ma\u001b[0m\u001b[0;34m)\u001b[0m\u001b[0;34m\u001b[0m\u001b[0;34m\u001b[0m\u001b[0m\n\u001b[0m\u001b[1;32m      2\u001b[0m \u001b[0mb\u001b[0m \u001b[0;34m=\u001b[0m \u001b[0mhex\u001b[0m\u001b[0;34m(\u001b[0m\u001b[0mb\u001b[0m\u001b[0;34m)\u001b[0m\u001b[0;34m\u001b[0m\u001b[0;34m\u001b[0m\u001b[0m\n\u001b[1;32m      3\u001b[0m \u001b[0;34m\u001b[0m\u001b[0m\n\u001b[1;32m      4\u001b[0m \u001b[0mprint\u001b[0m\u001b[0;34m(\u001b[0m\u001b[0ma\u001b[0m\u001b[0;34m+\u001b[0m\u001b[0mb\u001b[0m\u001b[0;34m)\u001b[0m\u001b[0;34m\u001b[0m\u001b[0;34m\u001b[0m\u001b[0m\n",
      "\u001b[0;31mTypeError\u001b[0m: 'str' object cannot be interpreted as an integer"
     ]
    }
   ],
   "source": [
    "a = hex(a)\n",
    "b = hex(b)\n",
    "\n",
    "print(a+b)"
   ]
  },
  {
   "cell_type": "code",
   "execution_count": null,
   "id": "d50f0c37",
   "metadata": {},
   "outputs": [],
   "source": []
  },
  {
   "cell_type": "code",
   "execution_count": null,
   "id": "eefd094f",
   "metadata": {},
   "outputs": [],
   "source": []
  },
  {
   "cell_type": "code",
   "execution_count": 99,
   "id": "3c530413",
   "metadata": {},
   "outputs": [
    {
     "name": "stdout",
     "output_type": "stream",
     "text": [
      "0x36fb028a526f437f595ed5be98e88694ca8a93abb2e187dcf8b66b35212d0e541\n"
     ]
    }
   ],
   "source": [
    "with open(\"pubKey.txt\", \"r\") as pubk:\n",
    "    pubKey = pubk.read()\n",
    "\n",
    "print(pubKey)"
   ]
  },
  {
   "cell_type": "code",
   "execution_count": null,
   "id": "5e277c4c",
   "metadata": {},
   "outputs": [],
   "source": []
  },
  {
   "cell_type": "code",
   "execution_count": 65,
   "id": "037fdfda",
   "metadata": {},
   "outputs": [],
   "source": [
    "def encryptUserInput(message, pubKey):\n",
    "    msg = message.encode(\"ascii\")\n",
    "    encryptedMsg = encrypt_ECC(msg, pubKey)\n",
    "    # put encryptedMsg in dictionary\n",
    "    encryptedMsgDic = {\n",
    "    'ciphertext': binascii.hexlify(encryptedMsg[0]),\n",
    "    'nonce': binascii.hexlify(encryptedMsg[1]),\n",
    "    'authTag': binascii.hexlify(encryptedMsg[2]),\n",
    "    'x': hex(encryptedMsg[3].x),\n",
    "    'y': hex(encryptedMsg[3].y)\n",
    "    }\n",
    "    # convert all vals in encryptedMsgDic to str\n",
    "    a = str(encryptedMsgDic[\"ciphertext\"])\n",
    "    b = str(encryptedMsgDic[\"nonce\"])\n",
    "    c = str(encryptedMsgDic[\"authTag\"])\n",
    "    d = str(encryptedMsgDic[\"x\"])\n",
    "    e = str(encryptedMsgDic[\"y\"])\n",
    "\n",
    "    encryptedMsgDicStr = {\n",
    "        'a': a,\n",
    "        'b': b,\n",
    "        'c': c,\n",
    "        'd': d,\n",
    "        'e': e\n",
    "    }\n",
    "    \n",
    "    # convert encryptedMsgDicStr to string with : as separation of vals\n",
    "    cipherstr = ''\n",
    "    for i in encryptedMsgDicStr:\n",
    "        cipherstr += encryptedMsgDicStr[i] + ' : '\n",
    "\n",
    "    #encode cipherstr and send it  \n",
    "    m = cipherstr.encode(\"ascii\")\n",
    "    \n",
    "    return m\n"
   ]
  },
  {
   "cell_type": "code",
   "execution_count": 70,
   "id": "2d821b4f",
   "metadata": {},
   "outputs": [],
   "source": [
    "def decryptMessage(m,privKey):\n",
    "    d = m.decode(\"ascii\")\n",
    "    \n",
    "    array = d.split(': ')\n",
    "    \n",
    "    a = array[0].strip()\n",
    "    a = eval(a)\n",
    "    ciphertext = binascii.unhexlify(a)\n",
    "\n",
    "    b = array[1].strip()\n",
    "    b = eval(b)\n",
    "    nonce = binascii.unhexlify(b)\n",
    "\n",
    "    c = array[2].strip()\n",
    "    c = eval(c)\n",
    "    authTag = binascii.unhexlify(c)\n",
    "\n",
    "    x = array[3].strip()\n",
    "    y = array[4].strip()\n",
    "    # convert x,y to int \n",
    "    x = int(x,16)\n",
    "    y = int(y,16)\n",
    "    \n",
    "    p = ec.Point(curve,x,y)\n",
    "    \n",
    "    array = [ciphertext, nonce, authTag, p]\n",
    "    \n",
    "    encryptedMsgS = tuple(array)\n",
    "    \n",
    "    return encryptedMsgS"
   ]
  },
  {
   "cell_type": "code",
   "execution_count": 100,
   "id": "809fef67",
   "metadata": {},
   "outputs": [
    {
     "ename": "OverflowError",
     "evalue": "cannot fit 'int' into an index-sized integer",
     "output_type": "error",
     "traceback": [
      "\u001b[0;31m---------------------------------------------------------------------------\u001b[0m",
      "\u001b[0;31mOverflowError\u001b[0m                             Traceback (most recent call last)",
      "\u001b[0;32m<ipython-input-100-13cc241726f6>\u001b[0m in \u001b[0;36m<module>\u001b[0;34m\u001b[0m\n\u001b[1;32m      7\u001b[0m \u001b[0;31m# 1\u001b[0m\u001b[0;34m\u001b[0m\u001b[0;34m\u001b[0m\u001b[0;34m\u001b[0m\u001b[0m\n\u001b[1;32m      8\u001b[0m \u001b[0mmessage\u001b[0m \u001b[0;34m=\u001b[0m \u001b[0;34m\"hello world\"\u001b[0m\u001b[0;34m\u001b[0m\u001b[0;34m\u001b[0m\u001b[0m\n\u001b[0;32m----> 9\u001b[0;31m \u001b[0mm\u001b[0m \u001b[0;34m=\u001b[0m \u001b[0mencryptUserInput\u001b[0m\u001b[0;34m(\u001b[0m\u001b[0mmessage\u001b[0m\u001b[0;34m,\u001b[0m \u001b[0mpubKey\u001b[0m\u001b[0;34m)\u001b[0m\u001b[0;34m\u001b[0m\u001b[0;34m\u001b[0m\u001b[0m\n\u001b[0m\u001b[1;32m     10\u001b[0m \u001b[0;34m\u001b[0m\u001b[0m\n\u001b[1;32m     11\u001b[0m \u001b[0;31m#uri = uploadIPFS(m)\u001b[0m\u001b[0;34m\u001b[0m\u001b[0;34m\u001b[0m\u001b[0;34m\u001b[0m\u001b[0m\n",
      "\u001b[0;32m<ipython-input-65-45d2b558d706>\u001b[0m in \u001b[0;36mencryptUserInput\u001b[0;34m(message, pubKey)\u001b[0m\n\u001b[1;32m      1\u001b[0m \u001b[0;32mdef\u001b[0m \u001b[0mencryptUserInput\u001b[0m\u001b[0;34m(\u001b[0m\u001b[0mmessage\u001b[0m\u001b[0;34m,\u001b[0m \u001b[0mpubKey\u001b[0m\u001b[0;34m)\u001b[0m\u001b[0;34m:\u001b[0m\u001b[0;34m\u001b[0m\u001b[0;34m\u001b[0m\u001b[0m\n\u001b[1;32m      2\u001b[0m     \u001b[0mmsg\u001b[0m \u001b[0;34m=\u001b[0m \u001b[0mmessage\u001b[0m\u001b[0;34m.\u001b[0m\u001b[0mencode\u001b[0m\u001b[0;34m(\u001b[0m\u001b[0;34m\"ascii\"\u001b[0m\u001b[0;34m)\u001b[0m\u001b[0;34m\u001b[0m\u001b[0;34m\u001b[0m\u001b[0m\n\u001b[0;32m----> 3\u001b[0;31m     \u001b[0mencryptedMsg\u001b[0m \u001b[0;34m=\u001b[0m \u001b[0mencrypt_ECC\u001b[0m\u001b[0;34m(\u001b[0m\u001b[0mmsg\u001b[0m\u001b[0;34m,\u001b[0m \u001b[0mpubKey\u001b[0m\u001b[0;34m)\u001b[0m\u001b[0;34m\u001b[0m\u001b[0;34m\u001b[0m\u001b[0m\n\u001b[0m\u001b[1;32m      4\u001b[0m     \u001b[0;31m# put encryptedMsg in dictionary\u001b[0m\u001b[0;34m\u001b[0m\u001b[0;34m\u001b[0m\u001b[0;34m\u001b[0m\u001b[0m\n\u001b[1;32m      5\u001b[0m     encryptedMsgDic = {\n",
      "\u001b[0;32m<ipython-input-57-7ca285f8510e>\u001b[0m in \u001b[0;36mencrypt_ECC\u001b[0;34m(msg, pubKey)\u001b[0m\n\u001b[1;32m     23\u001b[0m \u001b[0;32mdef\u001b[0m \u001b[0mencrypt_ECC\u001b[0m\u001b[0;34m(\u001b[0m\u001b[0mmsg\u001b[0m\u001b[0;34m,\u001b[0m \u001b[0mpubKey\u001b[0m\u001b[0;34m)\u001b[0m\u001b[0;34m:\u001b[0m\u001b[0;34m\u001b[0m\u001b[0;34m\u001b[0m\u001b[0m\n\u001b[1;32m     24\u001b[0m     \u001b[0mciphertextPrivKey\u001b[0m \u001b[0;34m=\u001b[0m \u001b[0msecrets\u001b[0m\u001b[0;34m.\u001b[0m\u001b[0mrandbelow\u001b[0m\u001b[0;34m(\u001b[0m\u001b[0mcurve\u001b[0m\u001b[0;34m.\u001b[0m\u001b[0mfield\u001b[0m\u001b[0;34m.\u001b[0m\u001b[0mn\u001b[0m\u001b[0;34m)\u001b[0m\u001b[0;34m\u001b[0m\u001b[0;34m\u001b[0m\u001b[0m\n\u001b[0;32m---> 25\u001b[0;31m     \u001b[0msharedECCKey\u001b[0m \u001b[0;34m=\u001b[0m \u001b[0mciphertextPrivKey\u001b[0m \u001b[0;34m*\u001b[0m \u001b[0mpubKey\u001b[0m\u001b[0;34m\u001b[0m\u001b[0;34m\u001b[0m\u001b[0m\n\u001b[0m\u001b[1;32m     26\u001b[0m     \u001b[0msecretKey\u001b[0m \u001b[0;34m=\u001b[0m \u001b[0mecc_point_to_256_bit_key\u001b[0m\u001b[0;34m(\u001b[0m\u001b[0msharedECCKey\u001b[0m\u001b[0;34m)\u001b[0m\u001b[0;34m\u001b[0m\u001b[0;34m\u001b[0m\u001b[0m\n\u001b[1;32m     27\u001b[0m     \u001b[0mciphertext\u001b[0m\u001b[0;34m,\u001b[0m \u001b[0mnonce\u001b[0m\u001b[0;34m,\u001b[0m \u001b[0mauthTag\u001b[0m \u001b[0;34m=\u001b[0m \u001b[0mencrypt_AES_GCM\u001b[0m\u001b[0;34m(\u001b[0m\u001b[0mmsg\u001b[0m\u001b[0;34m,\u001b[0m \u001b[0msecretKey\u001b[0m\u001b[0;34m)\u001b[0m\u001b[0;34m\u001b[0m\u001b[0;34m\u001b[0m\u001b[0m\n",
      "\u001b[0;31mOverflowError\u001b[0m: cannot fit 'int' into an index-sized integer"
     ]
    }
   ],
   "source": [
    "# order of events \n",
    "# 1 encode message\n",
    "# 2 send\n",
    "# 3 receive\n",
    "# 4 decrypt\n",
    "\n",
    "# 1\n",
    "message = \"hello world\"\n",
    "m = encryptUserInput(message, pubKey)\n",
    "\n",
    "uri = uploadIPFS(m)"
   ]
  },
  {
   "cell_type": "code",
   "execution_count": 88,
   "id": "9d65c90a",
   "metadata": {},
   "outputs": [],
   "source": [
    "from subprocess import run\n",
    "from ecies import encrypt, decrypt\n",
    "\n",
    "# server side upload function\n",
    "def uploadIPFS(message):\n",
    "    with open(\"txt.txt\", \"wb\") as txt:\n",
    "        txt.write(message)\n",
    "    cmd = [ 'ipfs', 'add', 'txt.txt' ]\n",
    "    out = run(cmd, capture_output=True).stdout\n",
    "    output = out.decode(\"utf-8\")\n",
    "    outputs = output.split(\" \")\n",
    "    uri = outputs[1]\n",
    "    return uri\n",
    "\n",
    "def ipfs(uri):\n",
    "    cmd = [ 'ipfs', 'get', uri ]\n",
    "    out = run(cmd, capture_output=True).stdout\n",
    "    output = out.decode(\"utf-8\")\n",
    "    outputs = output.split(\" \")\n",
    "    file = outputs[3]\n",
    "    file = file.rstrip()\n",
    "    dec(file)\n",
    "    \n",
    "# decrypting message in file\n",
    "def dec(file):\n",
    "    with open(file, 'rb') as file:\n",
    "        cipher = file.read()\n",
    "    \n",
    "    with open('sk_hex.txt', 'r') as file:\n",
    "        secret_key = file.read().replace('\\n', '')\n",
    "\n",
    "    text = decrypt_ECC(encryptedMsgS, privKey)\n",
    "    print(text)"
   ]
  },
  {
   "cell_type": "code",
   "execution_count": 89,
   "id": "919754f6",
   "metadata": {},
   "outputs": [
    {
     "name": "stdout",
     "output_type": "stream",
     "text": [
      "b'hello world'\n"
     ]
    }
   ],
   "source": [
    "ipfs(uri)"
   ]
  },
  {
   "cell_type": "code",
   "execution_count": null,
   "id": "ef499808",
   "metadata": {},
   "outputs": [],
   "source": []
  },
  {
   "cell_type": "code",
   "execution_count": null,
   "id": "3b38c6c6",
   "metadata": {},
   "outputs": [],
   "source": [
    "# 2 send m \n",
    "encryptedMsgS = decryptMessage(m,privKey)\n",
    "\n",
    "decryptedMsg = decrypt_ECC(encryptedMsgS, privKey)\n",
    "print(decryptedMsg)"
   ]
  },
  {
   "cell_type": "code",
   "execution_count": null,
   "id": "eef5235e",
   "metadata": {},
   "outputs": [],
   "source": []
  }
 ],
 "metadata": {
  "kernelspec": {
   "display_name": "Python 3",
   "language": "python",
   "name": "python3"
  },
  "language_info": {
   "codemirror_mode": {
    "name": "ipython",
    "version": 3
   },
   "file_extension": ".py",
   "mimetype": "text/x-python",
   "name": "python",
   "nbconvert_exporter": "python",
   "pygments_lexer": "ipython3",
   "version": "3.8.10"
  }
 },
 "nbformat": 4,
 "nbformat_minor": 5
}
