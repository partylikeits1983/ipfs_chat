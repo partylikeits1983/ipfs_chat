{
 "cells": [
  {
   "cell_type": "code",
   "execution_count": null,
   "id": "15fecb12",
   "metadata": {},
   "outputs": [],
   "source": []
  },
  {
   "cell_type": "code",
   "execution_count": 30,
   "id": "6d49b98a",
   "metadata": {},
   "outputs": [],
   "source": [
    "data = b'alex:asdf'\n",
    "m = data.decode(\"utf-8\")"
   ]
  },
  {
   "cell_type": "code",
   "execution_count": 31,
   "id": "72c87781",
   "metadata": {},
   "outputs": [
    {
     "data": {
      "text/plain": [
       "['alex', 'asdf']"
      ]
     },
     "execution_count": 31,
     "metadata": {},
     "output_type": "execute_result"
    }
   ],
   "source": [
    "l = m.split(':')\n",
    "l"
   ]
  },
  {
   "cell_type": "code",
   "execution_count": 33,
   "id": "24fb9d82",
   "metadata": {},
   "outputs": [
    {
     "data": {
      "text/plain": [
       "b'asdf'"
      ]
     },
     "execution_count": 33,
     "metadata": {},
     "output_type": "execute_result"
    }
   ],
   "source": [
    "user = l[0]\n",
    "s = l[1]\n",
    "\n",
    "text = s.encode('ascii')\n",
    "\n",
    "text"
   ]
  },
  {
   "cell_type": "code",
   "execution_count": 34,
   "id": "4ebb7bcd",
   "metadata": {},
   "outputs": [
    {
     "name": "stdout",
     "output_type": "stream",
     "text": [
      "To: john\n",
      "Message: hi\n"
     ]
    }
   ],
   "source": [
    "message = '{}: {}'.format(input(\"To: \"), input(\"Message: \"))"
   ]
  },
  {
   "cell_type": "code",
   "execution_count": 6,
   "id": "faeabeca",
   "metadata": {},
   "outputs": [],
   "source": [
    "from ecies.utils import generate_eth_key, generate_key\n",
    "from ecies import encrypt, decrypt"
   ]
  },
  {
   "cell_type": "code",
   "execution_count": 9,
   "id": "bdc82c92",
   "metadata": {},
   "outputs": [
    {
     "name": "stdout",
     "output_type": "stream",
     "text": [
      "0x45712a2261a0b631df0a157d80db05dc89db2875957e36e4faa05a8f61c1174c\n",
      "0x6cb835c192b87c1bde6c7f29dc7ec7d8e377788d94f7adf218c8e711f60f0bd12a8498fcd7e0c1038ba564e51004594c3f69d12166bef5fe3a2036edbbaf52b8\n"
     ]
    }
   ],
   "source": [
    "from ecies.utils import generate_eth_key, generate_key\n",
    "from ecies import encrypt, decrypt\n",
    "\n",
    "eth_k = generate_eth_key()\n",
    "sk_hex = eth_k.to_hex()  # hex string\n",
    "pk_hex = eth_k.public_key.to_hex() \n",
    "\n",
    "keys = {\n",
    "    \"eth_k\" : eth_k,\n",
    "    \"sk_hex\" :  sk_hex,\n",
    "    \"pk_hex\" : pk_hex\n",
    "}\n",
    "\n",
    "with open(\"sk_hex.txt\", \"w\") as pk:\n",
    "    pk.write(sk_hex)\n",
    "\n",
    "with open(\"pk_hex.txt\", \"w\") as pk:\n",
    "    pk.write(pk_hex)\n",
    "\n",
    "print(sk_hex)\n",
    "print(pk_hex)"
   ]
  },
  {
   "cell_type": "code",
   "execution_count": null,
   "id": "cce69848",
   "metadata": {},
   "outputs": [],
   "source": []
  },
  {
   "cell_type": "code",
   "execution_count": 119,
   "id": "d81981fa",
   "metadata": {},
   "outputs": [],
   "source": [
    "# Client Side"
   ]
  },
  {
   "cell_type": "code",
   "execution_count": 215,
   "id": "140ca86a",
   "metadata": {},
   "outputs": [],
   "source": [
    "def textToBytes():\n",
    "    with open('pk_hex.txt', 'r') as file:\n",
    "        pk_hex = file.read().replace('\\n', '')\n",
    "\n",
    "    message = str(input())\n",
    "    data = str.encode(message)\n",
    "    cipher = encrypt(pk_hex, data)\n",
    "\n",
    "    return cipher"
   ]
  },
  {
   "cell_type": "code",
   "execution_count": 216,
   "id": "a7e5780c",
   "metadata": {},
   "outputs": [
    {
     "name": "stdout",
     "output_type": "stream",
     "text": [
      "asdfasdf\n"
     ]
    }
   ],
   "source": [
    "cipher = textToBytes()"
   ]
  },
  {
   "cell_type": "code",
   "execution_count": null,
   "id": "50a305fa",
   "metadata": {},
   "outputs": [],
   "source": []
  },
  {
   "cell_type": "code",
   "execution_count": 217,
   "id": "b9a85e31",
   "metadata": {},
   "outputs": [],
   "source": [
    "# client sends cipher to server"
   ]
  },
  {
   "cell_type": "code",
   "execution_count": 3,
   "id": "7f47ac01",
   "metadata": {},
   "outputs": [],
   "source": [
    "# Server side\n",
    "from subprocess import run"
   ]
  },
  {
   "cell_type": "code",
   "execution_count": 219,
   "id": "06bef142",
   "metadata": {},
   "outputs": [],
   "source": []
  },
  {
   "cell_type": "code",
   "execution_count": 240,
   "id": "632105bc",
   "metadata": {},
   "outputs": [],
   "source": [
    "with open(\"txt.txt\", \"wb\") as txt:\n",
    "    txt.write(cipher)\n",
    "cmd = [ 'ipfs', 'add', 'txt.txt' ]\n",
    "out = run(cmd, capture_output=True).stdout\n",
    "output = out.decode(\"utf-8\")\n",
    "outputs = output.split(\" \")\n",
    "uri = outputs[1]"
   ]
  },
  {
   "cell_type": "code",
   "execution_count": null,
   "id": "2ab30348",
   "metadata": {},
   "outputs": [],
   "source": []
  },
  {
   "cell_type": "code",
   "execution_count": 241,
   "id": "02539432",
   "metadata": {},
   "outputs": [
    {
     "data": {
      "text/plain": [
       "'QmW2qMo1r6enJJGSa53hLsF2TWcede1F97Au3ntkfUGEbj'"
      ]
     },
     "execution_count": 241,
     "metadata": {},
     "output_type": "execute_result"
    }
   ],
   "source": [
    "uri"
   ]
  },
  {
   "cell_type": "code",
   "execution_count": null,
   "id": "4735d70e",
   "metadata": {},
   "outputs": [],
   "source": []
  },
  {
   "cell_type": "code",
   "execution_count": 225,
   "id": "b40d67a4",
   "metadata": {},
   "outputs": [],
   "source": [
    "# send URI to user"
   ]
  },
  {
   "cell_type": "code",
   "execution_count": null,
   "id": "33666762",
   "metadata": {},
   "outputs": [],
   "source": []
  },
  {
   "cell_type": "code",
   "execution_count": 239,
   "id": "c3be0b57",
   "metadata": {},
   "outputs": [],
   "source": [
    "# client side"
   ]
  },
  {
   "cell_type": "code",
   "execution_count": 227,
   "id": "003a9cec",
   "metadata": {},
   "outputs": [],
   "source": [
    "cmd = [ 'ipfs', 'get', uri ]\n",
    "out = run(cmd, capture_output=True).stdout"
   ]
  },
  {
   "cell_type": "code",
   "execution_count": 228,
   "id": "cd62cbce",
   "metadata": {},
   "outputs": [],
   "source": [
    "output = out.decode(\"utf-8\")"
   ]
  },
  {
   "cell_type": "code",
   "execution_count": 229,
   "id": "fa03fc2b",
   "metadata": {},
   "outputs": [],
   "source": [
    "outputs = output.split(\" \")"
   ]
  },
  {
   "cell_type": "code",
   "execution_count": 230,
   "id": "bb144638",
   "metadata": {},
   "outputs": [
    {
     "data": {
      "text/plain": [
       "['Saving', 'file(s)', 'to', 'QmW2qMo1r6enJJGSa53hLsF2TWcede1F97Au3ntkfUGEbj\\n']"
      ]
     },
     "execution_count": 230,
     "metadata": {},
     "output_type": "execute_result"
    }
   ],
   "source": [
    "outputs"
   ]
  },
  {
   "cell_type": "code",
   "execution_count": null,
   "id": "44028f80",
   "metadata": {},
   "outputs": [],
   "source": []
  },
  {
   "cell_type": "code",
   "execution_count": 231,
   "id": "d31e385d",
   "metadata": {},
   "outputs": [],
   "source": [
    "file = outputs[3]"
   ]
  },
  {
   "cell_type": "code",
   "execution_count": null,
   "id": "3db3efd7",
   "metadata": {},
   "outputs": [],
   "source": []
  },
  {
   "cell_type": "code",
   "execution_count": null,
   "id": "0d44f167",
   "metadata": {},
   "outputs": [],
   "source": []
  },
  {
   "cell_type": "code",
   "execution_count": 232,
   "id": "6436ad9c",
   "metadata": {},
   "outputs": [],
   "source": [
    "file = file.rstrip()"
   ]
  },
  {
   "cell_type": "code",
   "execution_count": null,
   "id": "633b7ae6",
   "metadata": {},
   "outputs": [],
   "source": []
  },
  {
   "cell_type": "code",
   "execution_count": 233,
   "id": "4d6d14c9",
   "metadata": {},
   "outputs": [],
   "source": [
    "with open(file, 'rb') as file:\n",
    "    cipher = file.read()"
   ]
  },
  {
   "cell_type": "code",
   "execution_count": 234,
   "id": "b9c6b88a",
   "metadata": {},
   "outputs": [
    {
     "data": {
      "text/plain": [
       "b'\\x04\\xb9\\x94\\x00/\\xa7\\xd1\\x07q\\xb5\\xe2\\xdeV\\xf2Xv.\\xc3\\xe4\\xe7\\x02x\\x10\\x1b\\x19\\xd0n\\xa0\\xe9U*\\xcb:N\\t\\xb3f4\\x84\\x11\\x80a\\r{\\xda\\x9d\\xfaU\\xd2kUN\\xb3\\x8d\\xeb\\xfa\\x94\\x7f\\xdd\\x97D\\xc9/\\xacI\\x91\\xfcI\\xd9.{\\xde$~\\x9az\\xd1\\xd9\\x9a\\xebj\\x9e3\\xd7\\xb4\\x9bq\\xa0\\xbe\\x11\\xfe.S@\\x7f\\xfcVO&\\x0ew\\x10s\\xf2\\xde'"
      ]
     },
     "execution_count": 234,
     "metadata": {},
     "output_type": "execute_result"
    }
   ],
   "source": [
    "cipher"
   ]
  },
  {
   "cell_type": "code",
   "execution_count": 235,
   "id": "73af08a9",
   "metadata": {},
   "outputs": [],
   "source": [
    "def dec(message):\n",
    "    \n",
    "    with open('sk_hex.txt', 'r') as file:\n",
    "        secret_key = file.read().replace('\\n', '')\n",
    "\n",
    "    text = decrypt(secret_key, message).decode(\"utf-8\")\n",
    "    print(text)"
   ]
  },
  {
   "cell_type": "code",
   "execution_count": 236,
   "id": "1454826a",
   "metadata": {},
   "outputs": [
    {
     "name": "stdout",
     "output_type": "stream",
     "text": [
      "asdfasdf\n"
     ]
    }
   ],
   "source": [
    "dec(cipher)"
   ]
  },
  {
   "cell_type": "code",
   "execution_count": null,
   "id": "a1a52c83",
   "metadata": {},
   "outputs": [],
   "source": []
  },
  {
   "cell_type": "code",
   "execution_count": null,
   "id": "f6b6af0b",
   "metadata": {},
   "outputs": [],
   "source": []
  },
  {
   "cell_type": "code",
   "execution_count": 35,
   "id": "98f12dc8",
   "metadata": {},
   "outputs": [
    {
     "name": "stdout",
     "output_type": "stream",
     "text": [
      "USAGE\r\n",
      "  ipfs  - Global p2p merkle-dag filesystem.\r\n",
      "\r\n",
      "  ipfs [--config=<config> | -c] [--debug | -D] [--help] [-h] [--api=<api>] [--offline] [--cid-base=<base>] [--upgrade-cidv0-in-output] [--encoding=<encoding> | --enc] [--timeout=<timeout>] <command> ...\r\n",
      "\r\n",
      "SUBCOMMANDS\r\n",
      "  BASIC COMMANDS\r\n",
      "    init          Initialize ipfs local configuration\r\n",
      "    add <path>    Add a file to IPFS\r\n",
      "    cat <ref>     Show IPFS object data\r\n",
      "    get <ref>     Download IPFS objects\r\n",
      "    ls <ref>      List links from an object\r\n",
      "    refs <ref>    List hashes of links from an object\r\n",
      "  \r\n",
      "  DATA STRUCTURE COMMANDS\r\n",
      "    block         Interact with raw blocks in the datastore\r\n",
      "    object        Interact with raw dag nodes\r\n",
      "    files         Interact with objects as if they were a unix filesystem\r\n",
      "    dag           Interact with IPLD documents (experimental)\r\n",
      "  \r\n",
      "  ADVANCED COMMANDS\r\n",
      "    daemon        Start a long-running daemon process\r\n",
      "    mount         Mount an IPFS read-only mount point\r\n",
      "    resolve       Resolve any type of name\r\n",
      "    name          Publish and resolve IPNS names\r\n",
      "    key           Create and list IPNS name keypairs\r\n",
      "    dns           Resolve DNS links\r\n",
      "    pin           Pin objects to local storage\r\n",
      "    repo          Manipulate the IPFS repository\r\n",
      "    stats         Various operational stats\r\n",
      "    p2p           Libp2p stream mounting\r\n",
      "    filestore     Manage the filestore (experimental)\r\n",
      "  \r\n",
      "  NETWORK COMMANDS\r\n",
      "    id            Show info about IPFS peers\r\n",
      "    bootstrap     Add or remove bootstrap peers\r\n",
      "    swarm         Manage connections to the p2p network\r\n",
      "    dht           Query the DHT for values or peers\r\n",
      "    ping          Measure the latency of a connection\r\n",
      "    diag          Print diagnostics\r\n",
      "  \r\n",
      "  TOOL COMMANDS\r\n",
      "    config        Manage configuration\r\n",
      "    version       Show ipfs version information\r\n",
      "    update        Download and apply go-ipfs updates\r\n",
      "    commands      List all available commands\r\n",
      "    cid           Convert and discover properties of CIDs\r\n",
      "    log           Manage and show logs of running daemon\r\n",
      "  \r\n",
      "  Use 'ipfs <command> --help' to learn more about each command.\r\n",
      "  \r\n",
      "  ipfs uses a repository in the local file system. By default, the repo is\r\n",
      "  located at ~/.ipfs. To change the repo location, set the $IPFS_PATH\r\n",
      "  environment variable:\r\n",
      "  \r\n",
      "    export IPFS_PATH=/path/to/ipfsrepo\r\n",
      "  \r\n",
      "  EXIT STATUS\r\n",
      "  \r\n",
      "  The CLI will exit with one of the following values:\r\n",
      "  \r\n",
      "  0     Successful execution.\r\n",
      "  1     Failed executions.\r\n",
      "\r\n"
     ]
    }
   ],
   "source": [
    "!ipfs"
   ]
  },
  {
   "cell_type": "code",
   "execution_count": null,
   "id": "d8bffbee",
   "metadata": {},
   "outputs": [],
   "source": []
  },
  {
   "cell_type": "code",
   "execution_count": null,
   "id": "fde9d359",
   "metadata": {},
   "outputs": [],
   "source": []
  },
  {
   "cell_type": "code",
   "execution_count": 20,
   "id": "acc87414",
   "metadata": {},
   "outputs": [],
   "source": [
    "message = b'asdf: sadfasdf'"
   ]
  },
  {
   "cell_type": "code",
   "execution_count": 21,
   "id": "be3ac2f7",
   "metadata": {},
   "outputs": [],
   "source": [
    "m = message.decode(\"utf-8\")"
   ]
  },
  {
   "cell_type": "code",
   "execution_count": 22,
   "id": "30679f4a",
   "metadata": {},
   "outputs": [],
   "source": [
    "m = m.split(':')"
   ]
  },
  {
   "cell_type": "code",
   "execution_count": 23,
   "id": "1d116016",
   "metadata": {},
   "outputs": [],
   "source": [
    "user = m[0]\n",
    "message = m[1]"
   ]
  },
  {
   "cell_type": "code",
   "execution_count": 25,
   "id": "83ca07c2",
   "metadata": {},
   "outputs": [
    {
     "name": "stdout",
     "output_type": "stream",
     "text": [
      "['asdf', ' sadfasdf']\n"
     ]
    }
   ],
   "source": [
    "print(m)"
   ]
  },
  {
   "cell_type": "code",
   "execution_count": null,
   "id": "3222a50d",
   "metadata": {},
   "outputs": [],
   "source": []
  },
  {
   "cell_type": "code",
   "execution_count": 26,
   "id": "14ab5a1b",
   "metadata": {},
   "outputs": [],
   "source": [
    "user = \"0xfasfde49sdf9er\"\n",
    "address = \"1919349349\"\n",
    "client = \"asdfasdf\""
   ]
  },
  {
   "cell_type": "code",
   "execution_count": 27,
   "id": "85500ced",
   "metadata": {},
   "outputs": [],
   "source": [
    "dic = {}"
   ]
  },
  {
   "cell_type": "code",
   "execution_count": 28,
   "id": "eb91b83f",
   "metadata": {},
   "outputs": [],
   "source": [
    "dic[user] = [address, client]"
   ]
  },
  {
   "cell_type": "code",
   "execution_count": 30,
   "id": "48ff3734",
   "metadata": {},
   "outputs": [
    {
     "data": {
      "text/plain": [
       "'1919349349'"
      ]
     },
     "execution_count": 30,
     "metadata": {},
     "output_type": "execute_result"
    }
   ],
   "source": [
    "dic[user][0]"
   ]
  },
  {
   "cell_type": "code",
   "execution_count": null,
   "id": "7710f3ad",
   "metadata": {},
   "outputs": [],
   "source": []
  },
  {
   "cell_type": "code",
   "execution_count": null,
   "id": "d3fdb57b",
   "metadata": {},
   "outputs": [],
   "source": []
  },
  {
   "cell_type": "code",
   "execution_count": 13,
   "id": "0d808549",
   "metadata": {},
   "outputs": [
    {
     "name": "stdout",
     "output_type": "stream",
     "text": [
      "To: asdf\n",
      "Message: asdf\n"
     ]
    }
   ],
   "source": [
    "message = '{}: {}'.format(input(\"To: \"), textToBytes(input(\"Message: \")))\n",
    "message = message.encode('ascii')"
   ]
  },
  {
   "cell_type": "code",
   "execution_count": null,
   "id": "fdb53112",
   "metadata": {},
   "outputs": [],
   "source": []
  },
  {
   "cell_type": "code",
   "execution_count": 11,
   "id": "6b7e139d",
   "metadata": {},
   "outputs": [],
   "source": [
    "# encrypting when sending\n",
    "def textToBytes(message):\n",
    "    with open('pk_hex.txt', 'r') as file:\n",
    "        pk_hex = file.read().replace('\\n', '')\n",
    "\n",
    "    data = str.encode(message)\n",
    "    cipher = encrypt(pk_hex, data)\n",
    "\n",
    "    return cipher\n",
    "\n",
    "\n",
    "def cleanData(message):\n",
    "    #print(message)\n",
    "    data = message\n",
    "    m = data.decode(\"utf-8\")\n",
    "    l = m.split(':')\n",
    "\n",
    "    user = l[0]\n",
    "    s = l[1]\n",
    "\n",
    "    text = s.encode('ascii')\n",
    "\n",
    "    #print(user)\n",
    "    #print(text)\n",
    "\n",
    "    return user, text\n",
    "\n",
    "\n",
    "\n",
    "def uploadIPFS(message):\n",
    "    with open(\"txt.txt\", \"wb\") as txt:\n",
    "        txt.write(message)\n",
    "    cmd = [ 'ipfs', 'add', 'txt.txt' ]\n",
    "    out = run(cmd, capture_output=True).stdout\n",
    "    output = out.decode(\"utf-8\")\n",
    "    outputs = output.split(\" \")\n",
    "    uri = outputs[1]\n",
    "    print(uri)\n",
    "    return uri\n",
    "\n",
    "\n",
    "\n",
    "# downloading uri from IPFS\n",
    "def ipfs(uri):\n",
    "    cmd = [ 'ipfs', 'get', uri ]\n",
    "    out = run(cmd, capture_output=True).stdout\n",
    "    output = out.decode(\"utf-8\")\n",
    "    outputs = output.split(\" \")\n",
    "    file = outputs[3]\n",
    "    file = file.rstrip()\n",
    "    # passing file to decryption function\n",
    "    decryption(file)\n",
    "\n",
    "\n",
    "# decrypting message in file\n",
    "def decryption(file):\n",
    "    with open(file, 'rb') as file:\n",
    "        cipher = file.read()\n",
    "\n",
    "    with open('sk_hex.txt', 'r') as file:\n",
    "        secret_key = file.read().replace('\\n', '')\n",
    "\n",
    "    text = decrypt(secret_key, cipher).decode(\"utf-8\")\n",
    "    print(text)\n"
   ]
  },
  {
   "cell_type": "code",
   "execution_count": 14,
   "id": "4a6c65a7",
   "metadata": {},
   "outputs": [
    {
     "name": "stdout",
     "output_type": "stream",
     "text": [
      "QmXgUKUykCk8tL4qSYF4k2yB397D6rLqPcH6kN37eQtrab\n"
     ]
    },
    {
     "ename": "ValueError",
     "evalue": "The public key could not be parsed or is invalid.",
     "output_type": "error",
     "traceback": [
      "\u001b[0;31m---------------------------------------------------------------------------\u001b[0m",
      "\u001b[0;31mValueError\u001b[0m                                Traceback (most recent call last)",
      "\u001b[0;32m<ipython-input-14-413892262a68>\u001b[0m in \u001b[0;36m<module>\u001b[0;34m\u001b[0m\n\u001b[1;32m      3\u001b[0m \u001b[0muri\u001b[0m \u001b[0;34m=\u001b[0m \u001b[0muploadIPFS\u001b[0m\u001b[0;34m(\u001b[0m\u001b[0mtext\u001b[0m\u001b[0;34m)\u001b[0m\u001b[0;34m\u001b[0m\u001b[0;34m\u001b[0m\u001b[0m\n\u001b[1;32m      4\u001b[0m \u001b[0;34m\u001b[0m\u001b[0m\n\u001b[0;32m----> 5\u001b[0;31m \u001b[0mipfs\u001b[0m\u001b[0;34m(\u001b[0m\u001b[0muri\u001b[0m\u001b[0;34m)\u001b[0m\u001b[0;34m\u001b[0m\u001b[0;34m\u001b[0m\u001b[0m\n\u001b[0m",
      "\u001b[0;32m<ipython-input-11-5baff5b1f27a>\u001b[0m in \u001b[0;36mipfs\u001b[0;34m(uri)\u001b[0m\n\u001b[1;32m     50\u001b[0m     \u001b[0mfile\u001b[0m \u001b[0;34m=\u001b[0m \u001b[0mfile\u001b[0m\u001b[0;34m.\u001b[0m\u001b[0mrstrip\u001b[0m\u001b[0;34m(\u001b[0m\u001b[0;34m)\u001b[0m\u001b[0;34m\u001b[0m\u001b[0;34m\u001b[0m\u001b[0m\n\u001b[1;32m     51\u001b[0m     \u001b[0;31m# passing file to decryption function\u001b[0m\u001b[0;34m\u001b[0m\u001b[0;34m\u001b[0m\u001b[0;34m\u001b[0m\u001b[0m\n\u001b[0;32m---> 52\u001b[0;31m     \u001b[0mdecryption\u001b[0m\u001b[0;34m(\u001b[0m\u001b[0mfile\u001b[0m\u001b[0;34m)\u001b[0m\u001b[0;34m\u001b[0m\u001b[0;34m\u001b[0m\u001b[0m\n\u001b[0m\u001b[1;32m     53\u001b[0m \u001b[0;34m\u001b[0m\u001b[0m\n\u001b[1;32m     54\u001b[0m \u001b[0;34m\u001b[0m\u001b[0m\n",
      "\u001b[0;32m<ipython-input-11-5baff5b1f27a>\u001b[0m in \u001b[0;36mdecryption\u001b[0;34m(file)\u001b[0m\n\u001b[1;32m     61\u001b[0m         \u001b[0msecret_key\u001b[0m \u001b[0;34m=\u001b[0m \u001b[0mfile\u001b[0m\u001b[0;34m.\u001b[0m\u001b[0mread\u001b[0m\u001b[0;34m(\u001b[0m\u001b[0;34m)\u001b[0m\u001b[0;34m.\u001b[0m\u001b[0mreplace\u001b[0m\u001b[0;34m(\u001b[0m\u001b[0;34m'\\n'\u001b[0m\u001b[0;34m,\u001b[0m \u001b[0;34m''\u001b[0m\u001b[0;34m)\u001b[0m\u001b[0;34m\u001b[0m\u001b[0;34m\u001b[0m\u001b[0m\n\u001b[1;32m     62\u001b[0m \u001b[0;34m\u001b[0m\u001b[0m\n\u001b[0;32m---> 63\u001b[0;31m     \u001b[0mtext\u001b[0m \u001b[0;34m=\u001b[0m \u001b[0mdecrypt\u001b[0m\u001b[0;34m(\u001b[0m\u001b[0msecret_key\u001b[0m\u001b[0;34m,\u001b[0m \u001b[0mcipher\u001b[0m\u001b[0;34m)\u001b[0m\u001b[0;34m.\u001b[0m\u001b[0mdecode\u001b[0m\u001b[0;34m(\u001b[0m\u001b[0;34m\"utf-8\"\u001b[0m\u001b[0;34m)\u001b[0m\u001b[0;34m\u001b[0m\u001b[0;34m\u001b[0m\u001b[0m\n\u001b[0m\u001b[1;32m     64\u001b[0m     \u001b[0mprint\u001b[0m\u001b[0;34m(\u001b[0m\u001b[0mtext\u001b[0m\u001b[0;34m)\u001b[0m\u001b[0;34m\u001b[0m\u001b[0;34m\u001b[0m\u001b[0m\n",
      "\u001b[0;32m~/.local/lib/python3.8/site-packages/ecies/__init__.py\u001b[0m in \u001b[0;36mdecrypt\u001b[0;34m(receiver_sk, msg)\u001b[0m\n\u001b[1;32m     61\u001b[0m     \u001b[0mpubkey\u001b[0m \u001b[0;34m=\u001b[0m \u001b[0mmsg\u001b[0m\u001b[0;34m[\u001b[0m\u001b[0;36m0\u001b[0m\u001b[0;34m:\u001b[0m\u001b[0;36m65\u001b[0m\u001b[0;34m]\u001b[0m  \u001b[0;31m# uncompressed pubkey's length is 65 bytes\u001b[0m\u001b[0;34m\u001b[0m\u001b[0;34m\u001b[0m\u001b[0m\n\u001b[1;32m     62\u001b[0m     \u001b[0mencrypted\u001b[0m \u001b[0;34m=\u001b[0m \u001b[0mmsg\u001b[0m\u001b[0;34m[\u001b[0m\u001b[0;36m65\u001b[0m\u001b[0;34m:\u001b[0m\u001b[0;34m]\u001b[0m\u001b[0;34m\u001b[0m\u001b[0;34m\u001b[0m\u001b[0m\n\u001b[0;32m---> 63\u001b[0;31m     \u001b[0mephemeral_public_key\u001b[0m \u001b[0;34m=\u001b[0m \u001b[0mPublicKey\u001b[0m\u001b[0;34m(\u001b[0m\u001b[0mpubkey\u001b[0m\u001b[0;34m)\u001b[0m\u001b[0;34m\u001b[0m\u001b[0;34m\u001b[0m\u001b[0m\n\u001b[0m\u001b[1;32m     64\u001b[0m \u001b[0;34m\u001b[0m\u001b[0m\n\u001b[1;32m     65\u001b[0m     \u001b[0maes_key\u001b[0m \u001b[0;34m=\u001b[0m \u001b[0mdecapsulate\u001b[0m\u001b[0;34m(\u001b[0m\u001b[0mephemeral_public_key\u001b[0m\u001b[0;34m,\u001b[0m \u001b[0mprivate_key\u001b[0m\u001b[0;34m)\u001b[0m\u001b[0;34m\u001b[0m\u001b[0;34m\u001b[0m\u001b[0m\n",
      "\u001b[0;32m~/.local/lib/python3.8/site-packages/coincurve/keys.py\u001b[0m in \u001b[0;36m__init__\u001b[0;34m(self, data, context)\u001b[0m\n\u001b[1;32m    273\u001b[0m \u001b[0;34m\u001b[0m\u001b[0m\n\u001b[1;32m    274\u001b[0m             \u001b[0;32mif\u001b[0m \u001b[0;32mnot\u001b[0m \u001b[0mparsed\u001b[0m\u001b[0;34m:\u001b[0m\u001b[0;34m\u001b[0m\u001b[0;34m\u001b[0m\u001b[0m\n\u001b[0;32m--> 275\u001b[0;31m                 \u001b[0;32mraise\u001b[0m \u001b[0mValueError\u001b[0m\u001b[0;34m(\u001b[0m\u001b[0;34m'The public key could not be parsed or is invalid.'\u001b[0m\u001b[0;34m)\u001b[0m\u001b[0;34m\u001b[0m\u001b[0;34m\u001b[0m\u001b[0m\n\u001b[0m\u001b[1;32m    276\u001b[0m \u001b[0;34m\u001b[0m\u001b[0m\n\u001b[1;32m    277\u001b[0m             \u001b[0mself\u001b[0m\u001b[0;34m.\u001b[0m\u001b[0mpublic_key\u001b[0m \u001b[0;34m=\u001b[0m \u001b[0mpublic_key\u001b[0m\u001b[0;34m\u001b[0m\u001b[0;34m\u001b[0m\u001b[0m\n",
      "\u001b[0;31mValueError\u001b[0m: The public key could not be parsed or is invalid."
     ]
    }
   ],
   "source": [
    "#print(message)\n",
    "user, text = cleanData(message)\n",
    "uri = uploadIPFS(text)\n",
    "\n",
    "ipfs(uri)"
   ]
  },
  {
   "cell_type": "code",
   "execution_count": null,
   "id": "46789b83",
   "metadata": {},
   "outputs": [],
   "source": []
  },
  {
   "cell_type": "code",
   "execution_count": 203,
   "id": "1ee30166",
   "metadata": {},
   "outputs": [
    {
     "name": "stdout",
     "output_type": "stream",
     "text": [
      "anon.session\t      pk_hex.txt\r\n",
      "anon.session-journal  pk.txt\r\n",
      "ballistic_calculator  PrimeNumber.cpp\r\n",
      "chat.ipynb\t      QmQ1Zbb8C9icXbrJmG1coSy2thNXft9SCxfZ1iiCi9XmQb\r\n",
      "client.py\t      QmSa6YAGTS4gjojzdW35LADPEjQNzjjBaZzTEWtoLh2h6u\r\n",
      "cryptography.ipynb    sample.txt\r\n",
      "Desktop\t\t      server.py\r\n",
      "Documents\t      sk_hex.txt\r\n",
      "Downloads\t      snap\r\n",
      "enabledesktop.sh      teddyMosaic-Copy1.ipynb\r\n",
      "go\t\t      teddyMosaic.ipynb\r\n",
      "isPrime.cpp\t      test.html\r\n",
      "katya.sol\t      test.py\r\n",
      "message.session       txt.txt\r\n",
      "message.txt\t      Untitled1.ipynb\r\n",
      "movieMosaic.ipynb     Untitled2.ipynb\r\n",
      "Music\t\t      Untitled-Copy1.ipynb\r\n",
      "myprivatekey.pem      Untitled.ipynb\r\n",
      "node_modules\t      Videos\r\n",
      "Pictures\t      work\r\n"
     ]
    }
   ],
   "source": [
    "!ls\n"
   ]
  },
  {
   "cell_type": "code",
   "execution_count": 195,
   "id": "6eff298e",
   "metadata": {},
   "outputs": [
    {
     "ename": "FileNotFoundError",
     "evalue": "[Errno 2] No such file or directory: 'QmVmdLDVV3Ro9FfWNf4cqqzu4iVHVeapZQBcPFmhq33rJm'",
     "output_type": "error",
     "traceback": [
      "\u001b[0;31m---------------------------------------------------------------------------\u001b[0m",
      "\u001b[0;31mFileNotFoundError\u001b[0m                         Traceback (most recent call last)",
      "\u001b[0;32m<ipython-input-195-e49175f50c94>\u001b[0m in \u001b[0;36m<module>\u001b[0;34m\u001b[0m\n\u001b[0;32m----> 1\u001b[0;31m \u001b[0;32mwith\u001b[0m \u001b[0mopen\u001b[0m\u001b[0;34m(\u001b[0m\u001b[0muri\u001b[0m\u001b[0;34m,\u001b[0m \u001b[0;34m'rb'\u001b[0m\u001b[0;34m)\u001b[0m \u001b[0;32mas\u001b[0m \u001b[0mfile\u001b[0m\u001b[0;34m:\u001b[0m\u001b[0;34m\u001b[0m\u001b[0;34m\u001b[0m\u001b[0m\n\u001b[0m\u001b[1;32m      2\u001b[0m     \u001b[0mcipher\u001b[0m \u001b[0;34m=\u001b[0m \u001b[0mfile\u001b[0m\u001b[0;34m.\u001b[0m\u001b[0mread\u001b[0m\u001b[0;34m(\u001b[0m\u001b[0;34m)\u001b[0m\u001b[0;34m\u001b[0m\u001b[0;34m\u001b[0m\u001b[0m\n",
      "\u001b[0;31mFileNotFoundError\u001b[0m: [Errno 2] No such file or directory: 'QmVmdLDVV3Ro9FfWNf4cqqzu4iVHVeapZQBcPFmhq33rJm'"
     ]
    }
   ],
   "source": [
    "\n",
    "\n",
    "with open(uri, 'rb') as file:\n",
    "    cipher = file.read()"
   ]
  },
  {
   "cell_type": "code",
   "execution_count": null,
   "id": "4a8b728a",
   "metadata": {},
   "outputs": [],
   "source": []
  },
  {
   "cell_type": "code",
   "execution_count": null,
   "id": "b3f6da48",
   "metadata": {},
   "outputs": [],
   "source": []
  },
  {
   "cell_type": "code",
   "execution_count": null,
   "id": "50b751c8",
   "metadata": {},
   "outputs": [],
   "source": []
  },
  {
   "cell_type": "code",
   "execution_count": null,
   "id": "c1336d0f",
   "metadata": {},
   "outputs": [],
   "source": []
  },
  {
   "cell_type": "code",
   "execution_count": 245,
   "id": "b2242b04",
   "metadata": {},
   "outputs": [],
   "source": [
    "users = {'alex': [\"<socket.socket fd=4, family=AddressFamily.AF_INET, type=SocketKind.SOCK_STREAM, proto=0, laddr=('127.0.0.1', 5035), raddr=('127.0.0.1', 38826)>\", \"('127.0.0.1', 38826)\"], 'john': [\"<socket.socket fd=5, family=AddressFamily.AF_INET, type=SocketKind.SOCK_STREAM, proto=0, laddr=('127.0.0.1', 5035), raddr=('127.0.0.1', 38828)>\", \"('127.0.0.1', 38828)\"]}"
   ]
  },
  {
   "cell_type": "code",
   "execution_count": 247,
   "id": "867897ef",
   "metadata": {},
   "outputs": [
    {
     "data": {
      "text/plain": [
       "\"<socket.socket fd=4, family=AddressFamily.AF_INET, type=SocketKind.SOCK_STREAM, proto=0, laddr=('127.0.0.1', 5035), raddr=('127.0.0.1', 38826)>\""
      ]
     },
     "execution_count": 247,
     "metadata": {},
     "output_type": "execute_result"
    }
   ],
   "source": [
    "users[\"alex\"][0]"
   ]
  },
  {
   "cell_type": "code",
   "execution_count": null,
   "id": "236a7c68",
   "metadata": {},
   "outputs": [],
   "source": []
  },
  {
   "cell_type": "code",
   "execution_count": null,
   "id": "d49a780a",
   "metadata": {},
   "outputs": [],
   "source": []
  },
  {
   "cell_type": "code",
   "execution_count": null,
   "id": "a836eb79",
   "metadata": {},
   "outputs": [],
   "source": []
  },
  {
   "cell_type": "code",
   "execution_count": 7,
   "id": "287a1128",
   "metadata": {},
   "outputs": [],
   "source": [
    "def ipfs(uri):\n",
    "    cmd = [ 'ipfs', 'get', uri ]\n",
    "    out = run(cmd, capture_output=True).stdout\n",
    "    output = out.decode(\"utf-8\")\n",
    "    outputs = output.split(\" \")\n",
    "    file = outputs[3]\n",
    "    file = file.rstrip()\n",
    "    # passing file to decryption function\n",
    "    decryption(file)\n",
    "\n",
    "\n",
    "# decrypting message in file\n",
    "def decryption(file):\n",
    "    with open(file, 'rb') as file:\n",
    "        cipher = file.read()\n",
    "\n",
    "    with open('sk_hex.txt', 'r') as file:\n",
    "        secret_key = file.read().replace('\\n', '')\n",
    "\n",
    "    text = decrypt(secret_key, cipher).decode(\"utf-8\")\n",
    "    print(text)"
   ]
  },
  {
   "cell_type": "code",
   "execution_count": 8,
   "id": "5cc01458",
   "metadata": {},
   "outputs": [
    {
     "ename": "ValueError",
     "evalue": "The public key could not be parsed or is invalid.",
     "output_type": "error",
     "traceback": [
      "\u001b[0;31m---------------------------------------------------------------------------\u001b[0m",
      "\u001b[0;31mValueError\u001b[0m                                Traceback (most recent call last)",
      "\u001b[0;32m<ipython-input-8-66a855514d2d>\u001b[0m in \u001b[0;36m<module>\u001b[0;34m\u001b[0m\n\u001b[1;32m      1\u001b[0m \u001b[0muri\u001b[0m \u001b[0;34m=\u001b[0m \u001b[0;34m\"QmWqoUk7E6qbP2nTRUewnTKiY1u1fnf5GCj6mBJ8TEJwb9\"\u001b[0m\u001b[0;34m\u001b[0m\u001b[0;34m\u001b[0m\u001b[0m\n\u001b[0;32m----> 2\u001b[0;31m \u001b[0mipfs\u001b[0m\u001b[0;34m(\u001b[0m\u001b[0muri\u001b[0m\u001b[0;34m)\u001b[0m\u001b[0;34m\u001b[0m\u001b[0;34m\u001b[0m\u001b[0m\n\u001b[0m",
      "\u001b[0;32m<ipython-input-7-4156d7b867c5>\u001b[0m in \u001b[0;36mipfs\u001b[0;34m(uri)\u001b[0m\n\u001b[1;32m      7\u001b[0m     \u001b[0mfile\u001b[0m \u001b[0;34m=\u001b[0m \u001b[0mfile\u001b[0m\u001b[0;34m.\u001b[0m\u001b[0mrstrip\u001b[0m\u001b[0;34m(\u001b[0m\u001b[0;34m)\u001b[0m\u001b[0;34m\u001b[0m\u001b[0;34m\u001b[0m\u001b[0m\n\u001b[1;32m      8\u001b[0m     \u001b[0;31m# passing file to decryption function\u001b[0m\u001b[0;34m\u001b[0m\u001b[0;34m\u001b[0m\u001b[0;34m\u001b[0m\u001b[0m\n\u001b[0;32m----> 9\u001b[0;31m     \u001b[0mdecryption\u001b[0m\u001b[0;34m(\u001b[0m\u001b[0mfile\u001b[0m\u001b[0;34m)\u001b[0m\u001b[0;34m\u001b[0m\u001b[0;34m\u001b[0m\u001b[0m\n\u001b[0m\u001b[1;32m     10\u001b[0m \u001b[0;34m\u001b[0m\u001b[0m\n\u001b[1;32m     11\u001b[0m \u001b[0;34m\u001b[0m\u001b[0m\n",
      "\u001b[0;32m<ipython-input-7-4156d7b867c5>\u001b[0m in \u001b[0;36mdecryption\u001b[0;34m(file)\u001b[0m\n\u001b[1;32m     18\u001b[0m         \u001b[0msecret_key\u001b[0m \u001b[0;34m=\u001b[0m \u001b[0mfile\u001b[0m\u001b[0;34m.\u001b[0m\u001b[0mread\u001b[0m\u001b[0;34m(\u001b[0m\u001b[0;34m)\u001b[0m\u001b[0;34m.\u001b[0m\u001b[0mreplace\u001b[0m\u001b[0;34m(\u001b[0m\u001b[0;34m'\\n'\u001b[0m\u001b[0;34m,\u001b[0m \u001b[0;34m''\u001b[0m\u001b[0;34m)\u001b[0m\u001b[0;34m\u001b[0m\u001b[0;34m\u001b[0m\u001b[0m\n\u001b[1;32m     19\u001b[0m \u001b[0;34m\u001b[0m\u001b[0m\n\u001b[0;32m---> 20\u001b[0;31m     \u001b[0mtext\u001b[0m \u001b[0;34m=\u001b[0m \u001b[0mdecrypt\u001b[0m\u001b[0;34m(\u001b[0m\u001b[0msecret_key\u001b[0m\u001b[0;34m,\u001b[0m \u001b[0mcipher\u001b[0m\u001b[0;34m)\u001b[0m\u001b[0;34m.\u001b[0m\u001b[0mdecode\u001b[0m\u001b[0;34m(\u001b[0m\u001b[0;34m\"utf-8\"\u001b[0m\u001b[0;34m)\u001b[0m\u001b[0;34m\u001b[0m\u001b[0;34m\u001b[0m\u001b[0m\n\u001b[0m\u001b[1;32m     21\u001b[0m     \u001b[0mprint\u001b[0m\u001b[0;34m(\u001b[0m\u001b[0mtext\u001b[0m\u001b[0;34m)\u001b[0m\u001b[0;34m\u001b[0m\u001b[0;34m\u001b[0m\u001b[0m\n",
      "\u001b[0;32m~/.local/lib/python3.8/site-packages/ecies/__init__.py\u001b[0m in \u001b[0;36mdecrypt\u001b[0;34m(receiver_sk, msg)\u001b[0m\n\u001b[1;32m     61\u001b[0m     \u001b[0mpubkey\u001b[0m \u001b[0;34m=\u001b[0m \u001b[0mmsg\u001b[0m\u001b[0;34m[\u001b[0m\u001b[0;36m0\u001b[0m\u001b[0;34m:\u001b[0m\u001b[0;36m65\u001b[0m\u001b[0;34m]\u001b[0m  \u001b[0;31m# uncompressed pubkey's length is 65 bytes\u001b[0m\u001b[0;34m\u001b[0m\u001b[0;34m\u001b[0m\u001b[0m\n\u001b[1;32m     62\u001b[0m     \u001b[0mencrypted\u001b[0m \u001b[0;34m=\u001b[0m \u001b[0mmsg\u001b[0m\u001b[0;34m[\u001b[0m\u001b[0;36m65\u001b[0m\u001b[0;34m:\u001b[0m\u001b[0;34m]\u001b[0m\u001b[0;34m\u001b[0m\u001b[0;34m\u001b[0m\u001b[0m\n\u001b[0;32m---> 63\u001b[0;31m     \u001b[0mephemeral_public_key\u001b[0m \u001b[0;34m=\u001b[0m \u001b[0mPublicKey\u001b[0m\u001b[0;34m(\u001b[0m\u001b[0mpubkey\u001b[0m\u001b[0;34m)\u001b[0m\u001b[0;34m\u001b[0m\u001b[0;34m\u001b[0m\u001b[0m\n\u001b[0m\u001b[1;32m     64\u001b[0m \u001b[0;34m\u001b[0m\u001b[0m\n\u001b[1;32m     65\u001b[0m     \u001b[0maes_key\u001b[0m \u001b[0;34m=\u001b[0m \u001b[0mdecapsulate\u001b[0m\u001b[0;34m(\u001b[0m\u001b[0mephemeral_public_key\u001b[0m\u001b[0;34m,\u001b[0m \u001b[0mprivate_key\u001b[0m\u001b[0;34m)\u001b[0m\u001b[0;34m\u001b[0m\u001b[0;34m\u001b[0m\u001b[0m\n",
      "\u001b[0;32m~/.local/lib/python3.8/site-packages/coincurve/keys.py\u001b[0m in \u001b[0;36m__init__\u001b[0;34m(self, data, context)\u001b[0m\n\u001b[1;32m    273\u001b[0m \u001b[0;34m\u001b[0m\u001b[0m\n\u001b[1;32m    274\u001b[0m             \u001b[0;32mif\u001b[0m \u001b[0;32mnot\u001b[0m \u001b[0mparsed\u001b[0m\u001b[0;34m:\u001b[0m\u001b[0;34m\u001b[0m\u001b[0;34m\u001b[0m\u001b[0m\n\u001b[0;32m--> 275\u001b[0;31m                 \u001b[0;32mraise\u001b[0m \u001b[0mValueError\u001b[0m\u001b[0;34m(\u001b[0m\u001b[0;34m'The public key could not be parsed or is invalid.'\u001b[0m\u001b[0;34m)\u001b[0m\u001b[0;34m\u001b[0m\u001b[0;34m\u001b[0m\u001b[0m\n\u001b[0m\u001b[1;32m    276\u001b[0m \u001b[0;34m\u001b[0m\u001b[0m\n\u001b[1;32m    277\u001b[0m             \u001b[0mself\u001b[0m\u001b[0;34m.\u001b[0m\u001b[0mpublic_key\u001b[0m \u001b[0;34m=\u001b[0m \u001b[0mpublic_key\u001b[0m\u001b[0;34m\u001b[0m\u001b[0;34m\u001b[0m\u001b[0m\n",
      "\u001b[0;31mValueError\u001b[0m: The public key could not be parsed or is invalid."
     ]
    }
   ],
   "source": [
    "uri = \"QmWqoUk7E6qbP2nTRUewnTKiY1u1fnf5GCj6mBJ8TEJwb9\"\n",
    "ipfs(uri)"
   ]
  },
  {
   "cell_type": "code",
   "execution_count": null,
   "id": "20c3abe6",
   "metadata": {},
   "outputs": [],
   "source": []
  }
 ],
 "metadata": {
  "kernelspec": {
   "display_name": "Python 3",
   "language": "python",
   "name": "python3"
  },
  "language_info": {
   "codemirror_mode": {
    "name": "ipython",
    "version": 3
   },
   "file_extension": ".py",
   "mimetype": "text/x-python",
   "name": "python",
   "nbconvert_exporter": "python",
   "pygments_lexer": "ipython3",
   "version": "3.8.10"
  }
 },
 "nbformat": 4,
 "nbformat_minor": 5
}
