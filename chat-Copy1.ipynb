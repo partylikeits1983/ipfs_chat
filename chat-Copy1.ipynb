{
 "cells": [
  {
   "cell_type": "code",
   "execution_count": null,
   "id": "15fecb12",
   "metadata": {},
   "outputs": [],
   "source": []
  },
  {
   "cell_type": "code",
   "execution_count": 30,
   "id": "6d49b98a",
   "metadata": {},
   "outputs": [],
   "source": [
    "data = b'alex:asdf'\n",
    "m = data.decode(\"utf-8\")"
   ]
  },
  {
   "cell_type": "code",
   "execution_count": 31,
   "id": "72c87781",
   "metadata": {},
   "outputs": [
    {
     "data": {
      "text/plain": [
       "['alex', 'asdf']"
      ]
     },
     "execution_count": 31,
     "metadata": {},
     "output_type": "execute_result"
    }
   ],
   "source": [
    "l = m.split(':')\n",
    "l"
   ]
  },
  {
   "cell_type": "code",
   "execution_count": 33,
   "id": "24fb9d82",
   "metadata": {},
   "outputs": [
    {
     "data": {
      "text/plain": [
       "b'asdf'"
      ]
     },
     "execution_count": 33,
     "metadata": {},
     "output_type": "execute_result"
    }
   ],
   "source": [
    "user = l[0]\n",
    "s = l[1]\n",
    "\n",
    "text = s.encode('ascii')\n",
    "\n",
    "text"
   ]
  },
  {
   "cell_type": "code",
   "execution_count": 34,
   "id": "4ebb7bcd",
   "metadata": {},
   "outputs": [
    {
     "name": "stdout",
     "output_type": "stream",
     "text": [
      "To: john\n",
      "Message: hi\n"
     ]
    }
   ],
   "source": [
    "message = '{}: {}'.format(input(\"To: \"), input(\"Message: \"))"
   ]
  },
  {
   "cell_type": "code",
   "execution_count": 6,
   "id": "faeabeca",
   "metadata": {},
   "outputs": [],
   "source": [
    "from ecies.utils import generate_eth_key, generate_key\n",
    "from ecies import encrypt, decrypt"
   ]
  },
  {
   "cell_type": "code",
   "execution_count": 50,
   "id": "bdc82c92",
   "metadata": {},
   "outputs": [
    {
     "name": "stdout",
     "output_type": "stream",
     "text": [
      "0x7c715cfb2fb0ab035ea15f4bc2f547d638cbf45d6ea9a5172c5d7fc1de0ab9f4\n",
      "0xb43b409bacb8790b0fc2e829f025e24976ed2fd7f508fffe6098908bd84acebfbc258a29bb0e0932db82e86c08e591deb5dc1f13907547c30fe9adb15692d9c9\n"
     ]
    }
   ],
   "source": [
    "from ecies.utils import generate_eth_key, generate_key\n",
    "from ecies import encrypt, decrypt\n",
    "\n",
    "eth_k = generate_eth_key()\n",
    "sk_hex = eth_k.to_hex()  # hex string\n",
    "pk_hex = eth_k.public_key.to_hex() \n",
    "\n",
    "keys = {\n",
    "    \"eth_k\" : eth_k,\n",
    "    \"sk_hex\" :  sk_hex,\n",
    "    \"pk_hex\" : pk_hex\n",
    "}\n",
    "\n",
    "with open(\"sk_hex.txt\", \"w\") as pk:\n",
    "    pk.write(sk_hex)\n",
    "\n",
    "with open(\"pk_hex.txt\", \"w\") as pk:\n",
    "    pk.write(pk_hex)\n",
    "\n",
    "print(sk_hex)\n",
    "print(pk_hex)"
   ]
  },
  {
   "cell_type": "code",
   "execution_count": null,
   "id": "cce69848",
   "metadata": {},
   "outputs": [],
   "source": []
  },
  {
   "cell_type": "code",
   "execution_count": 102,
   "id": "d81981fa",
   "metadata": {},
   "outputs": [],
   "source": [
    "# Client Side\n",
    "import binascii"
   ]
  },
  {
   "cell_type": "code",
   "execution_count": 103,
   "id": "140ca86a",
   "metadata": {},
   "outputs": [],
   "source": [
    "def textToBytes():\n",
    "    with open('pk_hex.txt', 'r') as file:\n",
    "        pk_hex = file.read().replace('\\n', '')\n",
    "\n",
    "    message = str(input())\n",
    "    data = str.encode(message)\n",
    "    m = encrypt(pk_hex, data)\n",
    "    bcipher = binascii.hexlify(m)\n",
    "    cipher = bcipher.decode('ascii')\n",
    "\n",
    "    return cipher"
   ]
  },
  {
   "cell_type": "code",
   "execution_count": 104,
   "id": "a7e5780c",
   "metadata": {},
   "outputs": [
    {
     "name": "stdout",
     "output_type": "stream",
     "text": [
      "asdfasdf\n"
     ]
    }
   ],
   "source": [
    "cipher = textToBytes()"
   ]
  },
  {
   "cell_type": "code",
   "execution_count": null,
   "id": "3a7ddc76",
   "metadata": {},
   "outputs": [],
   "source": []
  },
  {
   "cell_type": "code",
   "execution_count": 105,
   "id": "2cd2a09a",
   "metadata": {},
   "outputs": [
    {
     "name": "stdout",
     "output_type": "stream",
     "text": [
      "044ce059aa5fc89a5f480f9409623d9cac48d40feb041cebc9e9c480f37464eabd218d6f08523ab6ab068f0c7b237fe687d74c3248b669d51af032bc5701b6d4213e083bb580755f6966a76bfdc86e6373a467f2bb988a5c9b5f12ab003bb825fed8c0938cc983b858\n"
     ]
    }
   ],
   "source": [
    "print(cipher)"
   ]
  },
  {
   "cell_type": "code",
   "execution_count": null,
   "id": "87e4f9ee",
   "metadata": {},
   "outputs": [],
   "source": []
  },
  {
   "cell_type": "code",
   "execution_count": null,
   "id": "3fd2e968",
   "metadata": {},
   "outputs": [],
   "source": []
  },
  {
   "cell_type": "code",
   "execution_count": 54,
   "id": "b9a85e31",
   "metadata": {},
   "outputs": [],
   "source": [
    "# client sends cipher to server"
   ]
  },
  {
   "cell_type": "code",
   "execution_count": 125,
   "id": "b066a117",
   "metadata": {},
   "outputs": [],
   "source": [
    "def cleanData(message):\n",
    "    data = message\n",
    "    m = data.decode(\"utf-8\")\n",
    "    l = m.split(':')\n",
    "\n",
    "    user = l[0]\n",
    "    text = l[1]\n",
    "\n",
    "    return user, text"
   ]
  },
  {
   "cell_type": "code",
   "execution_count": 126,
   "id": "d3b20646",
   "metadata": {},
   "outputs": [],
   "source": [
    "message = \"asdf:\" + cipher"
   ]
  },
  {
   "cell_type": "code",
   "execution_count": null,
   "id": "7ba20b6b",
   "metadata": {},
   "outputs": [],
   "source": []
  },
  {
   "cell_type": "code",
   "execution_count": null,
   "id": "1c0138f7",
   "metadata": {},
   "outputs": [],
   "source": []
  },
  {
   "cell_type": "code",
   "execution_count": 129,
   "id": "60107590",
   "metadata": {},
   "outputs": [],
   "source": [
    "user, text = cleanData(message.encode(\"ascii\"))"
   ]
  },
  {
   "cell_type": "code",
   "execution_count": 132,
   "id": "37b9957a",
   "metadata": {},
   "outputs": [
    {
     "name": "stdout",
     "output_type": "stream",
     "text": [
      "asdf\n",
      "044ce059aa5fc89a5f480f9409623d9cac48d40feb041cebc9e9c480f37464eabd218d6f08523ab6ab068f0c7b237fe687d74c3248b669d51af032bc5701b6d4213e083bb580755f6966a76bfdc86e6373a467f2bb988a5c9b5f12ab003bb825fed8c0938cc983b858\n"
     ]
    }
   ],
   "source": [
    "print(user)\n",
    "print(text)"
   ]
  },
  {
   "cell_type": "code",
   "execution_count": null,
   "id": "6d133d8d",
   "metadata": {},
   "outputs": [],
   "source": []
  },
  {
   "cell_type": "code",
   "execution_count": null,
   "id": "51de6ee9",
   "metadata": {},
   "outputs": [],
   "source": []
  },
  {
   "cell_type": "code",
   "execution_count": null,
   "id": "ce03600e",
   "metadata": {},
   "outputs": [],
   "source": []
  },
  {
   "cell_type": "code",
   "execution_count": 133,
   "id": "7f47ac01",
   "metadata": {},
   "outputs": [],
   "source": [
    "\n",
    "from subprocess import run"
   ]
  },
  {
   "cell_type": "code",
   "execution_count": 136,
   "id": "632105bc",
   "metadata": {},
   "outputs": [],
   "source": [
    "with open(\"txt.txt\", \"w\") as txt:\n",
    "    txt.write(cipher)\n",
    "cmd = [ 'ipfs', 'add', 'txt.txt' ]\n",
    "out = run(cmd, capture_output=True).stdout\n",
    "output = out.decode(\"utf-8\")\n",
    "outputs = output.split(\" \")\n",
    "uri = outputs[1]"
   ]
  },
  {
   "cell_type": "code",
   "execution_count": 137,
   "id": "02539432",
   "metadata": {},
   "outputs": [
    {
     "data": {
      "text/plain": [
       "'QmbLPm2zdxh3N8GPrA3wbUwocdwRArjqPLhTXB1jwtVtpw'"
      ]
     },
     "execution_count": 137,
     "metadata": {},
     "output_type": "execute_result"
    }
   ],
   "source": [
    "uri"
   ]
  },
  {
   "cell_type": "code",
   "execution_count": 138,
   "id": "b40d67a4",
   "metadata": {},
   "outputs": [],
   "source": [
    "# send URI to user"
   ]
  },
  {
   "cell_type": "code",
   "execution_count": 139,
   "id": "c3be0b57",
   "metadata": {},
   "outputs": [],
   "source": [
    "# client side"
   ]
  },
  {
   "cell_type": "code",
   "execution_count": 144,
   "id": "73af08a9",
   "metadata": {},
   "outputs": [],
   "source": [
    "def ipfs(uri):\n",
    "    cmd = [ 'ipfs', 'get', uri ]\n",
    "    out = run(cmd, capture_output=True).stdout\n",
    "    output = out.decode(\"utf-8\")\n",
    "    outputs = output.split(\" \")\n",
    "    file = outputs[3]\n",
    "    file = file.rstrip()\n",
    "    dec(file)\n",
    "    \n",
    "# decrypting message in file\n",
    "def dec(file):\n",
    "    with open(file, 'rb') as file:\n",
    "        cipher = file.read()\n",
    "    \n",
    "    with open('sk_hex.txt', 'r') as file:\n",
    "        secret_key = file.read().replace('\\n', '')\n",
    "\n",
    "    text = decrypt(secret_key, cipher).decode(\"utf-8\")\n",
    "    print(text)"
   ]
  },
  {
   "cell_type": "code",
   "execution_count": 145,
   "id": "1454826a",
   "metadata": {},
   "outputs": [
    {
     "ename": "TypeError",
     "evalue": "initializer for ctype 'secp256k1_pubkey' must be a list or tuple or dict or struct-cdata, not str",
     "output_type": "error",
     "traceback": [
      "\u001b[0;31m---------------------------------------------------------------------------\u001b[0m",
      "\u001b[0;31mTypeError\u001b[0m                                 Traceback (most recent call last)",
      "\u001b[0;32m<ipython-input-145-07a9e675bfd9>\u001b[0m in \u001b[0;36m<module>\u001b[0;34m\u001b[0m\n\u001b[0;32m----> 1\u001b[0;31m \u001b[0mipfs\u001b[0m\u001b[0;34m(\u001b[0m\u001b[0muri\u001b[0m\u001b[0;34m)\u001b[0m\u001b[0;34m\u001b[0m\u001b[0;34m\u001b[0m\u001b[0m\n\u001b[0m",
      "\u001b[0;32m<ipython-input-144-7f1af770717e>\u001b[0m in \u001b[0;36mipfs\u001b[0;34m(uri)\u001b[0m\n\u001b[1;32m      6\u001b[0m     \u001b[0mfile\u001b[0m \u001b[0;34m=\u001b[0m \u001b[0moutputs\u001b[0m\u001b[0;34m[\u001b[0m\u001b[0;36m3\u001b[0m\u001b[0;34m]\u001b[0m\u001b[0;34m\u001b[0m\u001b[0;34m\u001b[0m\u001b[0m\n\u001b[1;32m      7\u001b[0m     \u001b[0mfile\u001b[0m \u001b[0;34m=\u001b[0m \u001b[0mfile\u001b[0m\u001b[0;34m.\u001b[0m\u001b[0mrstrip\u001b[0m\u001b[0;34m(\u001b[0m\u001b[0;34m)\u001b[0m\u001b[0;34m\u001b[0m\u001b[0;34m\u001b[0m\u001b[0m\n\u001b[0;32m----> 8\u001b[0;31m     \u001b[0mdec\u001b[0m\u001b[0;34m(\u001b[0m\u001b[0mfile\u001b[0m\u001b[0;34m)\u001b[0m\u001b[0;34m\u001b[0m\u001b[0;34m\u001b[0m\u001b[0m\n\u001b[0m\u001b[1;32m      9\u001b[0m \u001b[0;34m\u001b[0m\u001b[0m\n\u001b[1;32m     10\u001b[0m \u001b[0;31m# decrypting message in file\u001b[0m\u001b[0;34m\u001b[0m\u001b[0;34m\u001b[0m\u001b[0;34m\u001b[0m\u001b[0m\n",
      "\u001b[0;32m<ipython-input-144-7f1af770717e>\u001b[0m in \u001b[0;36mdec\u001b[0;34m(file)\u001b[0m\n\u001b[1;32m     16\u001b[0m         \u001b[0msecret_key\u001b[0m \u001b[0;34m=\u001b[0m \u001b[0mfile\u001b[0m\u001b[0;34m.\u001b[0m\u001b[0mread\u001b[0m\u001b[0;34m(\u001b[0m\u001b[0;34m)\u001b[0m\u001b[0;34m.\u001b[0m\u001b[0mreplace\u001b[0m\u001b[0;34m(\u001b[0m\u001b[0;34m'\\n'\u001b[0m\u001b[0;34m,\u001b[0m \u001b[0;34m''\u001b[0m\u001b[0;34m)\u001b[0m\u001b[0;34m\u001b[0m\u001b[0;34m\u001b[0m\u001b[0m\n\u001b[1;32m     17\u001b[0m \u001b[0;34m\u001b[0m\u001b[0m\n\u001b[0;32m---> 18\u001b[0;31m     \u001b[0mtext\u001b[0m \u001b[0;34m=\u001b[0m \u001b[0mdecrypt\u001b[0m\u001b[0;34m(\u001b[0m\u001b[0msecret_key\u001b[0m\u001b[0;34m,\u001b[0m \u001b[0;34m\"044ce059aa5fc89a5f480f9409623d9cac48d40feb041cebc9e9c480f37464eabd218d6f08523ab6ab068f0c7b237fe687d74c3248b669d51af032bc5701b6d4213e083bb580755f6966a76bfdc86e6373a467f2bb988a5c9b5f12ab003bb825fed8c0938cc983b858\"\u001b[0m\u001b[0;34m)\u001b[0m\u001b[0;34m.\u001b[0m\u001b[0mdecode\u001b[0m\u001b[0;34m(\u001b[0m\u001b[0;34m\"utf-8\"\u001b[0m\u001b[0;34m)\u001b[0m\u001b[0;34m\u001b[0m\u001b[0;34m\u001b[0m\u001b[0m\n\u001b[0m\u001b[1;32m     19\u001b[0m     \u001b[0mprint\u001b[0m\u001b[0;34m(\u001b[0m\u001b[0mtext\u001b[0m\u001b[0;34m)\u001b[0m\u001b[0;34m\u001b[0m\u001b[0;34m\u001b[0m\u001b[0m\n\u001b[1;32m     20\u001b[0m \u001b[0;34m\u001b[0m\u001b[0m\n",
      "\u001b[0;32m~/.local/lib/python3.8/site-packages/ecies/__init__.py\u001b[0m in \u001b[0;36mdecrypt\u001b[0;34m(receiver_sk, msg)\u001b[0m\n\u001b[1;32m     63\u001b[0m     \u001b[0mephemeral_public_key\u001b[0m \u001b[0;34m=\u001b[0m \u001b[0mPublicKey\u001b[0m\u001b[0;34m(\u001b[0m\u001b[0mpubkey\u001b[0m\u001b[0;34m)\u001b[0m\u001b[0;34m\u001b[0m\u001b[0;34m\u001b[0m\u001b[0m\n\u001b[1;32m     64\u001b[0m \u001b[0;34m\u001b[0m\u001b[0m\n\u001b[0;32m---> 65\u001b[0;31m     \u001b[0maes_key\u001b[0m \u001b[0;34m=\u001b[0m \u001b[0mdecapsulate\u001b[0m\u001b[0;34m(\u001b[0m\u001b[0mephemeral_public_key\u001b[0m\u001b[0;34m,\u001b[0m \u001b[0mprivate_key\u001b[0m\u001b[0;34m)\u001b[0m\u001b[0;34m\u001b[0m\u001b[0;34m\u001b[0m\u001b[0m\n\u001b[0m\u001b[1;32m     66\u001b[0m     \u001b[0;32mreturn\u001b[0m \u001b[0maes_decrypt\u001b[0m\u001b[0;34m(\u001b[0m\u001b[0maes_key\u001b[0m\u001b[0;34m,\u001b[0m \u001b[0mencrypted\u001b[0m\u001b[0;34m)\u001b[0m\u001b[0;34m\u001b[0m\u001b[0;34m\u001b[0m\u001b[0m\n",
      "\u001b[0;32m~/.local/lib/python3.8/site-packages/ecies/utils.py\u001b[0m in \u001b[0;36mdecapsulate\u001b[0;34m(public_key, peer_private_key)\u001b[0m\n\u001b[1;32m    149\u001b[0m \u001b[0;34m\u001b[0m\u001b[0m\n\u001b[1;32m    150\u001b[0m \u001b[0;32mdef\u001b[0m \u001b[0mdecapsulate\u001b[0m\u001b[0;34m(\u001b[0m\u001b[0mpublic_key\u001b[0m\u001b[0;34m:\u001b[0m \u001b[0mPublicKey\u001b[0m\u001b[0;34m,\u001b[0m \u001b[0mpeer_private_key\u001b[0m\u001b[0;34m:\u001b[0m \u001b[0mPrivateKey\u001b[0m\u001b[0;34m)\u001b[0m \u001b[0;34m->\u001b[0m \u001b[0mbytes\u001b[0m\u001b[0;34m:\u001b[0m\u001b[0;34m\u001b[0m\u001b[0;34m\u001b[0m\u001b[0m\n\u001b[0;32m--> 151\u001b[0;31m     \u001b[0mshared_point\u001b[0m \u001b[0;34m=\u001b[0m \u001b[0mpublic_key\u001b[0m\u001b[0;34m.\u001b[0m\u001b[0mmultiply\u001b[0m\u001b[0;34m(\u001b[0m\u001b[0mpeer_private_key\u001b[0m\u001b[0;34m.\u001b[0m\u001b[0msecret\u001b[0m\u001b[0;34m)\u001b[0m\u001b[0;34m\u001b[0m\u001b[0;34m\u001b[0m\u001b[0m\n\u001b[0m\u001b[1;32m    152\u001b[0m     \u001b[0mmaster\u001b[0m \u001b[0;34m=\u001b[0m \u001b[0mpublic_key\u001b[0m\u001b[0;34m.\u001b[0m\u001b[0mformat\u001b[0m\u001b[0;34m(\u001b[0m\u001b[0mcompressed\u001b[0m\u001b[0;34m=\u001b[0m\u001b[0;32mFalse\u001b[0m\u001b[0;34m)\u001b[0m \u001b[0;34m+\u001b[0m \u001b[0mshared_point\u001b[0m\u001b[0;34m.\u001b[0m\u001b[0mformat\u001b[0m\u001b[0;34m(\u001b[0m\u001b[0mcompressed\u001b[0m\u001b[0;34m=\u001b[0m\u001b[0;32mFalse\u001b[0m\u001b[0;34m)\u001b[0m\u001b[0;34m\u001b[0m\u001b[0;34m\u001b[0m\u001b[0m\n\u001b[1;32m    153\u001b[0m     \u001b[0mderived\u001b[0m \u001b[0;34m=\u001b[0m \u001b[0mHKDF\u001b[0m\u001b[0;34m(\u001b[0m\u001b[0mmaster\u001b[0m\u001b[0;34m,\u001b[0m \u001b[0mAES_KEY_BYTES_LEN\u001b[0m\u001b[0;34m,\u001b[0m \u001b[0;34mb\"\"\u001b[0m\u001b[0;34m,\u001b[0m \u001b[0mSHA256\u001b[0m\u001b[0;34m)\u001b[0m\u001b[0;34m\u001b[0m\u001b[0;34m\u001b[0m\u001b[0m\n",
      "\u001b[0;32m~/.local/lib/python3.8/site-packages/coincurve/keys.py\u001b[0m in \u001b[0;36mmultiply\u001b[0;34m(self, scalar, update)\u001b[0m\n\u001b[1;32m    447\u001b[0m         \u001b[0mscalar\u001b[0m \u001b[0;34m=\u001b[0m \u001b[0mvalidate_secret\u001b[0m\u001b[0;34m(\u001b[0m\u001b[0mscalar\u001b[0m\u001b[0;34m)\u001b[0m\u001b[0;34m\u001b[0m\u001b[0;34m\u001b[0m\u001b[0m\n\u001b[1;32m    448\u001b[0m \u001b[0;34m\u001b[0m\u001b[0m\n\u001b[0;32m--> 449\u001b[0;31m         \u001b[0mnew_key\u001b[0m \u001b[0;34m=\u001b[0m \u001b[0mffi\u001b[0m\u001b[0;34m.\u001b[0m\u001b[0mnew\u001b[0m\u001b[0;34m(\u001b[0m\u001b[0;34m'secp256k1_pubkey *'\u001b[0m\u001b[0;34m,\u001b[0m \u001b[0mself\u001b[0m\u001b[0;34m.\u001b[0m\u001b[0mpublic_key\u001b[0m\u001b[0;34m[\u001b[0m\u001b[0;36m0\u001b[0m\u001b[0;34m]\u001b[0m\u001b[0;34m)\u001b[0m\u001b[0;34m\u001b[0m\u001b[0;34m\u001b[0m\u001b[0m\n\u001b[0m\u001b[1;32m    450\u001b[0m \u001b[0;34m\u001b[0m\u001b[0m\n\u001b[1;32m    451\u001b[0m         \u001b[0mlib\u001b[0m\u001b[0;34m.\u001b[0m\u001b[0msecp256k1_ec_pubkey_tweak_mul\u001b[0m\u001b[0;34m(\u001b[0m\u001b[0mself\u001b[0m\u001b[0;34m.\u001b[0m\u001b[0mcontext\u001b[0m\u001b[0;34m.\u001b[0m\u001b[0mctx\u001b[0m\u001b[0;34m,\u001b[0m \u001b[0mnew_key\u001b[0m\u001b[0;34m,\u001b[0m \u001b[0mscalar\u001b[0m\u001b[0;34m)\u001b[0m\u001b[0;34m\u001b[0m\u001b[0;34m\u001b[0m\u001b[0m\n",
      "\u001b[0;31mTypeError\u001b[0m: initializer for ctype 'secp256k1_pubkey' must be a list or tuple or dict or struct-cdata, not str"
     ]
    }
   ],
   "source": [
    "ipfs(uri)"
   ]
  },
  {
   "cell_type": "code",
   "execution_count": null,
   "id": "a1a52c83",
   "metadata": {},
   "outputs": [],
   "source": []
  },
  {
   "cell_type": "code",
   "execution_count": 48,
   "id": "f6b6af0b",
   "metadata": {},
   "outputs": [],
   "source": [
    "def ipfs(uri):\n",
    "    cmd = [ 'ipfs', 'get', uri ]\n",
    "    out = run(cmd, capture_output=True).stdout\n",
    "    output = out.decode(\"utf-8\")\n",
    "    outputs = output.split(\" \")\n",
    "    file = outputs[3]\n",
    "    file = file.rstrip()\n",
    "    dec(file)\n",
    "    \n",
    "# decrypting message in file\n",
    "def dec(file):\n",
    "    with open(file, 'rb') as file:\n",
    "        cipher = file.read()\n",
    "    \n",
    "    with open('sk_hex.txt', 'r') as file:\n",
    "        secret_key = file.read().replace('\\n', '')\n",
    "\n",
    "    text = decrypt(secret_key, cipher).decode(\"utf-8\")\n",
    "    print(text)"
   ]
  },
  {
   "cell_type": "code",
   "execution_count": 49,
   "id": "d8bffbee",
   "metadata": {},
   "outputs": [
    {
     "ename": "ValueError",
     "evalue": "The public key could not be parsed or is invalid.",
     "output_type": "error",
     "traceback": [
      "\u001b[0;31m---------------------------------------------------------------------------\u001b[0m",
      "\u001b[0;31mValueError\u001b[0m                                Traceback (most recent call last)",
      "\u001b[0;32m<ipython-input-49-0fbfa6da1a8c>\u001b[0m in \u001b[0;36m<module>\u001b[0;34m\u001b[0m\n\u001b[1;32m      1\u001b[0m \u001b[0mmessage\u001b[0m \u001b[0;34m=\u001b[0m \u001b[0;34m\"QmSXJHcXihRXKLHw5mtW8chiKGxmd9Fcy1XwcKvbj2JSF5\"\u001b[0m\u001b[0;34m\u001b[0m\u001b[0;34m\u001b[0m\u001b[0m\n\u001b[0;32m----> 2\u001b[0;31m \u001b[0mipfs\u001b[0m\u001b[0;34m(\u001b[0m\u001b[0mmessage\u001b[0m\u001b[0;34m)\u001b[0m\u001b[0;34m\u001b[0m\u001b[0;34m\u001b[0m\u001b[0m\n\u001b[0m",
      "\u001b[0;32m<ipython-input-48-d945032dc07e>\u001b[0m in \u001b[0;36mipfs\u001b[0;34m(uri)\u001b[0m\n\u001b[1;32m      6\u001b[0m     \u001b[0mfile\u001b[0m \u001b[0;34m=\u001b[0m \u001b[0moutputs\u001b[0m\u001b[0;34m[\u001b[0m\u001b[0;36m3\u001b[0m\u001b[0;34m]\u001b[0m\u001b[0;34m\u001b[0m\u001b[0;34m\u001b[0m\u001b[0m\n\u001b[1;32m      7\u001b[0m     \u001b[0mfile\u001b[0m \u001b[0;34m=\u001b[0m \u001b[0mfile\u001b[0m\u001b[0;34m.\u001b[0m\u001b[0mrstrip\u001b[0m\u001b[0;34m(\u001b[0m\u001b[0;34m)\u001b[0m\u001b[0;34m\u001b[0m\u001b[0;34m\u001b[0m\u001b[0m\n\u001b[0;32m----> 8\u001b[0;31m     \u001b[0mdec\u001b[0m\u001b[0;34m(\u001b[0m\u001b[0mfile\u001b[0m\u001b[0;34m)\u001b[0m\u001b[0;34m\u001b[0m\u001b[0;34m\u001b[0m\u001b[0m\n\u001b[0m\u001b[1;32m      9\u001b[0m \u001b[0;34m\u001b[0m\u001b[0m\n\u001b[1;32m     10\u001b[0m \u001b[0;31m# decrypting message in file\u001b[0m\u001b[0;34m\u001b[0m\u001b[0;34m\u001b[0m\u001b[0;34m\u001b[0m\u001b[0m\n",
      "\u001b[0;32m<ipython-input-48-d945032dc07e>\u001b[0m in \u001b[0;36mdec\u001b[0;34m(file)\u001b[0m\n\u001b[1;32m     16\u001b[0m         \u001b[0msecret_key\u001b[0m \u001b[0;34m=\u001b[0m \u001b[0mfile\u001b[0m\u001b[0;34m.\u001b[0m\u001b[0mread\u001b[0m\u001b[0;34m(\u001b[0m\u001b[0;34m)\u001b[0m\u001b[0;34m.\u001b[0m\u001b[0mreplace\u001b[0m\u001b[0;34m(\u001b[0m\u001b[0;34m'\\n'\u001b[0m\u001b[0;34m,\u001b[0m \u001b[0;34m''\u001b[0m\u001b[0;34m)\u001b[0m\u001b[0;34m\u001b[0m\u001b[0;34m\u001b[0m\u001b[0m\n\u001b[1;32m     17\u001b[0m \u001b[0;34m\u001b[0m\u001b[0m\n\u001b[0;32m---> 18\u001b[0;31m     \u001b[0mtext\u001b[0m \u001b[0;34m=\u001b[0m \u001b[0mdecrypt\u001b[0m\u001b[0;34m(\u001b[0m\u001b[0msecret_key\u001b[0m\u001b[0;34m,\u001b[0m \u001b[0mcipher\u001b[0m\u001b[0;34m)\u001b[0m\u001b[0;34m.\u001b[0m\u001b[0mdecode\u001b[0m\u001b[0;34m(\u001b[0m\u001b[0;34m\"utf-8\"\u001b[0m\u001b[0;34m)\u001b[0m\u001b[0;34m\u001b[0m\u001b[0;34m\u001b[0m\u001b[0m\n\u001b[0m\u001b[1;32m     19\u001b[0m     \u001b[0mprint\u001b[0m\u001b[0;34m(\u001b[0m\u001b[0mtext\u001b[0m\u001b[0;34m)\u001b[0m\u001b[0;34m\u001b[0m\u001b[0;34m\u001b[0m\u001b[0m\n",
      "\u001b[0;32m~/.local/lib/python3.8/site-packages/ecies/__init__.py\u001b[0m in \u001b[0;36mdecrypt\u001b[0;34m(receiver_sk, msg)\u001b[0m\n\u001b[1;32m     61\u001b[0m     \u001b[0mpubkey\u001b[0m \u001b[0;34m=\u001b[0m \u001b[0mmsg\u001b[0m\u001b[0;34m[\u001b[0m\u001b[0;36m0\u001b[0m\u001b[0;34m:\u001b[0m\u001b[0;36m65\u001b[0m\u001b[0;34m]\u001b[0m  \u001b[0;31m# uncompressed pubkey's length is 65 bytes\u001b[0m\u001b[0;34m\u001b[0m\u001b[0;34m\u001b[0m\u001b[0m\n\u001b[1;32m     62\u001b[0m     \u001b[0mencrypted\u001b[0m \u001b[0;34m=\u001b[0m \u001b[0mmsg\u001b[0m\u001b[0;34m[\u001b[0m\u001b[0;36m65\u001b[0m\u001b[0;34m:\u001b[0m\u001b[0;34m]\u001b[0m\u001b[0;34m\u001b[0m\u001b[0;34m\u001b[0m\u001b[0m\n\u001b[0;32m---> 63\u001b[0;31m     \u001b[0mephemeral_public_key\u001b[0m \u001b[0;34m=\u001b[0m \u001b[0mPublicKey\u001b[0m\u001b[0;34m(\u001b[0m\u001b[0mpubkey\u001b[0m\u001b[0;34m)\u001b[0m\u001b[0;34m\u001b[0m\u001b[0;34m\u001b[0m\u001b[0m\n\u001b[0m\u001b[1;32m     64\u001b[0m \u001b[0;34m\u001b[0m\u001b[0m\n\u001b[1;32m     65\u001b[0m     \u001b[0maes_key\u001b[0m \u001b[0;34m=\u001b[0m \u001b[0mdecapsulate\u001b[0m\u001b[0;34m(\u001b[0m\u001b[0mephemeral_public_key\u001b[0m\u001b[0;34m,\u001b[0m \u001b[0mprivate_key\u001b[0m\u001b[0;34m)\u001b[0m\u001b[0;34m\u001b[0m\u001b[0;34m\u001b[0m\u001b[0m\n",
      "\u001b[0;32m~/.local/lib/python3.8/site-packages/coincurve/keys.py\u001b[0m in \u001b[0;36m__init__\u001b[0;34m(self, data, context)\u001b[0m\n\u001b[1;32m    273\u001b[0m \u001b[0;34m\u001b[0m\u001b[0m\n\u001b[1;32m    274\u001b[0m             \u001b[0;32mif\u001b[0m \u001b[0;32mnot\u001b[0m \u001b[0mparsed\u001b[0m\u001b[0;34m:\u001b[0m\u001b[0;34m\u001b[0m\u001b[0;34m\u001b[0m\u001b[0m\n\u001b[0;32m--> 275\u001b[0;31m                 \u001b[0;32mraise\u001b[0m \u001b[0mValueError\u001b[0m\u001b[0;34m(\u001b[0m\u001b[0;34m'The public key could not be parsed or is invalid.'\u001b[0m\u001b[0;34m)\u001b[0m\u001b[0;34m\u001b[0m\u001b[0;34m\u001b[0m\u001b[0m\n\u001b[0m\u001b[1;32m    276\u001b[0m \u001b[0;34m\u001b[0m\u001b[0m\n\u001b[1;32m    277\u001b[0m             \u001b[0mself\u001b[0m\u001b[0;34m.\u001b[0m\u001b[0mpublic_key\u001b[0m \u001b[0;34m=\u001b[0m \u001b[0mpublic_key\u001b[0m\u001b[0;34m\u001b[0m\u001b[0;34m\u001b[0m\u001b[0m\n",
      "\u001b[0;31mValueError\u001b[0m: The public key could not be parsed or is invalid."
     ]
    }
   ],
   "source": [
    "message = \"QmSXJHcXihRXKLHw5mtW8chiKGxmd9Fcy1XwcKvbj2JSF5\"\n",
    "ipfs(message)"
   ]
  },
  {
   "cell_type": "code",
   "execution_count": null,
   "id": "fde9d359",
   "metadata": {},
   "outputs": [],
   "source": []
  },
  {
   "cell_type": "code",
   "execution_count": 20,
   "id": "acc87414",
   "metadata": {},
   "outputs": [],
   "source": [
    "message = b'asdf: sadfasdf'"
   ]
  },
  {
   "cell_type": "code",
   "execution_count": 21,
   "id": "be3ac2f7",
   "metadata": {},
   "outputs": [],
   "source": [
    "m = message.decode(\"utf-8\")"
   ]
  },
  {
   "cell_type": "code",
   "execution_count": 22,
   "id": "30679f4a",
   "metadata": {},
   "outputs": [],
   "source": [
    "m = m.split(':')"
   ]
  },
  {
   "cell_type": "code",
   "execution_count": 23,
   "id": "1d116016",
   "metadata": {},
   "outputs": [],
   "source": [
    "user = m[0]\n",
    "message = m[1]"
   ]
  },
  {
   "cell_type": "code",
   "execution_count": 25,
   "id": "83ca07c2",
   "metadata": {},
   "outputs": [
    {
     "name": "stdout",
     "output_type": "stream",
     "text": [
      "['asdf', ' sadfasdf']\n"
     ]
    }
   ],
   "source": [
    "print(m)"
   ]
  },
  {
   "cell_type": "code",
   "execution_count": null,
   "id": "3222a50d",
   "metadata": {},
   "outputs": [],
   "source": []
  },
  {
   "cell_type": "code",
   "execution_count": 26,
   "id": "14ab5a1b",
   "metadata": {},
   "outputs": [],
   "source": [
    "user = \"0xfasfde49sdf9er\"\n",
    "address = \"1919349349\"\n",
    "client = \"asdfasdf\""
   ]
  },
  {
   "cell_type": "code",
   "execution_count": 27,
   "id": "85500ced",
   "metadata": {},
   "outputs": [],
   "source": [
    "dic = {}"
   ]
  },
  {
   "cell_type": "code",
   "execution_count": 28,
   "id": "eb91b83f",
   "metadata": {},
   "outputs": [],
   "source": [
    "dic[user] = [address, client]"
   ]
  },
  {
   "cell_type": "code",
   "execution_count": 30,
   "id": "48ff3734",
   "metadata": {},
   "outputs": [
    {
     "data": {
      "text/plain": [
       "'1919349349'"
      ]
     },
     "execution_count": 30,
     "metadata": {},
     "output_type": "execute_result"
    }
   ],
   "source": [
    "dic[user][0]"
   ]
  },
  {
   "cell_type": "code",
   "execution_count": null,
   "id": "7710f3ad",
   "metadata": {},
   "outputs": [],
   "source": []
  },
  {
   "cell_type": "code",
   "execution_count": null,
   "id": "d3fdb57b",
   "metadata": {},
   "outputs": [],
   "source": []
  },
  {
   "cell_type": "code",
   "execution_count": 13,
   "id": "0d808549",
   "metadata": {},
   "outputs": [
    {
     "name": "stdout",
     "output_type": "stream",
     "text": [
      "To: asdf\n",
      "Message: asdf\n"
     ]
    }
   ],
   "source": [
    "message = '{}: {}'.format(input(\"To: \"), textToBytes(input(\"Message: \")))\n",
    "message = message.encode('ascii')"
   ]
  },
  {
   "cell_type": "code",
   "execution_count": null,
   "id": "0e68c78a",
   "metadata": {},
   "outputs": [],
   "source": []
  },
  {
   "cell_type": "code",
   "execution_count": 11,
   "id": "6b7e139d",
   "metadata": {},
   "outputs": [],
   "source": [
    "# encrypting when sending\n",
    "def textToBytes(message):\n",
    "    with open('pk_hex.txt', 'r') as file:\n",
    "        pk_hex = file.read().replace('\\n', '')\n",
    "\n",
    "    data = str.encode(message)\n",
    "    cipher = encrypt(pk_hex, data)\n",
    "\n",
    "    return cipher\n",
    "\n",
    "\n",
    "def cleanData(message):\n",
    "    #print(message)\n",
    "    data = message\n",
    "    m = data.decode(\"utf-8\")\n",
    "    l = m.split(':')\n",
    "\n",
    "    user = l[0]\n",
    "    s = l[1]\n",
    "\n",
    "    text = s.encode('ascii')\n",
    "\n",
    "    #print(user)\n",
    "    #print(text)\n",
    "\n",
    "    return user, text\n",
    "\n",
    "\n",
    "\n",
    "def uploadIPFS(message):\n",
    "    with open(\"txt.txt\", \"wb\") as txt:\n",
    "        txt.write(message)\n",
    "    cmd = [ 'ipfs', 'add', 'txt.txt' ]\n",
    "    out = run(cmd, capture_output=True).stdout\n",
    "    output = out.decode(\"utf-8\")\n",
    "    outputs = output.split(\" \")\n",
    "    uri = outputs[1]\n",
    "    print(uri)\n",
    "    return uri\n",
    "\n",
    "\n",
    "\n",
    "# downloading uri from IPFS\n",
    "def ipfs(uri):\n",
    "    cmd = [ 'ipfs', 'get', uri ]\n",
    "    out = run(cmd, capture_output=True).stdout\n",
    "    output = out.decode(\"utf-8\")\n",
    "    outputs = output.split(\" \")\n",
    "    file = outputs[3]\n",
    "    file = file.rstrip()\n",
    "    # passing file to decryption function\n",
    "    decryption(file)\n",
    "\n",
    "\n",
    "# decrypting message in file\n",
    "def decryption(file):\n",
    "    with open(file, 'rb') as file:\n",
    "        cipher = file.read()\n",
    "\n",
    "    with open('sk_hex.txt', 'r') as file:\n",
    "        secret_key = file.read().replace('\\n', '')\n",
    "\n",
    "    text = decrypt(secret_key, cipher).decode(\"utf-8\")\n",
    "    print(text)\n"
   ]
  },
  {
   "cell_type": "code",
   "execution_count": 14,
   "id": "4a6c65a7",
   "metadata": {},
   "outputs": [
    {
     "name": "stdout",
     "output_type": "stream",
     "text": [
      "QmXgUKUykCk8tL4qSYF4k2yB397D6rLqPcH6kN37eQtrab\n"
     ]
    },
    {
     "ename": "ValueError",
     "evalue": "The public key could not be parsed or is invalid.",
     "output_type": "error",
     "traceback": [
      "\u001b[0;31m---------------------------------------------------------------------------\u001b[0m",
      "\u001b[0;31mValueError\u001b[0m                                Traceback (most recent call last)",
      "\u001b[0;32m<ipython-input-14-413892262a68>\u001b[0m in \u001b[0;36m<module>\u001b[0;34m\u001b[0m\n\u001b[1;32m      3\u001b[0m \u001b[0muri\u001b[0m \u001b[0;34m=\u001b[0m \u001b[0muploadIPFS\u001b[0m\u001b[0;34m(\u001b[0m\u001b[0mtext\u001b[0m\u001b[0;34m)\u001b[0m\u001b[0;34m\u001b[0m\u001b[0;34m\u001b[0m\u001b[0m\n\u001b[1;32m      4\u001b[0m \u001b[0;34m\u001b[0m\u001b[0m\n\u001b[0;32m----> 5\u001b[0;31m \u001b[0mipfs\u001b[0m\u001b[0;34m(\u001b[0m\u001b[0muri\u001b[0m\u001b[0;34m)\u001b[0m\u001b[0;34m\u001b[0m\u001b[0;34m\u001b[0m\u001b[0m\n\u001b[0m",
      "\u001b[0;32m<ipython-input-11-5baff5b1f27a>\u001b[0m in \u001b[0;36mipfs\u001b[0;34m(uri)\u001b[0m\n\u001b[1;32m     50\u001b[0m     \u001b[0mfile\u001b[0m \u001b[0;34m=\u001b[0m \u001b[0mfile\u001b[0m\u001b[0;34m.\u001b[0m\u001b[0mrstrip\u001b[0m\u001b[0;34m(\u001b[0m\u001b[0;34m)\u001b[0m\u001b[0;34m\u001b[0m\u001b[0;34m\u001b[0m\u001b[0m\n\u001b[1;32m     51\u001b[0m     \u001b[0;31m# passing file to decryption function\u001b[0m\u001b[0;34m\u001b[0m\u001b[0;34m\u001b[0m\u001b[0;34m\u001b[0m\u001b[0m\n\u001b[0;32m---> 52\u001b[0;31m     \u001b[0mdecryption\u001b[0m\u001b[0;34m(\u001b[0m\u001b[0mfile\u001b[0m\u001b[0;34m)\u001b[0m\u001b[0;34m\u001b[0m\u001b[0;34m\u001b[0m\u001b[0m\n\u001b[0m\u001b[1;32m     53\u001b[0m \u001b[0;34m\u001b[0m\u001b[0m\n\u001b[1;32m     54\u001b[0m \u001b[0;34m\u001b[0m\u001b[0m\n",
      "\u001b[0;32m<ipython-input-11-5baff5b1f27a>\u001b[0m in \u001b[0;36mdecryption\u001b[0;34m(file)\u001b[0m\n\u001b[1;32m     61\u001b[0m         \u001b[0msecret_key\u001b[0m \u001b[0;34m=\u001b[0m \u001b[0mfile\u001b[0m\u001b[0;34m.\u001b[0m\u001b[0mread\u001b[0m\u001b[0;34m(\u001b[0m\u001b[0;34m)\u001b[0m\u001b[0;34m.\u001b[0m\u001b[0mreplace\u001b[0m\u001b[0;34m(\u001b[0m\u001b[0;34m'\\n'\u001b[0m\u001b[0;34m,\u001b[0m \u001b[0;34m''\u001b[0m\u001b[0;34m)\u001b[0m\u001b[0;34m\u001b[0m\u001b[0;34m\u001b[0m\u001b[0m\n\u001b[1;32m     62\u001b[0m \u001b[0;34m\u001b[0m\u001b[0m\n\u001b[0;32m---> 63\u001b[0;31m     \u001b[0mtext\u001b[0m \u001b[0;34m=\u001b[0m \u001b[0mdecrypt\u001b[0m\u001b[0;34m(\u001b[0m\u001b[0msecret_key\u001b[0m\u001b[0;34m,\u001b[0m \u001b[0mcipher\u001b[0m\u001b[0;34m)\u001b[0m\u001b[0;34m.\u001b[0m\u001b[0mdecode\u001b[0m\u001b[0;34m(\u001b[0m\u001b[0;34m\"utf-8\"\u001b[0m\u001b[0;34m)\u001b[0m\u001b[0;34m\u001b[0m\u001b[0;34m\u001b[0m\u001b[0m\n\u001b[0m\u001b[1;32m     64\u001b[0m     \u001b[0mprint\u001b[0m\u001b[0;34m(\u001b[0m\u001b[0mtext\u001b[0m\u001b[0;34m)\u001b[0m\u001b[0;34m\u001b[0m\u001b[0;34m\u001b[0m\u001b[0m\n",
      "\u001b[0;32m~/.local/lib/python3.8/site-packages/ecies/__init__.py\u001b[0m in \u001b[0;36mdecrypt\u001b[0;34m(receiver_sk, msg)\u001b[0m\n\u001b[1;32m     61\u001b[0m     \u001b[0mpubkey\u001b[0m \u001b[0;34m=\u001b[0m \u001b[0mmsg\u001b[0m\u001b[0;34m[\u001b[0m\u001b[0;36m0\u001b[0m\u001b[0;34m:\u001b[0m\u001b[0;36m65\u001b[0m\u001b[0;34m]\u001b[0m  \u001b[0;31m# uncompressed pubkey's length is 65 bytes\u001b[0m\u001b[0;34m\u001b[0m\u001b[0;34m\u001b[0m\u001b[0m\n\u001b[1;32m     62\u001b[0m     \u001b[0mencrypted\u001b[0m \u001b[0;34m=\u001b[0m \u001b[0mmsg\u001b[0m\u001b[0;34m[\u001b[0m\u001b[0;36m65\u001b[0m\u001b[0;34m:\u001b[0m\u001b[0;34m]\u001b[0m\u001b[0;34m\u001b[0m\u001b[0;34m\u001b[0m\u001b[0m\n\u001b[0;32m---> 63\u001b[0;31m     \u001b[0mephemeral_public_key\u001b[0m \u001b[0;34m=\u001b[0m \u001b[0mPublicKey\u001b[0m\u001b[0;34m(\u001b[0m\u001b[0mpubkey\u001b[0m\u001b[0;34m)\u001b[0m\u001b[0;34m\u001b[0m\u001b[0;34m\u001b[0m\u001b[0m\n\u001b[0m\u001b[1;32m     64\u001b[0m \u001b[0;34m\u001b[0m\u001b[0m\n\u001b[1;32m     65\u001b[0m     \u001b[0maes_key\u001b[0m \u001b[0;34m=\u001b[0m \u001b[0mdecapsulate\u001b[0m\u001b[0;34m(\u001b[0m\u001b[0mephemeral_public_key\u001b[0m\u001b[0;34m,\u001b[0m \u001b[0mprivate_key\u001b[0m\u001b[0;34m)\u001b[0m\u001b[0;34m\u001b[0m\u001b[0;34m\u001b[0m\u001b[0m\n",
      "\u001b[0;32m~/.local/lib/python3.8/site-packages/coincurve/keys.py\u001b[0m in \u001b[0;36m__init__\u001b[0;34m(self, data, context)\u001b[0m\n\u001b[1;32m    273\u001b[0m \u001b[0;34m\u001b[0m\u001b[0m\n\u001b[1;32m    274\u001b[0m             \u001b[0;32mif\u001b[0m \u001b[0;32mnot\u001b[0m \u001b[0mparsed\u001b[0m\u001b[0;34m:\u001b[0m\u001b[0;34m\u001b[0m\u001b[0;34m\u001b[0m\u001b[0m\n\u001b[0;32m--> 275\u001b[0;31m                 \u001b[0;32mraise\u001b[0m \u001b[0mValueError\u001b[0m\u001b[0;34m(\u001b[0m\u001b[0;34m'The public key could not be parsed or is invalid.'\u001b[0m\u001b[0;34m)\u001b[0m\u001b[0;34m\u001b[0m\u001b[0;34m\u001b[0m\u001b[0m\n\u001b[0m\u001b[1;32m    276\u001b[0m \u001b[0;34m\u001b[0m\u001b[0m\n\u001b[1;32m    277\u001b[0m             \u001b[0mself\u001b[0m\u001b[0;34m.\u001b[0m\u001b[0mpublic_key\u001b[0m \u001b[0;34m=\u001b[0m \u001b[0mpublic_key\u001b[0m\u001b[0;34m\u001b[0m\u001b[0;34m\u001b[0m\u001b[0m\n",
      "\u001b[0;31mValueError\u001b[0m: The public key could not be parsed or is invalid."
     ]
    }
   ],
   "source": [
    "#print(message)\n",
    "user, text = cleanData(message)\n",
    "uri = uploadIPFS(text)\n",
    "\n",
    "ipfs(uri)"
   ]
  },
  {
   "cell_type": "code",
   "execution_count": null,
   "id": "46789b83",
   "metadata": {},
   "outputs": [],
   "source": []
  },
  {
   "cell_type": "code",
   "execution_count": 203,
   "id": "1ee30166",
   "metadata": {},
   "outputs": [
    {
     "name": "stdout",
     "output_type": "stream",
     "text": [
      "anon.session\t      pk_hex.txt\r\n",
      "anon.session-journal  pk.txt\r\n",
      "ballistic_calculator  PrimeNumber.cpp\r\n",
      "chat.ipynb\t      QmQ1Zbb8C9icXbrJmG1coSy2thNXft9SCxfZ1iiCi9XmQb\r\n",
      "client.py\t      QmSa6YAGTS4gjojzdW35LADPEjQNzjjBaZzTEWtoLh2h6u\r\n",
      "cryptography.ipynb    sample.txt\r\n",
      "Desktop\t\t      server.py\r\n",
      "Documents\t      sk_hex.txt\r\n",
      "Downloads\t      snap\r\n",
      "enabledesktop.sh      teddyMosaic-Copy1.ipynb\r\n",
      "go\t\t      teddyMosaic.ipynb\r\n",
      "isPrime.cpp\t      test.html\r\n",
      "katya.sol\t      test.py\r\n",
      "message.session       txt.txt\r\n",
      "message.txt\t      Untitled1.ipynb\r\n",
      "movieMosaic.ipynb     Untitled2.ipynb\r\n",
      "Music\t\t      Untitled-Copy1.ipynb\r\n",
      "myprivatekey.pem      Untitled.ipynb\r\n",
      "node_modules\t      Videos\r\n",
      "Pictures\t      work\r\n"
     ]
    }
   ],
   "source": [
    "!ls\n"
   ]
  },
  {
   "cell_type": "code",
   "execution_count": 195,
   "id": "6eff298e",
   "metadata": {},
   "outputs": [
    {
     "ename": "FileNotFoundError",
     "evalue": "[Errno 2] No such file or directory: 'QmVmdLDVV3Ro9FfWNf4cqqzu4iVHVeapZQBcPFmhq33rJm'",
     "output_type": "error",
     "traceback": [
      "\u001b[0;31m---------------------------------------------------------------------------\u001b[0m",
      "\u001b[0;31mFileNotFoundError\u001b[0m                         Traceback (most recent call last)",
      "\u001b[0;32m<ipython-input-195-e49175f50c94>\u001b[0m in \u001b[0;36m<module>\u001b[0;34m\u001b[0m\n\u001b[0;32m----> 1\u001b[0;31m \u001b[0;32mwith\u001b[0m \u001b[0mopen\u001b[0m\u001b[0;34m(\u001b[0m\u001b[0muri\u001b[0m\u001b[0;34m,\u001b[0m \u001b[0;34m'rb'\u001b[0m\u001b[0;34m)\u001b[0m \u001b[0;32mas\u001b[0m \u001b[0mfile\u001b[0m\u001b[0;34m:\u001b[0m\u001b[0;34m\u001b[0m\u001b[0;34m\u001b[0m\u001b[0m\n\u001b[0m\u001b[1;32m      2\u001b[0m     \u001b[0mcipher\u001b[0m \u001b[0;34m=\u001b[0m \u001b[0mfile\u001b[0m\u001b[0;34m.\u001b[0m\u001b[0mread\u001b[0m\u001b[0;34m(\u001b[0m\u001b[0;34m)\u001b[0m\u001b[0;34m\u001b[0m\u001b[0;34m\u001b[0m\u001b[0m\n",
      "\u001b[0;31mFileNotFoundError\u001b[0m: [Errno 2] No such file or directory: 'QmVmdLDVV3Ro9FfWNf4cqqzu4iVHVeapZQBcPFmhq33rJm'"
     ]
    }
   ],
   "source": [
    "\n",
    "\n",
    "with open(uri, 'rb') as file:\n",
    "    cipher = file.read()"
   ]
  },
  {
   "cell_type": "code",
   "execution_count": null,
   "id": "4a8b728a",
   "metadata": {},
   "outputs": [],
   "source": []
  },
  {
   "cell_type": "code",
   "execution_count": null,
   "id": "b3f6da48",
   "metadata": {},
   "outputs": [],
   "source": []
  },
  {
   "cell_type": "code",
   "execution_count": null,
   "id": "50b751c8",
   "metadata": {},
   "outputs": [],
   "source": []
  },
  {
   "cell_type": "code",
   "execution_count": null,
   "id": "c1336d0f",
   "metadata": {},
   "outputs": [],
   "source": []
  },
  {
   "cell_type": "code",
   "execution_count": 245,
   "id": "b2242b04",
   "metadata": {},
   "outputs": [],
   "source": [
    "users = {'alex': [\"<socket.socket fd=4, family=AddressFamily.AF_INET, type=SocketKind.SOCK_STREAM, proto=0, laddr=('127.0.0.1', 5035), raddr=('127.0.0.1', 38826)>\", \"('127.0.0.1', 38826)\"], 'john': [\"<socket.socket fd=5, family=AddressFamily.AF_INET, type=SocketKind.SOCK_STREAM, proto=0, laddr=('127.0.0.1', 5035), raddr=('127.0.0.1', 38828)>\", \"('127.0.0.1', 38828)\"]}"
   ]
  },
  {
   "cell_type": "code",
   "execution_count": 247,
   "id": "867897ef",
   "metadata": {},
   "outputs": [
    {
     "data": {
      "text/plain": [
       "\"<socket.socket fd=4, family=AddressFamily.AF_INET, type=SocketKind.SOCK_STREAM, proto=0, laddr=('127.0.0.1', 5035), raddr=('127.0.0.1', 38826)>\""
      ]
     },
     "execution_count": 247,
     "metadata": {},
     "output_type": "execute_result"
    }
   ],
   "source": [
    "users[\"alex\"][0]"
   ]
  },
  {
   "cell_type": "code",
   "execution_count": null,
   "id": "236a7c68",
   "metadata": {},
   "outputs": [],
   "source": []
  },
  {
   "cell_type": "code",
   "execution_count": null,
   "id": "d49a780a",
   "metadata": {},
   "outputs": [],
   "source": []
  },
  {
   "cell_type": "code",
   "execution_count": null,
   "id": "a836eb79",
   "metadata": {},
   "outputs": [],
   "source": []
  },
  {
   "cell_type": "code",
   "execution_count": 7,
   "id": "287a1128",
   "metadata": {},
   "outputs": [],
   "source": [
    "def ipfs(uri):\n",
    "    cmd = [ 'ipfs', 'get', uri ]\n",
    "    out = run(cmd, capture_output=True).stdout\n",
    "    output = out.decode(\"utf-8\")\n",
    "    outputs = output.split(\" \")\n",
    "    file = outputs[3]\n",
    "    file = file.rstrip()\n",
    "    # passing file to decryption function\n",
    "    decryption(file)\n",
    "\n",
    "\n",
    "# decrypting message in file\n",
    "def decryption(file):\n",
    "    with open(file, 'rb') as file:\n",
    "        cipher = file.read()\n",
    "\n",
    "    with open('sk_hex.txt', 'r') as file:\n",
    "        secret_key = file.read().replace('\\n', '')\n",
    "\n",
    "    text = decrypt(secret_key, cipher).decode(\"utf-8\")\n",
    "    print(text)"
   ]
  },
  {
   "cell_type": "code",
   "execution_count": 8,
   "id": "5cc01458",
   "metadata": {},
   "outputs": [
    {
     "ename": "ValueError",
     "evalue": "The public key could not be parsed or is invalid.",
     "output_type": "error",
     "traceback": [
      "\u001b[0;31m---------------------------------------------------------------------------\u001b[0m",
      "\u001b[0;31mValueError\u001b[0m                                Traceback (most recent call last)",
      "\u001b[0;32m<ipython-input-8-66a855514d2d>\u001b[0m in \u001b[0;36m<module>\u001b[0;34m\u001b[0m\n\u001b[1;32m      1\u001b[0m \u001b[0muri\u001b[0m \u001b[0;34m=\u001b[0m \u001b[0;34m\"QmWqoUk7E6qbP2nTRUewnTKiY1u1fnf5GCj6mBJ8TEJwb9\"\u001b[0m\u001b[0;34m\u001b[0m\u001b[0;34m\u001b[0m\u001b[0m\n\u001b[0;32m----> 2\u001b[0;31m \u001b[0mipfs\u001b[0m\u001b[0;34m(\u001b[0m\u001b[0muri\u001b[0m\u001b[0;34m)\u001b[0m\u001b[0;34m\u001b[0m\u001b[0;34m\u001b[0m\u001b[0m\n\u001b[0m",
      "\u001b[0;32m<ipython-input-7-4156d7b867c5>\u001b[0m in \u001b[0;36mipfs\u001b[0;34m(uri)\u001b[0m\n\u001b[1;32m      7\u001b[0m     \u001b[0mfile\u001b[0m \u001b[0;34m=\u001b[0m \u001b[0mfile\u001b[0m\u001b[0;34m.\u001b[0m\u001b[0mrstrip\u001b[0m\u001b[0;34m(\u001b[0m\u001b[0;34m)\u001b[0m\u001b[0;34m\u001b[0m\u001b[0;34m\u001b[0m\u001b[0m\n\u001b[1;32m      8\u001b[0m     \u001b[0;31m# passing file to decryption function\u001b[0m\u001b[0;34m\u001b[0m\u001b[0;34m\u001b[0m\u001b[0;34m\u001b[0m\u001b[0m\n\u001b[0;32m----> 9\u001b[0;31m     \u001b[0mdecryption\u001b[0m\u001b[0;34m(\u001b[0m\u001b[0mfile\u001b[0m\u001b[0;34m)\u001b[0m\u001b[0;34m\u001b[0m\u001b[0;34m\u001b[0m\u001b[0m\n\u001b[0m\u001b[1;32m     10\u001b[0m \u001b[0;34m\u001b[0m\u001b[0m\n\u001b[1;32m     11\u001b[0m \u001b[0;34m\u001b[0m\u001b[0m\n",
      "\u001b[0;32m<ipython-input-7-4156d7b867c5>\u001b[0m in \u001b[0;36mdecryption\u001b[0;34m(file)\u001b[0m\n\u001b[1;32m     18\u001b[0m         \u001b[0msecret_key\u001b[0m \u001b[0;34m=\u001b[0m \u001b[0mfile\u001b[0m\u001b[0;34m.\u001b[0m\u001b[0mread\u001b[0m\u001b[0;34m(\u001b[0m\u001b[0;34m)\u001b[0m\u001b[0;34m.\u001b[0m\u001b[0mreplace\u001b[0m\u001b[0;34m(\u001b[0m\u001b[0;34m'\\n'\u001b[0m\u001b[0;34m,\u001b[0m \u001b[0;34m''\u001b[0m\u001b[0;34m)\u001b[0m\u001b[0;34m\u001b[0m\u001b[0;34m\u001b[0m\u001b[0m\n\u001b[1;32m     19\u001b[0m \u001b[0;34m\u001b[0m\u001b[0m\n\u001b[0;32m---> 20\u001b[0;31m     \u001b[0mtext\u001b[0m \u001b[0;34m=\u001b[0m \u001b[0mdecrypt\u001b[0m\u001b[0;34m(\u001b[0m\u001b[0msecret_key\u001b[0m\u001b[0;34m,\u001b[0m \u001b[0mcipher\u001b[0m\u001b[0;34m)\u001b[0m\u001b[0;34m.\u001b[0m\u001b[0mdecode\u001b[0m\u001b[0;34m(\u001b[0m\u001b[0;34m\"utf-8\"\u001b[0m\u001b[0;34m)\u001b[0m\u001b[0;34m\u001b[0m\u001b[0;34m\u001b[0m\u001b[0m\n\u001b[0m\u001b[1;32m     21\u001b[0m     \u001b[0mprint\u001b[0m\u001b[0;34m(\u001b[0m\u001b[0mtext\u001b[0m\u001b[0;34m)\u001b[0m\u001b[0;34m\u001b[0m\u001b[0;34m\u001b[0m\u001b[0m\n",
      "\u001b[0;32m~/.local/lib/python3.8/site-packages/ecies/__init__.py\u001b[0m in \u001b[0;36mdecrypt\u001b[0;34m(receiver_sk, msg)\u001b[0m\n\u001b[1;32m     61\u001b[0m     \u001b[0mpubkey\u001b[0m \u001b[0;34m=\u001b[0m \u001b[0mmsg\u001b[0m\u001b[0;34m[\u001b[0m\u001b[0;36m0\u001b[0m\u001b[0;34m:\u001b[0m\u001b[0;36m65\u001b[0m\u001b[0;34m]\u001b[0m  \u001b[0;31m# uncompressed pubkey's length is 65 bytes\u001b[0m\u001b[0;34m\u001b[0m\u001b[0;34m\u001b[0m\u001b[0m\n\u001b[1;32m     62\u001b[0m     \u001b[0mencrypted\u001b[0m \u001b[0;34m=\u001b[0m \u001b[0mmsg\u001b[0m\u001b[0;34m[\u001b[0m\u001b[0;36m65\u001b[0m\u001b[0;34m:\u001b[0m\u001b[0;34m]\u001b[0m\u001b[0;34m\u001b[0m\u001b[0;34m\u001b[0m\u001b[0m\n\u001b[0;32m---> 63\u001b[0;31m     \u001b[0mephemeral_public_key\u001b[0m \u001b[0;34m=\u001b[0m \u001b[0mPublicKey\u001b[0m\u001b[0;34m(\u001b[0m\u001b[0mpubkey\u001b[0m\u001b[0;34m)\u001b[0m\u001b[0;34m\u001b[0m\u001b[0;34m\u001b[0m\u001b[0m\n\u001b[0m\u001b[1;32m     64\u001b[0m \u001b[0;34m\u001b[0m\u001b[0m\n\u001b[1;32m     65\u001b[0m     \u001b[0maes_key\u001b[0m \u001b[0;34m=\u001b[0m \u001b[0mdecapsulate\u001b[0m\u001b[0;34m(\u001b[0m\u001b[0mephemeral_public_key\u001b[0m\u001b[0;34m,\u001b[0m \u001b[0mprivate_key\u001b[0m\u001b[0;34m)\u001b[0m\u001b[0;34m\u001b[0m\u001b[0;34m\u001b[0m\u001b[0m\n",
      "\u001b[0;32m~/.local/lib/python3.8/site-packages/coincurve/keys.py\u001b[0m in \u001b[0;36m__init__\u001b[0;34m(self, data, context)\u001b[0m\n\u001b[1;32m    273\u001b[0m \u001b[0;34m\u001b[0m\u001b[0m\n\u001b[1;32m    274\u001b[0m             \u001b[0;32mif\u001b[0m \u001b[0;32mnot\u001b[0m \u001b[0mparsed\u001b[0m\u001b[0;34m:\u001b[0m\u001b[0;34m\u001b[0m\u001b[0;34m\u001b[0m\u001b[0m\n\u001b[0;32m--> 275\u001b[0;31m                 \u001b[0;32mraise\u001b[0m \u001b[0mValueError\u001b[0m\u001b[0;34m(\u001b[0m\u001b[0;34m'The public key could not be parsed or is invalid.'\u001b[0m\u001b[0;34m)\u001b[0m\u001b[0;34m\u001b[0m\u001b[0;34m\u001b[0m\u001b[0m\n\u001b[0m\u001b[1;32m    276\u001b[0m \u001b[0;34m\u001b[0m\u001b[0m\n\u001b[1;32m    277\u001b[0m             \u001b[0mself\u001b[0m\u001b[0;34m.\u001b[0m\u001b[0mpublic_key\u001b[0m \u001b[0;34m=\u001b[0m \u001b[0mpublic_key\u001b[0m\u001b[0;34m\u001b[0m\u001b[0;34m\u001b[0m\u001b[0m\n",
      "\u001b[0;31mValueError\u001b[0m: The public key could not be parsed or is invalid."
     ]
    }
   ],
   "source": [
    "uri = \"QmWqoUk7E6qbP2nTRUewnTKiY1u1fnf5GCj6mBJ8TEJwb9\"\n",
    "ipfs(uri)"
   ]
  },
  {
   "cell_type": "code",
   "execution_count": null,
   "id": "20c3abe6",
   "metadata": {},
   "outputs": [],
   "source": []
  },
  {
   "cell_type": "code",
   "execution_count": null,
   "id": "0cd8cc7b",
   "metadata": {},
   "outputs": [],
   "source": []
  },
  {
   "cell_type": "code",
   "execution_count": null,
   "id": "ea4c638a",
   "metadata": {},
   "outputs": [],
   "source": []
  },
  {
   "cell_type": "code",
   "execution_count": 97,
   "id": "92c53bad",
   "metadata": {},
   "outputs": [
    {
     "data": {
      "text/plain": [
       "b'QmPCrPRViVxG3XGhSu6eZWUszvTSBbaBo4uwdgPVSPAKzJ'"
      ]
     },
     "execution_count": 97,
     "metadata": {},
     "output_type": "execute_result"
    }
   ],
   "source": [
    "\"QmPCrPRViVxG3XGhSu6eZWUszvTSBbaBo4uwdgPVSPAKzJ\".encode('ascii')"
   ]
  },
  {
   "cell_type": "code",
   "execution_count": null,
   "id": "7decd32b",
   "metadata": {},
   "outputs": [],
   "source": []
  },
  {
   "cell_type": "code",
   "execution_count": null,
   "id": "f3aa4a13",
   "metadata": {},
   "outputs": [],
   "source": []
  },
  {
   "cell_type": "code",
   "execution_count": null,
   "id": "5aa48dfe",
   "metadata": {},
   "outputs": [],
   "source": []
  },
  {
   "cell_type": "code",
   "execution_count": 98,
   "id": "6f0487f3",
   "metadata": {},
   "outputs": [],
   "source": [
    "# downloading uri from IPFS\n",
    "def ipfs(uri):\n",
    "    cmd = [ 'ipfs', 'get', uri ]\n",
    "    out = run(cmd, capture_output=True).stdout\n",
    "    output = out.decode(\"utf-8\")\n",
    "    outputs = output.split(\" \")\n",
    "    file = outputs[3]\n",
    "    file = file.rstrip()\n",
    "    \n",
    "    dec(file)\n",
    "    \n",
    "# decrypting message in file\n",
    "def dec(file):\n",
    "    with open(file, 'rb') as file:\n",
    "        cipher = file.read()\n",
    "    \n",
    "    with open('sk_hex.txt', 'r') as file:\n",
    "        secret_key = file.read().replace('\\n', '')\n",
    "\n",
    "    text = decrypt(secret_key, cipher).decode(\"utf-8\")\n",
    "    print(text)"
   ]
  },
  {
   "cell_type": "code",
   "execution_count": 99,
   "id": "92ceb747",
   "metadata": {},
   "outputs": [
    {
     "ename": "ValueError",
     "evalue": "The public key could not be parsed or is invalid.",
     "output_type": "error",
     "traceback": [
      "\u001b[0;31m---------------------------------------------------------------------------\u001b[0m",
      "\u001b[0;31mValueError\u001b[0m                                Traceback (most recent call last)",
      "\u001b[0;32m<ipython-input-99-a33bc5275d62>\u001b[0m in \u001b[0;36m<module>\u001b[0;34m\u001b[0m\n\u001b[0;32m----> 1\u001b[0;31m \u001b[0mipfs\u001b[0m\u001b[0;34m(\u001b[0m\u001b[0;34m\"QmbaC7DwK8gUALbJFvbFdsMScPs2YUztP25Vezy4BVnmEU\"\u001b[0m\u001b[0;34m)\u001b[0m\u001b[0;34m\u001b[0m\u001b[0;34m\u001b[0m\u001b[0m\n\u001b[0m",
      "\u001b[0;32m<ipython-input-98-3f4be9975fb5>\u001b[0m in \u001b[0;36mipfs\u001b[0;34m(uri)\u001b[0m\n\u001b[1;32m      7\u001b[0m     \u001b[0mfile\u001b[0m \u001b[0;34m=\u001b[0m \u001b[0moutputs\u001b[0m\u001b[0;34m[\u001b[0m\u001b[0;36m3\u001b[0m\u001b[0;34m]\u001b[0m\u001b[0;34m\u001b[0m\u001b[0;34m\u001b[0m\u001b[0m\n\u001b[1;32m      8\u001b[0m     \u001b[0mfile\u001b[0m \u001b[0;34m=\u001b[0m \u001b[0mfile\u001b[0m\u001b[0;34m.\u001b[0m\u001b[0mrstrip\u001b[0m\u001b[0;34m(\u001b[0m\u001b[0;34m)\u001b[0m\u001b[0;34m\u001b[0m\u001b[0;34m\u001b[0m\u001b[0m\n\u001b[0;32m----> 9\u001b[0;31m     \u001b[0mdec\u001b[0m\u001b[0;34m(\u001b[0m\u001b[0mfile\u001b[0m\u001b[0;34m)\u001b[0m\u001b[0;34m\u001b[0m\u001b[0;34m\u001b[0m\u001b[0m\n\u001b[0m\u001b[1;32m     10\u001b[0m \u001b[0;34m\u001b[0m\u001b[0m\n\u001b[1;32m     11\u001b[0m \u001b[0;31m# decrypting message in file\u001b[0m\u001b[0;34m\u001b[0m\u001b[0;34m\u001b[0m\u001b[0;34m\u001b[0m\u001b[0m\n",
      "\u001b[0;32m<ipython-input-98-3f4be9975fb5>\u001b[0m in \u001b[0;36mdec\u001b[0;34m(file)\u001b[0m\n\u001b[1;32m     17\u001b[0m         \u001b[0msecret_key\u001b[0m \u001b[0;34m=\u001b[0m \u001b[0mfile\u001b[0m\u001b[0;34m.\u001b[0m\u001b[0mread\u001b[0m\u001b[0;34m(\u001b[0m\u001b[0;34m)\u001b[0m\u001b[0;34m.\u001b[0m\u001b[0mreplace\u001b[0m\u001b[0;34m(\u001b[0m\u001b[0;34m'\\n'\u001b[0m\u001b[0;34m,\u001b[0m \u001b[0;34m''\u001b[0m\u001b[0;34m)\u001b[0m\u001b[0;34m\u001b[0m\u001b[0;34m\u001b[0m\u001b[0m\n\u001b[1;32m     18\u001b[0m \u001b[0;34m\u001b[0m\u001b[0m\n\u001b[0;32m---> 19\u001b[0;31m     \u001b[0mtext\u001b[0m \u001b[0;34m=\u001b[0m \u001b[0mdecrypt\u001b[0m\u001b[0;34m(\u001b[0m\u001b[0msecret_key\u001b[0m\u001b[0;34m,\u001b[0m \u001b[0mcipher\u001b[0m\u001b[0;34m)\u001b[0m\u001b[0;34m.\u001b[0m\u001b[0mdecode\u001b[0m\u001b[0;34m(\u001b[0m\u001b[0;34m\"utf-8\"\u001b[0m\u001b[0;34m)\u001b[0m\u001b[0;34m\u001b[0m\u001b[0;34m\u001b[0m\u001b[0m\n\u001b[0m\u001b[1;32m     20\u001b[0m     \u001b[0mprint\u001b[0m\u001b[0;34m(\u001b[0m\u001b[0mtext\u001b[0m\u001b[0;34m)\u001b[0m\u001b[0;34m\u001b[0m\u001b[0;34m\u001b[0m\u001b[0m\n",
      "\u001b[0;32m~/.local/lib/python3.8/site-packages/ecies/__init__.py\u001b[0m in \u001b[0;36mdecrypt\u001b[0;34m(receiver_sk, msg)\u001b[0m\n\u001b[1;32m     61\u001b[0m     \u001b[0mpubkey\u001b[0m \u001b[0;34m=\u001b[0m \u001b[0mmsg\u001b[0m\u001b[0;34m[\u001b[0m\u001b[0;36m0\u001b[0m\u001b[0;34m:\u001b[0m\u001b[0;36m65\u001b[0m\u001b[0;34m]\u001b[0m  \u001b[0;31m# uncompressed pubkey's length is 65 bytes\u001b[0m\u001b[0;34m\u001b[0m\u001b[0;34m\u001b[0m\u001b[0m\n\u001b[1;32m     62\u001b[0m     \u001b[0mencrypted\u001b[0m \u001b[0;34m=\u001b[0m \u001b[0mmsg\u001b[0m\u001b[0;34m[\u001b[0m\u001b[0;36m65\u001b[0m\u001b[0;34m:\u001b[0m\u001b[0;34m]\u001b[0m\u001b[0;34m\u001b[0m\u001b[0;34m\u001b[0m\u001b[0m\n\u001b[0;32m---> 63\u001b[0;31m     \u001b[0mephemeral_public_key\u001b[0m \u001b[0;34m=\u001b[0m \u001b[0mPublicKey\u001b[0m\u001b[0;34m(\u001b[0m\u001b[0mpubkey\u001b[0m\u001b[0;34m)\u001b[0m\u001b[0;34m\u001b[0m\u001b[0;34m\u001b[0m\u001b[0m\n\u001b[0m\u001b[1;32m     64\u001b[0m \u001b[0;34m\u001b[0m\u001b[0m\n\u001b[1;32m     65\u001b[0m     \u001b[0maes_key\u001b[0m \u001b[0;34m=\u001b[0m \u001b[0mdecapsulate\u001b[0m\u001b[0;34m(\u001b[0m\u001b[0mephemeral_public_key\u001b[0m\u001b[0;34m,\u001b[0m \u001b[0mprivate_key\u001b[0m\u001b[0;34m)\u001b[0m\u001b[0;34m\u001b[0m\u001b[0;34m\u001b[0m\u001b[0m\n",
      "\u001b[0;32m~/.local/lib/python3.8/site-packages/coincurve/keys.py\u001b[0m in \u001b[0;36m__init__\u001b[0;34m(self, data, context)\u001b[0m\n\u001b[1;32m    273\u001b[0m \u001b[0;34m\u001b[0m\u001b[0m\n\u001b[1;32m    274\u001b[0m             \u001b[0;32mif\u001b[0m \u001b[0;32mnot\u001b[0m \u001b[0mparsed\u001b[0m\u001b[0;34m:\u001b[0m\u001b[0;34m\u001b[0m\u001b[0;34m\u001b[0m\u001b[0m\n\u001b[0;32m--> 275\u001b[0;31m                 \u001b[0;32mraise\u001b[0m \u001b[0mValueError\u001b[0m\u001b[0;34m(\u001b[0m\u001b[0;34m'The public key could not be parsed or is invalid.'\u001b[0m\u001b[0;34m)\u001b[0m\u001b[0;34m\u001b[0m\u001b[0;34m\u001b[0m\u001b[0m\n\u001b[0m\u001b[1;32m    276\u001b[0m \u001b[0;34m\u001b[0m\u001b[0m\n\u001b[1;32m    277\u001b[0m             \u001b[0mself\u001b[0m\u001b[0;34m.\u001b[0m\u001b[0mpublic_key\u001b[0m \u001b[0;34m=\u001b[0m \u001b[0mpublic_key\u001b[0m\u001b[0;34m\u001b[0m\u001b[0;34m\u001b[0m\u001b[0m\n",
      "\u001b[0;31mValueError\u001b[0m: The public key could not be parsed or is invalid."
     ]
    }
   ],
   "source": [
    "ipfs(\"QmbaC7DwK8gUALbJFvbFdsMScPs2YUztP25Vezy4BVnmEU\")"
   ]
  },
  {
   "cell_type": "code",
   "execution_count": 101,
   "id": "49939a60",
   "metadata": {},
   "outputs": [
    {
     "ename": "TypeError",
     "evalue": "expected str, bytes or os.PathLike object, not _io.BufferedReader",
     "output_type": "error",
     "traceback": [
      "\u001b[0;31m---------------------------------------------------------------------------\u001b[0m",
      "\u001b[0;31mTypeError\u001b[0m                                 Traceback (most recent call last)",
      "\u001b[0;32m<ipython-input-101-436e2ea06901>\u001b[0m in \u001b[0;36m<module>\u001b[0;34m\u001b[0m\n\u001b[0;32m----> 1\u001b[0;31m \u001b[0;32mwith\u001b[0m \u001b[0mopen\u001b[0m\u001b[0;34m(\u001b[0m\u001b[0mfile\u001b[0m\u001b[0;34m,\u001b[0m \u001b[0;34m'rb'\u001b[0m\u001b[0;34m)\u001b[0m \u001b[0;32mas\u001b[0m \u001b[0mfile\u001b[0m\u001b[0;34m:\u001b[0m\u001b[0;34m\u001b[0m\u001b[0;34m\u001b[0m\u001b[0m\n\u001b[0m\u001b[1;32m      2\u001b[0m     \u001b[0mcipher\u001b[0m \u001b[0;34m=\u001b[0m \u001b[0mfile\u001b[0m\u001b[0;34m.\u001b[0m\u001b[0mread\u001b[0m\u001b[0;34m(\u001b[0m\u001b[0;34m)\u001b[0m\u001b[0;34m\u001b[0m\u001b[0;34m\u001b[0m\u001b[0m\n",
      "\u001b[0;31mTypeError\u001b[0m: expected str, bytes or os.PathLike object, not _io.BufferedReader"
     ]
    }
   ],
   "source": [
    "with open(file, 'rb') as file:\n",
    "    cipher = file.read()"
   ]
  },
  {
   "cell_type": "code",
   "execution_count": null,
   "id": "fd50b31b",
   "metadata": {},
   "outputs": [],
   "source": []
  }
 ],
 "metadata": {
  "kernelspec": {
   "display_name": "Python 3",
   "language": "python",
   "name": "python3"
  },
  "language_info": {
   "codemirror_mode": {
    "name": "ipython",
    "version": 3
   },
   "file_extension": ".py",
   "mimetype": "text/x-python",
   "name": "python",
   "nbconvert_exporter": "python",
   "pygments_lexer": "ipython3",
   "version": "3.8.10"
  }
 },
 "nbformat": 4,
 "nbformat_minor": 5
}
