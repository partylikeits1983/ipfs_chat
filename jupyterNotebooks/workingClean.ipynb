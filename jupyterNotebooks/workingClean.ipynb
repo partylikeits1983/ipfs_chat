{
 "cells": [
  {
   "cell_type": "code",
   "execution_count": 1,
   "id": "d3eadd06",
   "metadata": {},
   "outputs": [],
   "source": [
    "from tinyec import registry\n",
    "from Crypto.Cipher import AES\n",
    "import hashlib, secrets, binascii\n",
    "import tinyec.ec as ec\n",
    "\n",
    "def encrypt_AES_GCM(msg, secretKey):\n",
    "    aesCipher = AES.new(secretKey, AES.MODE_GCM)\n",
    "    ciphertext, authTag = aesCipher.encrypt_and_digest(msg)\n",
    "    return (ciphertext, aesCipher.nonce, authTag)\n",
    "\n",
    "def decrypt_AES_GCM(ciphertext, nonce, authTag, secretKey):\n",
    "    aesCipher = AES.new(secretKey, AES.MODE_GCM, nonce)\n",
    "    plaintext = aesCipher.decrypt_and_verify(ciphertext, authTag)\n",
    "    return plaintext\n",
    "\n",
    "def ecc_point_to_256_bit_key(point):\n",
    "    sha = hashlib.sha256(int.to_bytes(point.x, 32, 'big'))\n",
    "    sha.update(int.to_bytes(point.y, 32, 'big'))\n",
    "    return sha.digest()\n",
    "\n",
    "def encrypt_ECC(msg, pubKey):\n",
    "    curve = registry.get_curve('brainpoolP256r1')\n",
    "    ciphertextPrivKey = secrets.randbelow(curve.field.n)\n",
    "    sharedECCKey = ciphertextPrivKey * pubKey\n",
    "    secretKey = ecc_point_to_256_bit_key(sharedECCKey)\n",
    "    ciphertext, nonce, authTag = encrypt_AES_GCM(msg, secretKey)\n",
    "    ciphertextPubKey = ciphertextPrivKey * curve.g\n",
    "    return (ciphertext, nonce, authTag, ciphertextPubKey)\n",
    "\n",
    "def decrypt_ECC(encryptedMsg, privKey):\n",
    "    (ciphertext, nonce, authTag, ciphertextPubKey) = encryptedMsg\n",
    "    sharedECCKey = privKey * ciphertextPubKey\n",
    "    secretKey = ecc_point_to_256_bit_key(sharedECCKey)\n",
    "    plaintext = decrypt_AES_GCM(ciphertext, nonce, authTag, secretKey)\n",
    "    return plaintext"
   ]
  },
  {
   "cell_type": "code",
   "execution_count": 2,
   "id": "28fb98de",
   "metadata": {},
   "outputs": [
    {
     "name": "stdout",
     "output_type": "stream",
     "text": [
      "private key: 0xf0e5d568ff4a1d7368f8be29d9ae97ee7936a8a36fea1009f2e8577048086a1\n",
      "public key: 0x437b792a0ed5d4df63fdf7f5caa521fc6f771d5e8709cb58d9188772811f95c30x99ec81558673cbef5060ccdbe3014c334e6698f095f51fc7cb63405a4342ea10\n"
     ]
    }
   ],
   "source": [
    "###### KEY GEN SCRIPT ##########\n",
    "from tinyec import registry\n",
    "from Crypto.Cipher import AES\n",
    "import hashlib, secrets, binascii\n",
    "import tinyec.ec as ec\n",
    "\n",
    "# convert pubKey thing to hex\n",
    "def compress_point(point):\n",
    "    return hex(point.x) + hex(point.y)\n",
    "\n",
    "# generate keys\n",
    "def keyGen():\n",
    "    \n",
    "    # obviously you can change the curve values\n",
    "    curve = registry.get_curve('brainpoolP256r1')\n",
    "    \n",
    "    privKey = secrets.randbelow(curve.field.n)\n",
    "    pubKey = privKey * curve.g\n",
    "    \n",
    "    return privKey, pubKey\n",
    "    \n",
    "    \n",
    "privKey, pubKey = keyGen()\n",
    "\n",
    "privKeyHex = hex(privKey)\n",
    "pubKeyHex = compress_point(pubKey)\n",
    "\n",
    "\n",
    "with open(\"privKey.txt\", \"w\") as privk:\n",
    "    privk.write(str(privKeyHex))\n",
    "\n",
    "with open(\"pubKey.txt\", \"w\") as pubk:\n",
    "    pubk.write(str(pubKeyHex))\n",
    "    \n",
    "print(\"private key: \" + str(privKeyHex))\n",
    "print(\"public key: \" + str(pubKeyHex))"
   ]
  },
  {
   "cell_type": "code",
   "execution_count": 3,
   "id": "3d328856",
   "metadata": {},
   "outputs": [],
   "source": [
    "# compress x and y values to hex\n",
    "def compress_point(point):\n",
    "    pubKeyHex = hex(point.x) + hex(point.y)\n",
    "    return pubKeyHex\n",
    "\n",
    "# convert pubKeyHex to ec.Point\n",
    "def decompress_point(curve, pubKeyHex):\n",
    "    n = 0\n",
    "    x = \"\"\n",
    "    y = \"\"\n",
    "\n",
    "    l = len(str(pubKeyHex))\n",
    "    length = l/2\n",
    "    \n",
    "    for i in pubKeyHex:\n",
    "        if n < length:\n",
    "            x+=i\n",
    "        else:\n",
    "            y+=i     \n",
    "        n+=1\n",
    "        \n",
    "    x = int(x,16)\n",
    "    y = int(y,16)\n",
    "    \n",
    "    p = ec.Point(curve,x,y)\n",
    "    \n",
    "    return p"
   ]
  },
  {
   "cell_type": "code",
   "execution_count": 4,
   "id": "070a5a5f",
   "metadata": {},
   "outputs": [],
   "source": [
    "# initial user input \n",
    "def messageInput():\n",
    "    message = str(input(\"Message: \"))\n",
    "    return message\n",
    "    \n",
    "\n",
    "def encryptUserInput(message, pubKey):\n",
    "    msg = message.encode(\"ascii\")\n",
    "    \n",
    "    # in the future users can choose which curve\n",
    "    curve = registry.get_curve('brainpoolP256r1')\n",
    "    \n",
    "    encryptedMsg = encrypt_ECC(msg, pubKey)\n",
    "\n",
    "    # put encryptedMsg in dictionary\n",
    "    encryptedMsgDic = {\n",
    "    'ciphertext': binascii.hexlify(encryptedMsg[0]),\n",
    "    'nonce': binascii.hexlify(encryptedMsg[1]),\n",
    "    'authTag': binascii.hexlify(encryptedMsg[2]),\n",
    "    'x': hex(encryptedMsg[3].x),\n",
    "    'y': hex(encryptedMsg[3].y)\n",
    "    }\n",
    "    # convert all vals in encryptedMsgDic to str\n",
    "    a = str(encryptedMsgDic[\"ciphertext\"])\n",
    "    b = str(encryptedMsgDic[\"nonce\"])\n",
    "    c = str(encryptedMsgDic[\"authTag\"])\n",
    "    d = str(encryptedMsgDic[\"x\"])\n",
    "    e = str(encryptedMsgDic[\"y\"])\n",
    "\n",
    "    encryptedMsgDicStr = {\n",
    "        'a': a,\n",
    "        'b': b,\n",
    "        'c': c,\n",
    "        'd': d,\n",
    "        'e': e\n",
    "    }\n",
    "    \n",
    "    # convert encryptedMsgDicStr to string with : as separation of vals\n",
    "    cipherstr = ''\n",
    "    for i in encryptedMsgDicStr:\n",
    "        cipherstr += encryptedMsgDicStr[i] + ' : '\n",
    "\n",
    "    #encode cipherstr and send it  \n",
    "    m = cipherstr.encode(\"ascii\")\n",
    "    \n",
    "    return m\n",
    "\n"
   ]
  },
  {
   "cell_type": "code",
   "execution_count": 5,
   "id": "53045a94",
   "metadata": {},
   "outputs": [
    {
     "name": "stdout",
     "output_type": "stream",
     "text": [
      "To: asdfasdf\n",
      "Message: asdfasdfasdfasdfasdfasdf\n",
      "b'asdfasdf~ b\"b\\'77e1348d17a755cb39ae0587904c1c041086d793de455c94\\' : b\\'27b0ca61438c69aa82cd1efed4a51c48\\' : b\\'abc371654276d11c5e817089aa8aea5a\\' : 0x620d7c1d2533f1785c177a5bf4e816916b44403851a2ff97c8d2e71f40c580ed : 0x5cb980191cb5cd7c7fcf8109df835747b712d9fa9e609f6ccc5069365af985f2 : \"'\n"
     ]
    }
   ],
   "source": [
    "def connector():\n",
    "\n",
    "        # the pubKey is essentially the address of the other user\n",
    "    with open(\"pubKey.txt\", \"r\") as pubk:\n",
    "        pubKeyHex = pubk.read()\n",
    "        \n",
    "    # get PUBLIC KEY POINT\n",
    "    curve = registry.get_curve('brainpoolP256r1')\n",
    "    \n",
    "    pubKey = decompress_point(curve,pubKeyHex)\n",
    "\n",
    "    message = messageInput()\n",
    "    encryptedMsgS = encryptUserInput(message, pubKey)\n",
    "\n",
    "    return encryptedMsgS\n",
    "\n",
    "\n",
    "\n",
    "message = '{}~ {}'.format(input(\"To: \"), connector())\n",
    "\n",
    "\n",
    "message = message.encode('ascii')\n",
    "\n",
    "print(message)\n",
    "\n",
    "################################ SEND THROUGH SERVER #####################"
   ]
  },
  {
   "cell_type": "code",
   "execution_count": 6,
   "id": "176ec3ec",
   "metadata": {},
   "outputs": [],
   "source": [
    "############### SERVER #################"
   ]
  },
  {
   "cell_type": "code",
   "execution_count": 16,
   "id": "d063271f",
   "metadata": {},
   "outputs": [],
   "source": [
    "from subprocess import run\n",
    "from ecies import encrypt, decrypt\n",
    "\n",
    "\n",
    "def cleanData(message):\n",
    "    data = message\n",
    "    m = data.decode(\"utf-8\")\n",
    "    l = m.split('~')\n",
    "\n",
    "    user = l[0]\n",
    "    text = l[1]\n",
    "    \n",
    "    text = eval(text)\n",
    "\n",
    "    return user, text\n",
    "\n",
    "\n",
    "\n",
    "# server side upload function\n",
    "def uploadIPFS(message):\n",
    "    with open(\"txt.txt\", \"wb\") as txt:\n",
    "        txt.write(message)\n",
    "    cmd = [ 'ipfs', 'add', 'txt.txt' ]\n",
    "    out = run(cmd, capture_output=True).stdout\n",
    "    output = out.decode(\"utf-8\")\n",
    "    outputs = output.split(\" \")\n",
    "    uri = outputs[1]\n",
    "    return uri\n"
   ]
  },
  {
   "cell_type": "code",
   "execution_count": 17,
   "id": "9969b76c",
   "metadata": {},
   "outputs": [
    {
     "name": "stdout",
     "output_type": "stream",
     "text": [
      "<class 'str'>\n"
     ]
    }
   ],
   "source": [
    "user, text = cleanData(message)\n",
    "uri = uploadIPFS(text)\n",
    "\n",
    "print(type(uri))"
   ]
  },
  {
   "cell_type": "code",
   "execution_count": 9,
   "id": "e4916fc0",
   "metadata": {},
   "outputs": [],
   "source": [
    "########## CLIENT ##############"
   ]
  },
  {
   "cell_type": "code",
   "execution_count": null,
   "id": "09910001",
   "metadata": {},
   "outputs": [],
   "source": []
  },
  {
   "cell_type": "code",
   "execution_count": 10,
   "id": "d00002b4",
   "metadata": {},
   "outputs": [],
   "source": [
    "### download from IPFS\n",
    "def ipfs(uri):\n",
    "    cmd = [ 'ipfs', 'get', uri ]\n",
    "    out = run(cmd, capture_output=True).stdout\n",
    "    output = out.decode(\"utf-8\")\n",
    "    outputs = output.split(\" \")\n",
    "    file = outputs[3]\n",
    "    file = file.rstrip()\n",
    "    return file\n",
    "    \n",
    "# opening file\n",
    "def dec(file):\n",
    "    with open(file, 'rb') as file:\n",
    "        cipher = file.read()\n",
    "        return cipher"
   ]
  },
  {
   "cell_type": "code",
   "execution_count": 11,
   "id": "d45808d2",
   "metadata": {},
   "outputs": [],
   "source": [
    "# rebuild data structure\n",
    "def decryptMessage(m):\n",
    "    d = m.decode(\"ascii\")\n",
    "    \n",
    "    array = d.split(': ')\n",
    "    \n",
    "    print(array)\n",
    "    \n",
    "    #a = array[0].replace(\"\\\\\", \"\")\n",
    "    \n",
    "    a = array[0].strip()\n",
    "    a = eval(a)\n",
    "    ciphertext = binascii.unhexlify(a)\n",
    "\n",
    "    b = array[1].strip()\n",
    "    b = eval(b)\n",
    "    nonce = binascii.unhexlify(b)\n",
    "\n",
    "    c = array[2].strip()\n",
    "    c = eval(c)\n",
    "    authTag = binascii.unhexlify(c)\n",
    "\n",
    "    x = array[3].strip()\n",
    "    y = array[4].strip()\n",
    "    \n",
    "    # convert x,y to int \n",
    "    x = int(x,16)\n",
    "    y = int(y,16)\n",
    "    \n",
    "    curve = registry.get_curve('brainpoolP256r1')\n",
    "    \n",
    "    p = ec.Point(curve,x,y)\n",
    "    \n",
    "    array = [ciphertext, nonce, authTag, p]\n",
    "    \n",
    "    encryptedMsgS = tuple(array)\n",
    "    \n",
    "    return encryptedMsgS"
   ]
  },
  {
   "cell_type": "code",
   "execution_count": 12,
   "id": "008f248f",
   "metadata": {},
   "outputs": [
    {
     "name": "stdout",
     "output_type": "stream",
     "text": [
      "[\"b'77e1348d17a755cb39ae0587904c1c041086d793de455c94' \", \"b'27b0ca61438c69aa82cd1efed4a51c48' \", \"b'abc371654276d11c5e817089aa8aea5a' \", '0x620d7c1d2533f1785c177a5bf4e816916b44403851a2ff97c8d2e71f40c580ed ', '0x5cb980191cb5cd7c7fcf8109df835747b712d9fa9e609f6ccc5069365af985f2 ', '']\n",
      "b'asdfasdfasdfasdfasdfasdf'\n"
     ]
    },
    {
     "data": {
      "text/plain": [
       "b'asdfasdfasdfasdfasdfasdf'"
      ]
     },
     "execution_count": 12,
     "metadata": {},
     "output_type": "execute_result"
    }
   ],
   "source": [
    "\n",
    "\n",
    "\n",
    "def connector2(uri):\n",
    "    file = ipfs(uri)\n",
    "    cipher = dec(file)\n",
    "    encryptedMsgS = decryptMessage(cipher)\n",
    "    \n",
    "    with open(\"privKey.txt\", \"r\") as privK:\n",
    "        privKeyHex = privK.read()\n",
    "\n",
    "    privKey = int(privKeyHex,16)\n",
    "    \n",
    "    message = decrypt_ECC(encryptedMsgS, privKey)\n",
    "    \n",
    "    print(message)\n",
    "    \n",
    "    return message\n",
    "\n",
    "connector2()"
   ]
  },
  {
   "cell_type": "code",
   "execution_count": null,
   "id": "17686057",
   "metadata": {},
   "outputs": [],
   "source": []
  },
  {
   "cell_type": "code",
   "execution_count": 1,
   "id": "1d36f728",
   "metadata": {},
   "outputs": [],
   "source": [
    "###############3"
   ]
  },
  {
   "cell_type": "code",
   "execution_count": null,
   "id": "b24cc0b3",
   "metadata": {},
   "outputs": [],
   "source": []
  },
  {
   "cell_type": "code",
   "execution_count": null,
   "id": "2daf80fb",
   "metadata": {},
   "outputs": [],
   "source": []
  },
  {
   "cell_type": "code",
   "execution_count": 30,
   "id": "b9c352bb",
   "metadata": {},
   "outputs": [
    {
     "ename": "NameError",
     "evalue": "name 'banner' is not defined",
     "output_type": "error",
     "traceback": [
      "\u001b[0;31m---------------------------------------------------------------------------\u001b[0m",
      "\u001b[0;31mNameError\u001b[0m                                 Traceback (most recent call last)",
      "\u001b[0;32m<ipython-input-30-e3b45725ef5c>\u001b[0m in \u001b[0;36m<module>\u001b[0;34m\u001b[0m\n\u001b[1;32m     34\u001b[0m \u001b[0;34m\u001b[0m\u001b[0m\n\u001b[1;32m     35\u001b[0m \u001b[0;32mwhile\u001b[0m \u001b[0;32mTrue\u001b[0m\u001b[0;34m:\u001b[0m\u001b[0;34m\u001b[0m\u001b[0;34m\u001b[0m\u001b[0m\n\u001b[0;32m---> 36\u001b[0;31m     \u001b[0mbanner\u001b[0m\u001b[0;34m.\u001b[0m\u001b[0mbanner\u001b[0m\u001b[0;34m(\u001b[0m\u001b[0;34m)\u001b[0m\u001b[0;34m\u001b[0m\u001b[0;34m\u001b[0m\u001b[0m\n\u001b[0m\u001b[1;32m     37\u001b[0m     \u001b[0mbanner\u001b[0m\u001b[0;34m.\u001b[0m\u001b[0minfolist0\u001b[0m\u001b[0;34m(\u001b[0m\u001b[0;34m)\u001b[0m\u001b[0;34m\u001b[0m\u001b[0;34m\u001b[0m\u001b[0m\n\u001b[1;32m     38\u001b[0m \u001b[0;34m\u001b[0m\u001b[0m\n",
      "\u001b[0;31mNameError\u001b[0m: name 'banner' is not defined"
     ]
    }
   ],
   "source": [
    "import os\n",
    "import sys\n",
    "import platform\n",
    "import pip\n",
    "from subprocess import getoutput\n",
    "#from modules import banner\n",
    "#from modules import localhost\n",
    "\n",
    "\n",
    "\n",
    "if platform.uname()[0] == \"Windows\":\n",
    "    print(\"\\n This Tool Only Works On Linux Distributions\\n\")\n",
    "    exit()\n",
    "else:\n",
    "    pass\n",
    "\n",
    "root = os.environ.get('USER')\n",
    "if root != \"root\":\n",
    "    exit(\"You need to have root privileges to run this script.\\nPlease try again, this time using 'sudo'. Exiting.\")\n",
    "\n",
    "\n",
    "check_php = getoutput(\"php -v\")\n",
    "if \"not found\" in check_php:\n",
    "    exit(\"please install php \\n command > sudo apt install php\")\n",
    "\n",
    "try:\n",
    "    from colorama import Fore \n",
    "    import requests\n",
    "    from pyngrok import ngrok\n",
    "    \n",
    "except ImportError:\n",
    "    print(\"please install library \\n command > python3 -m pip install -r requirments.txt\")\n",
    "\n",
    "\n",
    "while True:\n",
    "    banner.banner()\n",
    "    banner.infolist0()\n",
    "    \n",
    "\n",
    "    try:\n",
    "\n",
    "        input1 = input(Fore.RED+\" ┌─[\"+Fore.LIGHTGREEN_EX+\"STORM-BREAKER\"+Fore.BLUE+\"~\"+Fore.WHITE+\"@HOME\"+Fore.RED+\"\"\"]\n",
    " └──╼ \"\"\"+Fore.WHITE+\"$ \")\n",
    "        \n",
    "        if input1 == \"1\":\n",
    "            localhost.webcham()\n",
    "        \n",
    "        elif input1 == \"2\":\n",
    "            banner.banner()   \n",
    "            localhost.micro()\n",
    "        \n",
    "        elif input1 == \"3\":\n",
    "            banner.banner()\n",
    "            localhost.screen()\n",
    "\n",
    "        \n",
    "\n",
    "        elif input1 == \"4\":\n",
    "            banner.banner()\n",
    "            localhost.location()\n",
    "        \n",
    "        elif input1 == \"5\":\n",
    "            banner.banner()\n",
    "            banner.Settings()\n",
    "\n",
    "        elif input1 == \"6\":\n",
    "            print(\"\\n God Lock :) \")\n",
    "            sys.exit()\n",
    "\n",
    "        \n",
    "            \n",
    "\n",
    "\n",
    "\n",
    "    except KeyboardInterrupt:\n",
    "        print(\"\")\n",
    "        sys.exit()"
   ]
  },
  {
   "cell_type": "code",
   "execution_count": null,
   "id": "975649bb",
   "metadata": {},
   "outputs": [],
   "source": []
  },
  {
   "cell_type": "code",
   "execution_count": 41,
   "id": "5ee358db",
   "metadata": {},
   "outputs": [
    {
     "data": {
      "text/plain": [
       "'URIs/QmRo6UuXT5SoRbXHv12v5E1grrJVENYYnBUfjmkaJEBdgZ'"
      ]
     },
     "execution_count": 41,
     "metadata": {},
     "output_type": "execute_result"
    }
   ],
   "source": [
    "from subprocess import run\n",
    "\n",
    "def ipfs(uri):\n",
    "\n",
    "    path = \"URIs/\"\n",
    "\n",
    "    cmd = [ 'ipfs', 'get', uri, f\"--output={path}{uri}\"]\n",
    "    out = run(cmd, capture_output=True).stdout\n",
    "    output = out.decode(\"utf-8\")\n",
    "    outputs = output.split(\" \")\n",
    "    file = outputs[3]\n",
    "    file = file.rstrip()\n",
    "    return file\n",
    "\n",
    "\n",
    "ipfs(\"QmRo6UuXT5SoRbXHv12v5E1grrJVENYYnBUfjmkaJEBdgZ\")"
   ]
  },
  {
   "cell_type": "code",
   "execution_count": 40,
   "id": "521a076f",
   "metadata": {},
   "outputs": [
    {
     "data": {
      "text/plain": [
       "'QmRo6UuXT5SoRbXHv12v5E1grrJVENYYnBUfjmkaJEBdgZ'"
      ]
     },
     "execution_count": 40,
     "metadata": {},
     "output_type": "execute_result"
    }
   ],
   "source": [
    "def ipfs(uri):\n",
    "    cmd = [ 'ipfs', 'get', uri ]\n",
    "    out = run(cmd, capture_output=True).stdout\n",
    "    output = out.decode(\"utf-8\")\n",
    "    outputs = output.split(\" \")\n",
    "    file = outputs[3]\n",
    "    file = file.rstrip()\n",
    "    return file\n",
    "\n",
    "\n",
    "ipfs(\"QmRo6UuXT5SoRbXHv12v5E1grrJVENYYnBUfjmkaJEBdgZ\")"
   ]
  },
  {
   "cell_type": "code",
   "execution_count": null,
   "id": "285038c7",
   "metadata": {},
   "outputs": [],
   "source": []
  }
 ],
 "metadata": {
  "kernelspec": {
   "display_name": "Python 3",
   "language": "python",
   "name": "python3"
  },
  "language_info": {
   "codemirror_mode": {
    "name": "ipython",
    "version": 3
   },
   "file_extension": ".py",
   "mimetype": "text/x-python",
   "name": "python",
   "nbconvert_exporter": "python",
   "pygments_lexer": "ipython3",
   "version": "3.8.10"
  }
 },
 "nbformat": 4,
 "nbformat_minor": 5
}
